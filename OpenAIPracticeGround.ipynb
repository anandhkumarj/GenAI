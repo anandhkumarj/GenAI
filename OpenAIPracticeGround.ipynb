{
 "cells": [
  {
   "cell_type": "code",
   "execution_count": 25,
   "metadata": {},
   "outputs": [],
   "source": [
    "from langchain_openai import ChatOpenAI\n",
    "from getpass import getpass\n",
    "import os\n",
    "f = open('openaikey.txt')\n",
    "os.environ[\"OPENAI_API_KEY\"]=f.read()\n",
    "##place your OpenAI API key after running this cell\n",
    "llm = ChatOpenAI()"
   ]
  },
  {
   "cell_type": "code",
   "execution_count": 28,
   "metadata": {},
   "outputs": [
    {
     "name": "stdout",
     "output_type": "stream",
     "text": [
      "Assistant Response:  Hello! How can I assist you today?\n",
      "Assistant Response:  I'm just a computer program, so I don't have feelings, but I'm here and ready to help you with anything you need! How can I assist you today?\n",
      "Assistant Response:  I'm sorry, but I am unable to provide real-time weather information. You can check the weather in Calgary, Alberta, Canada by using a weather website or app like Weather.com or AccuWeather.\n",
      "Assistant Response: Thank you for this great conversation. See you later.\n"
     ]
    }
   ],
   "source": [
    "start_sequence = \"\\nA:\"\n",
    "restart_sequence = \"\\n\\nQ: \"\n",
    "while True:\n",
    "    curr_prompt = input(\"User Message: \")\n",
    "    if curr_prompt.lower() == \"stop\":\n",
    "        print(\"Assistant Response: Thank you for this great conversation. See you later.\")\n",
    "        break\n",
    "\n",
    "    message = [\n",
    "        (\n",
    "            \"system\", \n",
    "            \"You are a helpful assistant.\"\n",
    "        ),\n",
    "        ( \n",
    "            \"human\", \n",
    "            curr_prompt\n",
    "        )\n",
    "    ]\n",
    "    #print(message)\n",
    "    response = llm.invoke(message)\n",
    "    #print(response)\n",
    "    print(\"Assistant Response: \", response.content)\n"
   ]
  }
 ],
 "metadata": {
  "kernelspec": {
   "display_name": "Python 3",
   "language": "python",
   "name": "python3"
  },
  "language_info": {
   "codemirror_mode": {
    "name": "ipython",
    "version": 3
   },
   "file_extension": ".py",
   "mimetype": "text/x-python",
   "name": "python",
   "nbconvert_exporter": "python",
   "pygments_lexer": "ipython3",
   "version": "3.12.2"
  }
 },
 "nbformat": 4,
 "nbformat_minor": 2
}

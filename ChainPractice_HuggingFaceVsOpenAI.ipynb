{
 "cells": [
  {
   "cell_type": "code",
   "execution_count": 28,
   "metadata": {},
   "outputs": [],
   "source": [
    "#from langchain import HuggingFaceHub\n",
    "import os\n",
    "f = open('huggingface.txt')\n",
    "HUGGINGFACEHUB_API_TOKEN = f.read()\n",
    "#place your huggingface API key after running this cell\n",
    "os.environ[\"HUGGINGFACEHUB_API_TOKEN\"] = HUGGINGFACEHUB_API_TOKEN\n",
    "\n",
    "f = open('openaikey.txt')\n",
    "os.environ[\"OPENAI_API_KEY\"]=f.read()\n"
   ]
  },
  {
   "cell_type": "code",
   "execution_count": 29,
   "metadata": {},
   "outputs": [],
   "source": [
    "from langchain_huggingface import ChatHuggingFace,HuggingFaceEndpoint\n",
    "from langchain.chains.llm import LLMChain\n",
    "from langchain.prompts import PromptTemplate\n",
    "from langchain.schema import StrOutputParser\n",
    "from langchain.schema.runnable import RunnablePassthrough\n",
    "from langchain_openai import ChatOpenAI"
   ]
  },
  {
   "cell_type": "code",
   "execution_count": 30,
   "metadata": {},
   "outputs": [],
   "source": [
    "'''\n",
    "llm = HuggingFaceEndpoint(\n",
    "    repo_id=\"HuggingFaceH4/zephyr-7b-beta\",\n",
    "    task=\"text-generation\",\n",
    "    max_new_tokens=1000,\n",
    "    top_k=30,\n",
    "    temperature=0.1,\n",
    "    repetition_penalty=1.03\n",
    ")\n",
    "'''\n",
    "\n",
    "llm = ChatOpenAI()\n"
   ]
  },
  {
   "cell_type": "code",
   "execution_count": 31,
   "metadata": {},
   "outputs": [],
   "source": [
    "template = \"\"\"You are a writer. Given the name of an book and the color of it, it is your job to write a brief note about the book.\n",
    "            Name: {name} Color: {color} Note: This is a brief note about the above mentioned book:\"\"\"\n",
    "\n",
    "prompt_template = PromptTemplate(input_variables=[\"name\", \"color\"], template=template)\n",
    "\n",
    "chain1 = prompt_template | llm | StrOutputParser()\n"
   ]
  },
  {
   "cell_type": "code",
   "execution_count": 32,
   "metadata": {},
   "outputs": [],
   "source": [
    "result = chain1.invoke({\"name\":\"Happy Moon\", \"color\": \"red and yellow\"})"
   ]
  },
  {
   "cell_type": "code",
   "execution_count": 33,
   "metadata": {},
   "outputs": [
    {
     "name": "stdout",
     "output_type": "stream",
     "text": [
      "\"Happy Moon\" is a heartwarming tale about a young girl who dreams of visiting the moon. With its vibrant red and yellow cover, this book captures the whimsical and adventurous spirit of the story within. Join the girl on her magical journey as she discovers the beauty and wonder of the moon, spreading joy and happiness wherever she goes. This enchanting book is sure to inspire readers of all ages to reach for the stars and follow their dreams.\n"
     ]
    }
   ],
   "source": [
    "print(result)"
   ]
  },
  {
   "cell_type": "code",
   "execution_count": 34,
   "metadata": {},
   "outputs": [],
   "source": [
    "template = \"\"\"You are a reviewer of the content. Given the review about a book, it is your job to write a review for that writeup.\n",
    "              Book Summary:{writeup}  and Review of summary:\"\"\"\n",
    "#Prompt with 1 input\n",
    "prompt_template2 = PromptTemplate(input_variables=[\"writeup\"], template=template)\n",
    "chain2 = prompt_template2 | llm | StrOutputParser()"
   ]
  },
  {
   "cell_type": "code",
   "execution_count": 35,
   "metadata": {},
   "outputs": [],
   "source": [
    "\n",
    "result2 = chain2.invoke({\"writeup\":result})"
   ]
  },
  {
   "cell_type": "code",
   "execution_count": 36,
   "metadata": {},
   "outputs": [
    {
     "name": "stdout",
     "output_type": "stream",
     "text": [
      "\"Happy Moon\" is a delightful and enchanting story that will capture the hearts of readers young and old. The vibrant cover sets the tone for the whimsical and adventurous tale that lies within. The young girl's dream of visiting the moon is beautifully portrayed, and her journey is filled with beauty, wonder, and joy. This book is sure to inspire readers to reach for the stars and follow their dreams, making it a perfect read for anyone looking for a little bit of magic in their lives. Highly recommended for those who believe in the power of dreams and the beauty of the unknown.\n"
     ]
    }
   ],
   "source": [
    "print(result2)"
   ]
  },
  {
   "cell_type": "code",
   "execution_count": 43,
   "metadata": {},
   "outputs": [],
   "source": [
    "\n",
    "combinedchain = {\"writeup\":chain1} | RunnablePassthrough.assign(summary=chain2)\n"
   ]
  },
  {
   "cell_type": "code",
   "execution_count": 44,
   "metadata": {},
   "outputs": [],
   "source": [
    "result3 = combinedchain.invoke({\"name\":\"Happy Moon\", \"color\": \"red and yellow\"})"
   ]
  },
  {
   "cell_type": "code",
   "execution_count": 47,
   "metadata": {},
   "outputs": [
    {
     "name": "stdout",
     "output_type": "stream",
     "text": [
      "{'writeup': '\"Happy Moon\" is a heartwarming story full of warmth and positivity, depicted through vibrant illustrations in shades of red and yellow. The book follows the journey of a young girl who finds solace and joy in gazing at the moon, discovering the beauty of the world around her. Through its colorful pages, readers are reminded of the simple pleasures in life and the magic that can be found in everyday moments. A delightful read for all ages, \"Happy Moon\" is sure to bring a smile to your face and fill your heart with happiness.', 'summary': '\"Happy Moon\" is a delightful and heartwarming story that is sure to bring joy to readers of all ages. The vibrant illustrations in shades of red and yellow perfectly complement the uplifting message of finding beauty and happiness in the world around us. The young girl\\'s journey of finding solace and joy in gazing at the moon is a reminder of the simple pleasures in life and the magic that can be found in everyday moments. This book is a perfect read for anyone looking for a feel-good story that will leave you with a smile on your face and warmth in your heart. Highly recommended for children and adults alike.'}\n"
     ]
    }
   ],
   "source": [
    "print(result3)"
   ]
  }
 ],
 "metadata": {
  "kernelspec": {
   "display_name": "Python 3",
   "language": "python",
   "name": "python3"
  },
  "language_info": {
   "codemirror_mode": {
    "name": "ipython",
    "version": 3
   },
   "file_extension": ".py",
   "mimetype": "text/x-python",
   "name": "python",
   "nbconvert_exporter": "python",
   "pygments_lexer": "ipython3",
   "version": "3.12.2"
  }
 },
 "nbformat": 4,
 "nbformat_minor": 2
}

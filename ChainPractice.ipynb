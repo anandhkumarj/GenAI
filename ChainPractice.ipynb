{
 "cells": [
  {
   "cell_type": "code",
   "execution_count": 9,
   "metadata": {},
   "outputs": [],
   "source": [
    "#!pip3 install langchain_openai"
   ]
  },
  {
   "cell_type": "code",
   "execution_count": 11,
   "metadata": {},
   "outputs": [],
   "source": [
    "import os\n",
    "f = open('openaikey.txt')\n",
    "os.environ[\"OPENAI_API_KEY\"]=f.read()"
   ]
  },
  {
   "cell_type": "code",
   "execution_count": 78,
   "metadata": {},
   "outputs": [],
   "source": [
    "from langchain.llms import OpenAI\n",
    "from langchain.chains import LLMChain\n",
    "from langchain.prompts import PromptTemplate\n",
    "from langchain.chains import SimpleSequentialChain\n",
    "llm = OpenAI()\n"
   ]
  },
  {
   "cell_type": "code",
   "execution_count": 80,
   "metadata": {},
   "outputs": [],
   "source": [
    "# Prompt template that take user input directly\n",
    "template = \"\"\"Your task is to find the movie name which won Academy Awards / Best Picture in the year that user suggests.\n",
    "% YEAR\n",
    "{year}\n",
    "YOUR RESPONSE:\n",
    "\"\"\"\n",
    "prompt_template = PromptTemplate(input_variables=[\"year\"], template=template)\n",
    "# Create chain that will take in the 'year' value and give the name of the movie as output\n",
    "year_chain = LLMChain(llm=llm, prompt=prompt_template)\n"
   ]
  },
  {
   "cell_type": "code",
   "execution_count": 81,
   "metadata": {},
   "outputs": [],
   "source": [
    "# Prompt template that will consume output of the previous LLM chain\n",
    "template = \"\"\"Given the movie name, give a short summary of the plot of that movie.\n",
    "% MOVIE_NAME\n",
    "{movie_name}\n",
    "YOUR RESPONSE:\n",
    "\"\"\"\n",
    "prompt_template = PromptTemplate(input_variables=[\"movie_name\"], template=template)\n",
    "# Create chain that will give the plot of the movie give the value of \"movie_name\" variable\n",
    "plot_chain = LLMChain(llm=llm, prompt=prompt_template)\n"
   ]
  },
  {
   "cell_type": "code",
   "execution_count": 82,
   "metadata": {},
   "outputs": [],
   "source": [
    "# Instantiating the Simple Sequential Chain, the order in which chain variable names to \"chains\" argument are passed matters here!!\n",
    "movie_plot_chain = SimpleSequentialChain(chains=[year_chain, plot_chain], \n",
    "\t\t\t\t\t\t\t\t\t\t verbose=True\n",
    "\t\t\t\t\t\t\t\t\t\t )\n"
   ]
  },
  {
   "cell_type": "code",
   "execution_count": 87,
   "metadata": {},
   "outputs": [
    {
     "name": "stdout",
     "output_type": "stream",
     "text": [
      "\n",
      "\n",
      "\u001b[1m> Entering new SimpleSequentialChain chain...\u001b[0m\n",
      "\u001b[36;1m\u001b[1;3m\n",
      "The movie that won Academy Awards / Best Picture in 1999 was \"American Beauty\".\u001b[0m\n",
      "\u001b[33;1m\u001b[1;3m\n",
      "\"American Beauty\" follows the story of Lester Burnham, a middle-aged man going through a midlife crisis. His marriage is falling apart, he hates his job, and he becomes infatuated with his daughter's best friend. As he starts to rebel against societal norms and expectations, his actions have a ripple effect on those around him, ultimately leading to a shocking and tragic ending. The film explores themes of beauty, freedom, and the facade of the American Dream.\u001b[0m\n",
      "\n",
      "\u001b[1m> Finished chain.\u001b[0m\n"
     ]
    }
   ],
   "source": [
    "# Executing the chain, observe that we just gave the year and nothing else, \n",
    "# still the chain found the movie name and also summarized its plot!! \n",
    "review = movie_plot_chain.run(\"1999\")\n"
   ]
  }
 ],
 "metadata": {
  "kernelspec": {
   "display_name": "Python 3",
   "language": "python",
   "name": "python3"
  },
  "language_info": {
   "codemirror_mode": {
    "name": "ipython",
    "version": 3
   },
   "file_extension": ".py",
   "mimetype": "text/x-python",
   "name": "python",
   "nbconvert_exporter": "python",
   "pygments_lexer": "ipython3",
   "version": "3.12.2"
  }
 },
 "nbformat": 4,
 "nbformat_minor": 2
}

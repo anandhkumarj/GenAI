{
 "cells": [
  {
   "cell_type": "code",
   "execution_count": null,
   "metadata": {},
   "outputs": [],
   "source": [
    "import os\n",
    "f = open('openaikey.txt')\n",
    "os.environ[\"OPENAI_API_KEY\"]=f.read()\n",
    "os.environ.get(\"OPENAI_API_KEY\")"
   ]
  },
  {
   "cell_type": "code",
   "execution_count": null,
   "metadata": {},
   "outputs": [],
   "source": [
    "from langchain_core.prompts import (\n",
    "    ChatPromptTemplate\n",
    ")\n",
    "from datetime import datetime\n",
    "from langchain_openai import OpenAI\n",
    "from langchain_openai import ChatOpenAI\n",
    "from langchain.output_parsers import DatetimeOutputParser"
   ]
  },
  {
   "cell_type": "code",
   "execution_count": null,
   "metadata": {},
   "outputs": [],
   "source": [
    "class HistoryQuiz():\n",
    "    \n",
    "    def create_history_question(self,topic):\n",
    "        '''\n",
    "        This method is to generate a history question based on a topic and question that could expect date as answer\n",
    "        '''\n",
    "        prompt_template = ChatPromptTemplate.from_messages(\n",
    "            [\n",
    "                (\n",
    "                    \"system\",\n",
    "                    \"you are a quiz master, you only return the question\"\n",
    "                ),\n",
    "                (\n",
    "                    \"human\",\n",
    "                    \"Generate a single history quiz question on the topic {topic} where the correct answer is a specific date\"   \n",
    "                )\n",
    "            ]\n",
    "        )\n",
    "        request = prompt_template.invoke(\n",
    "            {\n",
    "                \"topic\": topic\n",
    "            }\n",
    "        )\n",
    "        chat_bot = ChatOpenAI()\n",
    "        result = chat_bot.invoke(request)\n",
    "        return result.content\n",
    "    \n",
    "    def get_ai_answer(self, question):\n",
    "        '''\n",
    "        This method will retrieve the answer from the OpenAI in a date format\n",
    "\n",
    "        '''\n",
    "        datetimeparser = DatetimeOutputParser()\n",
    "        prompt_template = ChatPromptTemplate.from_messages(\n",
    "            [\n",
    "                (\n",
    "                    \"system\",\n",
    "                    \"your answer to the quiz question with just the date\"\n",
    "                ),\n",
    "                (\n",
    "                    \"human\",\n",
    "                    \" Answer the user question \\n{question} \\n {format_instruction}\"\n",
    "                )\n",
    "            ]\n",
    "        )\n",
    "\n",
    "        request = prompt_template.invoke(\n",
    "            {\n",
    "                \"question\":question,\n",
    "                \"format_instruction\":datetimeparser.get_format_instructions()\n",
    "            }\n",
    "        )\n",
    "\n",
    "        chat_bot = ChatOpenAI()\n",
    "        \n",
    "        result = chat_bot.invoke(request);\n",
    "        return datetimeparser.parse(result.content)\n",
    "    \n",
    "    def get_user_answers(self, question):\n",
    "        print(question)\n",
    "        print('\\n')\n",
    "        year = int(input(\"Enter the year : \"))\n",
    "        month = int(input(\"Enter the month: \"))\n",
    "        day = int(input(\"Enter the day: \"))\n",
    "\n",
    "        return datetime(year,month,day)\n",
    "    \n",
    "    def compar_answers(self, useranswer, aianswer):\n",
    "        difference = useranswer-aianswer\n",
    "        formatted_diff = str(difference)\n",
    "        print('the diff between your answer and the actual answer is ', formatted_diff)"
   ]
  },
  {
   "cell_type": "code",
   "execution_count": null,
   "metadata": {},
   "outputs": [],
   "source": [
    "quizbot = HistoryQuiz()\n"
   ]
  },
  {
   "cell_type": "code",
   "execution_count": null,
   "metadata": {},
   "outputs": [],
   "source": [
    "quiz_question = quizbot.create_history_question(topic=\"Science\")\n",
    "print(quiz_question)\n",
    "answer = quizbot.get_ai_answer(quiz_question)\n",
    "print(answer)"
   ]
  },
  {
   "cell_type": "code",
   "execution_count": null,
   "metadata": {},
   "outputs": [],
   "source": [
    "user_answer = quizbot.get_user_answers(quiz_question)"
   ]
  }
 ],
 "metadata": {
  "kernelspec": {
   "display_name": "Python 3",
   "language": "python",
   "name": "python3"
  },
  "language_info": {
   "codemirror_mode": {
    "name": "ipython",
    "version": 3
   },
   "file_extension": ".py",
   "mimetype": "text/x-python",
   "name": "python",
   "nbconvert_exporter": "python",
   "pygments_lexer": "ipython3",
   "version": "3.12.2"
  }
 },
 "nbformat": 4,
 "nbformat_minor": 2
}

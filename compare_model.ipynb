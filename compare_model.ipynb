{
 "cells": [
  {
   "cell_type": "code",
   "execution_count": 6,
   "metadata": {},
   "outputs": [
    {
     "name": "stdout",
     "output_type": "stream",
     "text": [
      "Note: you may need to restart the kernel to use updated packages.\n"
     ]
    }
   ],
   "source": [
    "pip install -U --quiet langchain-huggingface"
   ]
  },
  {
   "cell_type": "code",
   "execution_count": 16,
   "metadata": {},
   "outputs": [],
   "source": [
    "import warnings\n",
    "warnings.filterwarnings(\"ignore\")\n",
    "\n",
    "from getpass import getpass\n",
    "#from langchain import HuggingFaceHub\n",
    "from langchain_huggingface import ChatHuggingFace,HuggingFaceEndpoint\n",
    "import os\n",
    "f = open('huggingface.txt')\n",
    "#place your huggingface API key after running this cell\n",
    "os.environ[\"HUGGINGFACEHUB_API_TOKEN\"] = f.read()"
   ]
  },
  {
   "cell_type": "code",
   "execution_count": 23,
   "metadata": {},
   "outputs": [
    {
     "name": "stdout",
     "output_type": "stream",
     "text": [
      "The token has not been saved to the git credentials helper. Pass `add_to_git_credential=True` in this function directly or `--add-to-git-credential` if using via `huggingface-cli` if you want to set the git credential as well.\n",
      "Token is valid (permission: fineGrained).\n",
      "Your token has been saved to /Users/anandhkumarj/.cache/huggingface/token\n",
      "Login successful\n"
     ]
    }
   ],
   "source": [
    "llm = HuggingFaceEndpoint(\n",
    "    repo_id=\"HuggingFaceH4/zephyr-7b-beta\",\n",
    "    task=\"text-generation\",\n",
    "    max_new_tokens=100,\n",
    "    top_k=30,\n",
    "    temperature=0.1,\n",
    "    repetition_penalty=1.03\n",
    ")\n",
    "chat = ChatHuggingFace(llm=llm, verbose=True)\n",
    "result = chat.invoke(\"What is Big Data?\")"
   ]
  },
  {
   "cell_type": "code",
   "execution_count": 24,
   "metadata": {},
   "outputs": [
    {
     "name": "stdout",
     "output_type": "stream",
     "text": [
      "content='Big Data refers to the large and complex sets of data that are generated every day from various sources such as social media, IoT devices, financial transactions, and scientific research. These data sets are so large and diverse that they cannot be processed using traditional data processing tools and techniques. Big Data presents new opportunities for businesses and organizations to gain insights and make informed decisions by processing and analyzing this massive data using advanced technologies such as machine learning, artificial intelligence, and cloud computing.' response_metadata={'token_usage': ChatCompletionOutputUsage(completion_tokens=96, prompt_tokens=28, total_tokens=124), 'model': '', 'finish_reason': 'eos_token'} id='run-510c0f48-874b-4b9c-88e9-667428df20c8-0'\n"
     ]
    }
   ],
   "source": [
    "print(result)"
   ]
  },
  {
   "cell_type": "markdown",
   "metadata": {},
   "source": [
    "Compare Results"
   ]
  },
  {
   "cell_type": "code",
   "execution_count": null,
   "metadata": {},
   "outputs": [],
   "source": [
    "\n",
    "from langchain.model_laboratory import ModelLaboratory\n",
    "llms = [\n",
    "    ChatHuggingFace(llm=HuggingFaceEndpoint(repo_id=\"HuggingFaceH4/zephyr-7b-beta\")),\n",
    "    ChatHuggingFace(llm=HuggingFaceEndpoint(repo_id=\"tiiuae/falcon-7b-instruct\")),\n",
    "    ChatHuggingFace(llm=HuggingFaceEndpoint(repo_id=\"google/flan-t5-xxl\")),\n",
    "]\n",
    "model_lab = ModelLaboratory.from_llms(llms)\n",
    "model_lab.compare(\"What is earth\")"
   ]
  },
  {
   "cell_type": "code",
   "execution_count": 26,
   "metadata": {},
   "outputs": [],
   "source": [
    "from langchain import LLMChain, OpenAI, HuggingFaceHub, PromptTemplate\n",
    "from langchain.model_laboratory import ModelLaboratory\n"
   ]
  },
  {
   "cell_type": "code",
   "execution_count": 27,
   "metadata": {},
   "outputs": [],
   "source": [
    "llms = [\n",
    "    HuggingFaceHub(repo_id=\"google/flan-t5-small\", model_kwargs={\"temperature\":1}),\n",
    "    HuggingFaceHub(repo_id=\"tiiuae/falcon-7b-instruct\", model_kwargs={\"temperature\":1}),\n",
    "    HuggingFaceHub(repo_id=\"google/flan-t5-xxl\", model_kwargs={\"temperature\":1}),\n",
    "    #HuggingFaceHub(repo_id=\"bigscience/bloomz\", model_kwargs={\"temperature\":1})\n",
    "]\n"
   ]
  },
  {
   "cell_type": "code",
   "execution_count": null,
   "metadata": {},
   "outputs": [],
   "source": [
    "model_lab = ModelLaboratory.from_llms(llms)\n",
    "model_lab.compare(\"What is earth\")"
   ]
  }
 ],
 "metadata": {
  "kernelspec": {
   "display_name": "Python 3",
   "language": "python",
   "name": "python3"
  },
  "language_info": {
   "codemirror_mode": {
    "name": "ipython",
    "version": 3
   },
   "file_extension": ".py",
   "mimetype": "text/x-python",
   "name": "python",
   "nbconvert_exporter": "python",
   "pygments_lexer": "ipython3",
   "version": "3.12.2"
  }
 },
 "nbformat": 4,
 "nbformat_minor": 2
}

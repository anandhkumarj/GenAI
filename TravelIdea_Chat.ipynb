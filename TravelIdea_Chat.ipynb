{
 "cells": [
  {
   "cell_type": "code",
   "execution_count": null,
   "metadata": {},
   "outputs": [],
   "source": [
    "import os\n",
    "f = open('openaikey.txt')\n",
    "os.environ[\"OPENAI_API_KEY\"]=f.read()\n",
    "os.environ.get(\"OPENAI_API_KEY\")"
   ]
  },
  {
   "cell_type": "code",
   "execution_count": null,
   "metadata": {},
   "outputs": [],
   "source": [
    "from langchain.chat_models import ChatOpenAI\n",
    "chat = ChatOpenAI()"
   ]
  },
  {
   "cell_type": "code",
   "execution_count": null,
   "metadata": {},
   "outputs": [],
   "source": [
    "from langchain.prompts import ChatPromptTemplate, PromptTemplate, SystemMessagePromptTemplate, HumanMessagePromptTemplate, AIMessagePromptTemplate\n",
    "system_msg_template = SystemMessagePromptTemplate.from_template(\"Travel Assistant specialized in arranging {travel_mode} travel\")\n",
    "human_msg_template = HumanMessagePromptTemplate.from_template(\"Help me get a travel plan for {destination} for about {days}\")\n",
    "chat_prompt = ChatPromptTemplate.from_messages([system_msg_template,human_msg_template])\n",
    "print(system_msg_template.input_variables)\n",
    "print(human_msg_template.input_variables)\n",
    "print(chat_prompt.input_variables)"
   ]
  },
  {
   "cell_type": "code",
   "execution_count": null,
   "metadata": {},
   "outputs": [],
   "source": [
    "chatprompt = chat_prompt.format_prompt(travel_mode='city tour',destination='Jasper',days='1').to_messages()\n",
    "chatprompt"
   ]
  },
  {
   "cell_type": "code",
   "execution_count": null,
   "metadata": {},
   "outputs": [],
   "source": [
    "result = chat(chatprompt)\n",
    "result.pretty_print()"
   ]
  }
 ],
 "metadata": {
  "kernelspec": {
   "display_name": "Python 3",
   "language": "python",
   "name": "python3"
  },
  "language_info": {
   "codemirror_mode": {
    "name": "ipython",
    "version": 3
   },
   "file_extension": ".py",
   "mimetype": "text/x-python",
   "name": "python",
   "nbconvert_exporter": "python",
   "pygments_lexer": "ipython3",
   "version": "3.12.2"
  }
 },
 "nbformat": 4,
 "nbformat_minor": 2
}

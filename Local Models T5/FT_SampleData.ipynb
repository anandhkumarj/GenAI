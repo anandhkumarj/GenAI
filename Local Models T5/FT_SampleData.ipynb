{
 "cells": [
  {
   "cell_type": "markdown",
   "id": "3bde0eda",
   "metadata": {},
   "source": [
    "### Basic Setup for API Access"
   ]
  },
  {
   "cell_type": "markdown",
   "id": "9f5b8b75",
   "metadata": {},
   "source": [
    "<font color=blue>Create a Python Environment locally. Set your API Key and Endpoint as Environment Variables. Use the following commands.</font>"
   ]
  },
  {
   "cell_type": "markdown",
   "id": "a1ca081a",
   "metadata": {},
   "source": [
    "python -m venv YourEnvName<br>\n",
    "YourEnvName\\Scripts\\activate.bat<br>\n",
    "setx AZURE_OPENAI_API_KEY \"YOUR_API_KEY_HERE\"<br>\n",
    "setx AZURE_OPENAI_ENDPOINT “YOUR_ENDPOINT_HERE”<br>"
   ]
  },
  {
   "cell_type": "markdown",
   "id": "68ba9941",
   "metadata": {},
   "source": [
    "<font color=blue>Import Necessary Libraries</font>"
   ]
  },
  {
   "cell_type": "code",
   "execution_count": null,
   "id": "8fb7bae9",
   "metadata": {},
   "outputs": [],
   "source": [
    "import openai\n",
    "import os"
   ]
  },
  {
   "cell_type": "markdown",
   "id": "7ea172a4",
   "metadata": {},
   "source": [
    "<font color=blue>Fetch your API key and Endpoint from the environment variables. Also setup the model deployment on the Azure Environment.  "
   ]
  },
  {
   "cell_type": "code",
   "execution_count": null,
   "id": "1287f492",
   "metadata": {},
   "outputs": [],
   "source": [
    "API_KEY = os.getenv(\"AZURE_OPENAI_API_KEY\") \n",
    "RESOURCE_ENDPOINT = os.getenv(\"AZURE_OPENAI_ENDPOINT\") \n",
    "\n",
    "openai.api_type = \"azure\"\n",
    "openai.api_key = API_KEY\n",
    "openai.api_base = RESOURCE_ENDPOINT\n",
    "openai.api_version = \"2023-05-15\"\n",
    "deployment_name = \"DeployTest\"\n",
    "model_name = \"text-davinci-003\""
   ]
  },
  {
   "cell_type": "markdown",
   "id": "5601f74c",
   "metadata": {},
   "source": [
    "#### Helper Function Creation"
   ]
  },
  {
   "cell_type": "markdown",
   "id": "792801f8",
   "metadata": {},
   "source": [
    "<font color=blue>We will now create a helper function, which will help us with our repeated API calls.  "
   ]
  },
  {
   "cell_type": "code",
   "execution_count": null,
   "id": "210c9c40",
   "metadata": {},
   "outputs": [],
   "source": [
    "def create_completion(prompt,model_name=\"text-davinci-003\",temperature=0.7,max_tokens=256):\n",
    "    response = openai.Completion.create(\n",
    "      model=model_name,\n",
    "      prompt=prompt,\n",
    "      max_tokens=max_tokens,\n",
    "      temperature=temperature,\n",
    "      engine=deployment_name\n",
    "    )\n",
    "    return response.choices[0]['text']"
   ]
  },
  {
   "cell_type": "markdown",
   "id": "cfb65a7f",
   "metadata": {},
   "source": [
    "<font color=blue>Using the helper function"
   ]
  },
  {
   "cell_type": "code",
   "execution_count": null,
   "id": "fe99b049",
   "metadata": {},
   "outputs": [],
   "source": [
    "import pandas as pd"
   ]
  },
  {
   "cell_type": "code",
   "execution_count": null,
   "id": "7312fc86",
   "metadata": {},
   "outputs": [],
   "source": [
    "path  = \"D:/Sups/Python/OpenAI/T5/prod_review.xlsx\"\n",
    "df = pd.read_excel(path)\n",
    "df.head()"
   ]
  },
  {
   "cell_type": "code",
   "execution_count": null,
   "id": "d56c88fc",
   "metadata": {},
   "outputs": [],
   "source": [
    "#df=df[:[100,201]]\n",
    "df.shape"
   ]
  },
  {
   "cell_type": "code",
   "execution_count": null,
   "id": "8ef65131",
   "metadata": {},
   "outputs": [],
   "source": [
    "len(df)"
   ]
  },
  {
   "cell_type": "code",
   "execution_count": null,
   "id": "4323cbe6",
   "metadata": {},
   "outputs": [],
   "source": [
    "responselist=[]\n",
    "count=0\n",
    "for i in range(400,603):  \n",
    "    prompt=f'''In the given review delimited by ###, identify the product.\\\n",
    "        Review:###{df['reviews.text'][i]}###\\\n",
    "        Use Output Format as below:\n",
    "        Product:'''\n",
    "    responselist.append(create_completion(prompt=prompt,max_tokens=20))\n",
    "    count = count+1\n"
   ]
  },
  {
   "cell_type": "code",
   "execution_count": null,
   "id": "5c84f4c3",
   "metadata": {},
   "outputs": [],
   "source": [
    "print(count)"
   ]
  },
  {
   "cell_type": "code",
   "execution_count": null,
   "id": "f13c28a8",
   "metadata": {},
   "outputs": [],
   "source": [
    "print(len(responselist))"
   ]
  },
  {
   "cell_type": "code",
   "execution_count": null,
   "id": "5229e125",
   "metadata": {},
   "outputs": [],
   "source": [
    "responsedf = pd.DataFrame(responselist)#, columns=[\"response\"])"
   ]
  },
  {
   "cell_type": "code",
   "execution_count": null,
   "id": "f7bd7eaa",
   "metadata": {},
   "outputs": [],
   "source": [
    "print (responsedf[0])"
   ]
  },
  {
   "cell_type": "code",
   "execution_count": null,
   "id": "b14f7bfb",
   "metadata": {},
   "outputs": [],
   "source": [
    "df[\"response\"] =responsedf[\"response\"]"
   ]
  },
  {
   "cell_type": "code",
   "execution_count": null,
   "id": "309470b1",
   "metadata": {},
   "outputs": [],
   "source": [
    "df.head()"
   ]
  },
  {
   "cell_type": "code",
   "execution_count": null,
   "id": "6205ce97",
   "metadata": {},
   "outputs": [],
   "source": [
    "df.to_csv('review_with_op.csv')"
   ]
  },
  {
   "cell_type": "code",
   "execution_count": null,
   "id": "5792b7ee",
   "metadata": {},
   "outputs": [],
   "source": [
    "responsedf.to_csv('response2.csv')"
   ]
  },
  {
   "cell_type": "code",
   "execution_count": null,
   "id": "30af23ad",
   "metadata": {},
   "outputs": [],
   "source": []
  }
 ],
 "metadata": {
  "kernelspec": {
   "display_name": "Python 3",
   "language": "python",
   "name": "python3"
  },
  "language_info": {
   "codemirror_mode": {
    "name": "ipython",
    "version": 3
   },
   "file_extension": ".py",
   "mimetype": "text/x-python",
   "name": "python",
   "nbconvert_exporter": "python",
   "pygments_lexer": "ipython3",
   "version": "3.8.8"
  }
 },
 "nbformat": 4,
 "nbformat_minor": 5
}

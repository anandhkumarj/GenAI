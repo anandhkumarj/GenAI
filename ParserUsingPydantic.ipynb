{
 "cells": [
  {
   "cell_type": "code",
   "execution_count": null,
   "metadata": {},
   "outputs": [],
   "source": [
    "pip install pydantic"
   ]
  },
  {
   "cell_type": "code",
   "execution_count": null,
   "metadata": {},
   "outputs": [],
   "source": [
    "import os\n",
    "f = open('openaikey.txt')\n",
    "os.environ[\"OPENAI_API_KEY\"]=f.read()\n",
    "os.environ.get(\"OPENAI_API_KEY\")"
   ]
  },
  {
   "cell_type": "code",
   "execution_count": null,
   "metadata": {},
   "outputs": [],
   "source": [
    "from langchain.chat_models import ChatOpenAI\n",
    "model = ChatOpenAI()"
   ]
  },
  {
   "cell_type": "code",
   "execution_count": null,
   "metadata": {},
   "outputs": [],
   "source": [
    "from langchain.output_parsers import PydanticOutputParser\n",
    "from pydantic import BaseModel, Field\n",
    "\n",
    "class Player(BaseModel):\n",
    "    \n",
    "    name: str = Field(description=\"Name of the player\")\n",
    "    age: str = Field(description=\"Age of the player\")\n",
    "    specialization: str = Field(description=\"Sepcialization of the player\")\n",
    "\n",
    "\n",
    "class Players(BaseModel):\n",
    "    player: list = Field(description=\"Python list of Player\")\n",
    "\n",
    "parser = PydanticOutputParser(pydantic_object=Players)"
   ]
  },
  {
   "cell_type": "code",
   "execution_count": null,
   "metadata": {},
   "outputs": [],
   "source": [
    "parser.get_format_instructions()"
   ]
  },
  {
   "cell_type": "code",
   "execution_count": null,
   "metadata": {},
   "outputs": [],
   "source": [
    "from langchain.prompts import ChatPromptTemplate,HumanMessagePromptTemplate,SystemMessagePromptTemplate,AIMessagePromptTemplate\n",
    "human_message_prompt = HumanMessagePromptTemplate.from_template(\"{request}\\n{format_instructions}\")\n",
    "system_message_prompt = SystemMessagePromptTemplate.from_template('You are a Cricket analyst')\n",
    "chatprompt = ChatPromptTemplate.from_messages([system_message_prompt,human_message_prompt])\n",
    "chatprompt.input_variables\n",
    "request = chatprompt.format_prompt(request=\"'Get me the name of all the current Playing Indian Players name, their specialization and their age '\",\n",
    "                                   format_instructions=parser.get_format_instructions()).to_messages()\n",
    "request"
   ]
  },
  {
   "cell_type": "code",
   "execution_count": null,
   "metadata": {},
   "outputs": [],
   "source": [
    "result =  model(request, temperature=0)\n",
    "result.content"
   ]
  },
  {
   "cell_type": "code",
   "execution_count": null,
   "metadata": {},
   "outputs": [],
   "source": [
    "parser.parse(result.content)"
   ]
  }
 ],
 "metadata": {
  "kernelspec": {
   "display_name": "Python 3",
   "language": "python",
   "name": "python3"
  },
  "language_info": {
   "codemirror_mode": {
    "name": "ipython",
    "version": 3
   },
   "file_extension": ".py",
   "mimetype": "text/x-python",
   "name": "python",
   "nbconvert_exporter": "python",
   "pygments_lexer": "ipython3",
   "version": "3.12.2"
  }
 },
 "nbformat": 4,
 "nbformat_minor": 2
}

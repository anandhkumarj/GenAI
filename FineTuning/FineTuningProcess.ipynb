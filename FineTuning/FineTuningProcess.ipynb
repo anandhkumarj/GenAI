{
 "cells": [
  {
   "cell_type": "markdown",
   "metadata": {},
   "source": [
    "```mermaid\n",
    "graph LR\n",
    "A[Select Appropriate Model] --> B[Data Preparation Training data, validation data]\n",
    "B --> C[Parameter Selection EPOC, Batch Size]\n",
    "C --> D[Model Training]\n",
    "D --> E[Model Evaluation]\n",
    "E --> F[Save the created fine tuned Model Locally]\n",
    "F --> G[Use the fine Tune Model Locally]\n",
    "```"
   ]
  },
  {
   "cell_type": "code",
   "execution_count": null,
   "metadata": {},
   "outputs": [],
   "source": [
    "%pip install datasets transformers rouge-score nltk\n",
    "%pip install sentencepiece\n",
    "%pip install transformers\n",
    "%pip install torch\n",
    "%pip install rich[jupyter]"
   ]
  },
  {
   "cell_type": "code",
   "execution_count": 1,
   "metadata": {},
   "outputs": [],
   "source": [
    "# Importing libraries\n",
    "import os\n",
    "import numpy as np\n",
    "import pandas as pd\n",
    "import torch\n",
    "import torch.nn.functional as F\n",
    "from torch.utils.data import Dataset, DataLoader, RandomSampler, SequentialSampler\n",
    "import os\n"
   ]
  },
  {
   "cell_type": "code",
   "execution_count": 2,
   "metadata": {},
   "outputs": [],
   "source": [
    "# Importing the T5 modules from huggingface/transformers\n",
    "from transformers import T5Tokenizer, T5ForConditionalGeneration\n"
   ]
  },
  {
   "cell_type": "code",
   "execution_count": 3,
   "metadata": {},
   "outputs": [
    {
     "data": {
      "text/html": [
       "<div>\n",
       "<style scoped>\n",
       "    .dataframe tbody tr th:only-of-type {\n",
       "        vertical-align: middle;\n",
       "    }\n",
       "\n",
       "    .dataframe tbody tr th {\n",
       "        vertical-align: top;\n",
       "    }\n",
       "\n",
       "    .dataframe thead th {\n",
       "        text-align: right;\n",
       "    }\n",
       "</style>\n",
       "<table border=\"1\" class=\"dataframe\">\n",
       "  <thead>\n",
       "    <tr style=\"text-align: right;\">\n",
       "      <th></th>\n",
       "      <th>Review</th>\n",
       "      <th>Product</th>\n",
       "    </tr>\n",
       "  </thead>\n",
       "  <tbody>\n",
       "    <tr>\n",
       "      <th>0</th>\n",
       "      <td>Solid entry level Kindle. Great for kids. Gift...</td>\n",
       "      <td>Kindle</td>\n",
       "    </tr>\n",
       "    <tr>\n",
       "      <th>1</th>\n",
       "      <td>This make an excellent ebook reader. Don't exp...</td>\n",
       "      <td>Ebook Reader</td>\n",
       "    </tr>\n",
       "    <tr>\n",
       "      <th>2</th>\n",
       "      <td>I use this every day on my commute. Great batt...</td>\n",
       "      <td>Unknown</td>\n",
       "    </tr>\n",
       "    <tr>\n",
       "      <th>3</th>\n",
       "      <td>Everything is great except that i can't read e...</td>\n",
       "      <td>Kindle Books</td>\n",
       "    </tr>\n",
       "    <tr>\n",
       "      <th>4</th>\n",
       "      <td>I never used kindle before. My wife gifted me ...</td>\n",
       "      <td>Kindle</td>\n",
       "    </tr>\n",
       "  </tbody>\n",
       "</table>\n",
       "</div>"
      ],
      "text/plain": [
       "                                              Review           Product\n",
       "0  Solid entry level Kindle. Great for kids. Gift...        Kindle    \n",
       "1  This make an excellent ebook reader. Don't exp...  Ebook Reader    \n",
       "2  I use this every day on my commute. Great batt...       Unknown    \n",
       "3  Everything is great except that i can't read e...  Kindle Books    \n",
       "4  I never used kindle before. My wife gifted me ...            Kindle"
      ]
     },
     "execution_count": 3,
     "metadata": {},
     "output_type": "execute_result"
    }
   ],
   "source": [
    "path  = \"review_data_Product.csv\" #change appropriately\n",
    "df = pd.read_csv(path)\n",
    "df.head()"
   ]
  },
  {
   "cell_type": "code",
   "execution_count": 4,
   "metadata": {},
   "outputs": [
    {
     "name": "stdout",
     "output_type": "stream",
     "text": [
      "cpu\n"
     ]
    }
   ],
   "source": [
    "# Setting up the device for GPU usage\n",
    "from torch import cuda\n",
    "device = 'cuda' if cuda.is_available() else 'cpu'\n",
    "print(device)\n"
   ]
  },
  {
   "cell_type": "code",
   "execution_count": 5,
   "metadata": {},
   "outputs": [],
   "source": [
    "# rich: for a better display on terminal\n",
    "from rich.table import Column, Table\n",
    "from rich import box\n",
    "from rich.console import Console\n",
    "# define a rich console logger\n",
    "console = Console(record=True)\n",
    "# to display dataframe in ASCII format\n",
    "def display_df(df):\n",
    "    \"\"\"display dataframe in ASCII format\"\"\"\n",
    "    console = Console()\n",
    "    table = Table(\n",
    "        Column(\"source_text\", justify=\"center\"),\n",
    "        Column(\"target_text\", justify=\"center\"),\n",
    "        title=\"Sample Data\",\n",
    "        pad_edge=False,\n",
    "        box=box.ASCII,\n",
    "    )\n",
    "    for i, row in enumerate(df.values.tolist()):\n",
    "        table.add_row(row[0], row[1])\n",
    "    console.print(table)\n",
    "# training logger to log training progress\n",
    "training_logger = Table(\n",
    "    Column(\"Epoch\", justify=\"center\"),\n",
    "    Column(\"Steps\", justify=\"center\"),\n",
    "    Column(\"Loss\", justify=\"center\"),\n",
    "    title=\"Training Status\",\n",
    "    pad_edge=False,\n",
    "    box=box.ASCII,\n",
    ")\n"
   ]
  },
  {
   "cell_type": "code",
   "execution_count": 6,
   "metadata": {},
   "outputs": [],
   "source": [
    "class ProductExtractor(Dataset):\n",
    "    \"\"\"\n",
    "    Creating a custom dataset for reading the dataset and\n",
    "    loading it into the dataloader to pass it to the\n",
    "    neural network for finetuning the model\n",
    "    \"\"\"\n",
    "    def __init__(\n",
    "        self, dataframe, tokenizer, source_len, target_len, source_text, target_text\n",
    "    ):\n",
    "        \"\"\"\n",
    "        Initializes a Dataset class\n",
    "        Args:\n",
    "            dataframe (pandas.DataFrame): Input dataframe\n",
    "            tokenizer (transformers.tokenizer): Transformers tokenizer\n",
    "            source_len (int): Max length of source text\n",
    "            target_len (int): Max length of target text\n",
    "            source_text (str): column name of source text\n",
    "            target_text (str): column name of target text\n",
    "        \"\"\"\n",
    "        self.tokenizer = tokenizer\n",
    "        self.data = dataframe\n",
    "        self.source_len = source_len\n",
    "        self.summ_len = target_len\n",
    "        self.target_text = self.data[target_text]\n",
    "        self.source_text = self.data[source_text]\n",
    "    def __len__(self):\n",
    "        \"\"\"returns the length of dataframe\"\"\"\n",
    "        return len(self.target_text)\n",
    "    def __getitem__(self, index):\n",
    "        \"\"\"return the input ids, attention masks and target ids\"\"\"\n",
    "        source_text = str(self.source_text[index])\n",
    "        target_text = str(self.target_text[index])\n",
    "        # cleaning data so as to ensure data is in string type\n",
    "        source_text = \" \".join(source_text.split())\n",
    "        target_text = \" \".join(target_text.split())\n",
    "        source = self.tokenizer.batch_encode_plus(\n",
    "            [source_text],\n",
    "            max_length=self.source_len,\n",
    "            pad_to_max_length=True,\n",
    "            truncation=True,\n",
    "            padding=\"max_length\",\n",
    "            return_tensors=\"pt\",\n",
    "        )\n",
    "        target = self.tokenizer.batch_encode_plus(\n",
    "            [target_text],\n",
    "            max_length=self.summ_len,\n",
    "            pad_to_max_length=True,\n",
    "            truncation=True,\n",
    "            padding=\"max_length\",\n",
    "            return_tensors=\"pt\",\n",
    "        )\n",
    "        source_ids = source[\"input_ids\"].squeeze()\n",
    "        source_mask = source[\"attention_mask\"].squeeze()\n",
    "        target_ids = target[\"input_ids\"].squeeze()\n",
    "        target_mask = target[\"attention_mask\"].squeeze()\n",
    "        return {\n",
    "            \"source_ids\": source_ids.to(dtype=torch.long),\n",
    "            \"source_mask\": source_mask.to(dtype=torch.long),\n",
    "            \"target_ids\": target_ids.to(dtype=torch.long),\n",
    "            \"target_ids_y\": target_ids.to(dtype=torch.long),\n",
    "        }\n"
   ]
  },
  {
   "cell_type": "code",
   "execution_count": 7,
   "metadata": {},
   "outputs": [],
   "source": [
    "# let's define model parameters specific to T5\n",
    "training_params = {\n",
    "    \"MODEL\": \"t5-base\",  # model_type: t5-base/t5-large\n",
    "    \"TRAIN_BATCH_SIZE\": 8,  # training batch size\n",
    "    \"VALID_BATCH_SIZE\": 8,  # validation batch size\n",
    "    \"TRAIN_EPOCHS\": 3,  # number of training epochs\n",
    "    \"VAL_EPOCHS\": 1,  # number of validation epochs\n",
    "    \"LEARNING_RATE\": 1e-4,  # learning rate\n",
    "    \"MAX_SOURCE_TEXT_LENGTH\": 512,  # max length of source text\n",
    "    \"MAX_TARGET_TEXT_LENGTH\": 50,  # max length of target text\n",
    "    \"SEED\": 42,  # set seed for reproducibility\n",
    "}\n"
   ]
  },
  {
   "cell_type": "code",
   "execution_count": 8,
   "metadata": {},
   "outputs": [],
   "source": [
    "def T5Trainer(\n",
    "    dataframe, source_text, target_text, model_params, output_dir=\"./review_outputs/\"\n",
    "):\n",
    "    \"\"\"\n",
    "    T5 trainer\n",
    "    \"\"\"\n",
    "    # Set random seeds and deterministic pytorch for reproducibility\n",
    "    torch.manual_seed(model_params[\"SEED\"])  # pytorch random seed\n",
    "    np.random.seed(model_params[\"SEED\"])  # numpy random seed\n",
    "    torch.backends.cudnn.deterministic = True\n",
    "    # logging\n",
    "    console.log(f\"\"\"[Model]: Loading {model_params[\"MODEL\"]}...\\n\"\"\")\n",
    "    # tokenzier for encoding the text\n",
    "    tokenizer = T5Tokenizer.from_pretrained(model_params[\"MODEL\"])\n",
    "    # Defining the model. We are using t5-base model and added a Language model layer on top for generation of Summary.\n",
    "    # Further this model is sent to device (GPU/TPU) for using the hardware.\n",
    "    model = T5ForConditionalGeneration.from_pretrained(model_params[\"MODEL\"])\n",
    "    model = model.to(device)\n",
    "    # logging\n",
    "    console.log(f\"[Data]: Reading data...\\n\")\n",
    "    # Importing the raw dataset\n",
    "    dataframe = dataframe[[source_text, target_text]]\n",
    "    display_df(dataframe.head(2))\n",
    "    # Creation of Dataset and Dataloader\n",
    "    # Defining the train size. So 80% of the data will be used for training and the rest for validation.\n",
    "    train_size = 0.8\n",
    "    train_dataset = dataframe.sample(frac=train_size, random_state=model_params[\"SEED\"])\n",
    "    val_dataset = dataframe.drop(train_dataset.index).reset_index(drop=True)\n",
    "    train_dataset = train_dataset.reset_index(drop=True)\n",
    "    console.print(f\"FULL Dataset: {dataframe.shape}\")\n",
    "    console.print(f\"TRAIN Dataset: {train_dataset.shape}\")\n",
    "    console.print(f\"TEST Dataset: {val_dataset.shape}\\n\")\n",
    "    # Creating the Training and Validation dataset for further creation of Dataloader\n",
    "    training_set = ProductExtractor(\n",
    "        train_dataset,\n",
    "        tokenizer,\n",
    "        model_params[\"MAX_SOURCE_TEXT_LENGTH\"],\n",
    "        model_params[\"MAX_TARGET_TEXT_LENGTH\"],\n",
    "        source_text,\n",
    "        target_text,\n",
    "    )\n",
    "    val_set = ProductExtractor(\n",
    "        val_dataset,\n",
    "        tokenizer,\n",
    "        model_params[\"MAX_SOURCE_TEXT_LENGTH\"],\n",
    "        model_params[\"MAX_TARGET_TEXT_LENGTH\"],\n",
    "        source_text,\n",
    "        target_text,\n",
    "    )\n",
    "    # Defining the parameters for creation of dataloaders\n",
    "    train_params = {\n",
    "        \"batch_size\": model_params[\"TRAIN_BATCH_SIZE\"],\n",
    "        \"shuffle\": True,\n",
    "        \"num_workers\": 0,\n",
    "    }\n",
    "    val_params = {\n",
    "        \"batch_size\": model_params[\"VALID_BATCH_SIZE\"],\n",
    "        \"shuffle\": False,\n",
    "        \"num_workers\": 0,\n",
    "    }\n",
    "    # Creation of Dataloaders for testing and validation. This will be used down for training and validation stage for the model.\n",
    "    training_loader = DataLoader(training_set, **train_params)\n",
    "    val_loader = DataLoader(val_set, **val_params)\n",
    "    # Defining the optimizer that will be used to tune the weights of the network in the training session.\n",
    "    optimizer = torch.optim.Adam(\n",
    "        params=model.parameters(), lr=model_params[\"LEARNING_RATE\"]\n",
    "    )\n",
    "    # Training loop\n",
    "    console.log(f\"[Initiating Fine Tuning]...\\n\")\n",
    "    for epoch in range(model_params[\"TRAIN_EPOCHS\"]):\n",
    "        train(epoch, tokenizer, model, device, training_loader, optimizer)\n",
    "    console.log(f\"[Saving Model]...\\n\")\n",
    "    # Saving the model after training\n",
    "    path = os.path.join(output_dir, \"model_files\")\n",
    "    model.save_pretrained(path)\n",
    "    tokenizer.save_pretrained(path)\n",
    "    # evaluating test dataset\n",
    "    console.log(f\"[Initiating Validation]...\\n\")\n",
    "    for epoch in range(model_params[\"VAL_EPOCHS\"]):\n",
    "        predictions, actuals = validate(epoch, tokenizer, model, device, val_loader)\n",
    "        final_df = pd.DataFrame({\"Generated Text\": predictions, \"Actual Text\": actuals})\n",
    "        final_df.to_csv(os.path.join(output_dir, \"predictions_prod_senti.csv\"))\n",
    "    console.save_text(os.path.join(output_dir, \"review_logs.txt\"))\n",
    "    console.log(f\"[Validation Completed.]\\n\")\n",
    "    console.print(\n",
    "        f\"\"\"[Model] Model saved @ {os.path.join(output_dir, \"review_model_files\")}\\n\"\"\"\n",
    "    )\n",
    "    console.print(\n",
    "        f\"\"\"[Validation] Generation on Validation data saved @ {os.path.join(output_dir,'review_predictions.csv')}\\n\"\"\"\n",
    "    )\n",
    "    console.print(f\"\"\"[Logs] Logs saved @ {os.path.join(output_dir,'review_logs.txt')}\\n\"\"\")\n"
   ]
  },
  {
   "cell_type": "code",
   "execution_count": 9,
   "metadata": {},
   "outputs": [],
   "source": [
    "def train(epoch, tokenizer, model, device, loader, optimizer):\n",
    "    \"\"\"\n",
    "    Function to be called for training with the parameters passed from main function\n",
    "    \"\"\"\n",
    "    model.train()\n",
    "    for _, data in enumerate(loader, 0):\n",
    "        y = data[\"target_ids\"].to(device, dtype=torch.long)\n",
    "        y_ids = y[:, :-1].contiguous()\n",
    "        lm_labels = y[:, 1:].clone().detach()\n",
    "        lm_labels[y[:, 1:] == tokenizer.pad_token_id] = -100\n",
    "        ids = data[\"source_ids\"].to(device, dtype=torch.long)\n",
    "        mask = data[\"source_mask\"].to(device, dtype=torch.long)\n",
    "        outputs = model(\n",
    "            input_ids=ids,\n",
    "            attention_mask=mask,\n",
    "            decoder_input_ids=y_ids,\n",
    "            labels=lm_labels,\n",
    "        )\n",
    "        loss = outputs[0]\n",
    "        if _ % 10 == 0:\n",
    "            training_logger.add_row(str(epoch), str(_), str(loss))\n",
    "            console.print(training_logger)\n",
    "        optimizer.zero_grad()\n",
    "        loss.backward()\n",
    "        optimizer.step()\n"
   ]
  },
  {
   "cell_type": "code",
   "execution_count": 10,
   "metadata": {},
   "outputs": [],
   "source": [
    "def validate(epoch, tokenizer, model, device, loader):\n",
    "  \"\"\"\n",
    "  Function to evaluate model for predictions\n",
    "  \"\"\"\n",
    "  model.eval()\n",
    "  predictions = []\n",
    "  actuals = []\n",
    "  with torch.no_grad():\n",
    "      for _, data in enumerate(loader, 0):\n",
    "          y = data['target_ids'].to(device, dtype = torch.long)\n",
    "          ids = data['source_ids'].to(device, dtype = torch.long)\n",
    "          mask = data['source_mask'].to(device, dtype = torch.long)\n",
    "          generated_ids = model.generate(\n",
    "              input_ids = ids,\n",
    "              attention_mask = mask, \n",
    "              max_length=150, \n",
    "              num_beams=2,\n",
    "              repetition_penalty=2.5, \n",
    "              length_penalty=1.0, \n",
    "              early_stopping=True\n",
    "              )\n",
    "          preds = [tokenizer.decode(g, skip_special_tokens=True, clean_up_tokenization_spaces=True) for g in generated_ids]\n",
    "          target = [tokenizer.decode(t, skip_special_tokens=True, clean_up_tokenization_spaces=True)for t in y]\n",
    "          if _%10==0:\n",
    "              console.print(f'Completed {_}')\n",
    "          predictions.extend(preds)\n",
    "          actuals.extend(target)\n",
    "  return predictions, actuals\n"
   ]
  },
  {
   "cell_type": "code",
   "execution_count": 12,
   "metadata": {},
   "outputs": [
    {
     "data": {
      "text/html": [
       "<pre style=\"white-space:pre;overflow-x:auto;line-height:normal;font-family:Menlo,'DejaVu Sans Mono',consolas,'Courier New',monospace\"><span style=\"color: #7fbfbf; text-decoration-color: #7fbfbf\">[12:19:49] </span><span style=\"font-weight: bold\">[</span>Model<span style=\"font-weight: bold\">]</span>: Loading t5-base<span style=\"color: #808000; text-decoration-color: #808000\">...</span>                                                              <a href=\"file:///var/folders/df/4n57lpzd4z986szq__z25w840000gn/T/ipykernel_42437/289667992.py\" target=\"_blank\"><span style=\"color: #7f7f7f; text-decoration-color: #7f7f7f\">289667992.py</span></a><span style=\"color: #7f7f7f; text-decoration-color: #7f7f7f\">:</span><a href=\"file:///var/folders/df/4n57lpzd4z986szq__z25w840000gn/T/ipykernel_42437/289667992.py#12\" target=\"_blank\"><span style=\"color: #7f7f7f; text-decoration-color: #7f7f7f\">12</span></a>\n",
       "<span style=\"color: #7fbfbf; text-decoration-color: #7fbfbf\">           </span>                                                                                         <span style=\"color: #7f7f7f; text-decoration-color: #7f7f7f\">               </span>\n",
       "</pre>\n"
      ],
      "text/plain": [
       "\u001b[2;36m[12:19:49]\u001b[0m\u001b[2;36m \u001b[0m\u001b[1m[\u001b[0mModel\u001b[1m]\u001b[0m: Loading t5-base\u001b[33m...\u001b[0m                                                              \u001b]8;id=529048;file:///var/folders/df/4n57lpzd4z986szq__z25w840000gn/T/ipykernel_42437/289667992.py\u001b\\\u001b[2m289667992.py\u001b[0m\u001b]8;;\u001b\\\u001b[2m:\u001b[0m\u001b]8;id=428990;file:///var/folders/df/4n57lpzd4z986szq__z25w840000gn/T/ipykernel_42437/289667992.py#12\u001b\\\u001b[2m12\u001b[0m\u001b]8;;\u001b\\\n",
       "\u001b[2;36m           \u001b[0m                                                                                         \u001b[2m               \u001b[0m\n"
      ]
     },
     "metadata": {},
     "output_type": "display_data"
    },
    {
     "data": {
      "application/vnd.jupyter.widget-view+json": {
       "model_id": "57c40ffd098c4064acda7e6cccbd57bb",
       "version_major": 2,
       "version_minor": 0
      },
      "text/plain": [
       "spiece.model:   0%|          | 0.00/792k [00:00<?, ?B/s]"
      ]
     },
     "metadata": {},
     "output_type": "display_data"
    },
    {
     "data": {
      "application/vnd.jupyter.widget-view+json": {
       "model_id": "239fee525ca44f0aa8cd5887488bb502",
       "version_major": 2,
       "version_minor": 0
      },
      "text/plain": [
       "tokenizer.json:   0%|          | 0.00/1.39M [00:00<?, ?B/s]"
      ]
     },
     "metadata": {},
     "output_type": "display_data"
    },
    {
     "data": {
      "application/vnd.jupyter.widget-view+json": {
       "model_id": "8f3c04dad7014f25a7f13f00baf4dd2f",
       "version_major": 2,
       "version_minor": 0
      },
      "text/plain": [
       "config.json:   0%|          | 0.00/1.21k [00:00<?, ?B/s]"
      ]
     },
     "metadata": {},
     "output_type": "display_data"
    },
    {
     "name": "stderr",
     "output_type": "stream",
     "text": [
      "You are using the default legacy behaviour of the <class 'transformers.models.t5.tokenization_t5.T5Tokenizer'>. This is expected, and simply means that the `legacy` (previous) behavior will be used so nothing changes for you. If you want to use the new behaviour, set `legacy=False`. This should only be set if you understand what it means, and thoroughly read the reason why this was added as explained in https://github.com/huggingface/transformers/pull/24565\n",
      "Special tokens have been added in the vocabulary, make sure the associated word embeddings are fine-tuned or trained.\n"
     ]
    },
    {
     "data": {
      "application/vnd.jupyter.widget-view+json": {
       "model_id": "35a311637a884006b1fd601178dd58ff",
       "version_major": 2,
       "version_minor": 0
      },
      "text/plain": [
       "model.safetensors:   0%|          | 0.00/892M [00:00<?, ?B/s]"
      ]
     },
     "metadata": {},
     "output_type": "display_data"
    },
    {
     "data": {
      "application/vnd.jupyter.widget-view+json": {
       "model_id": "4f2e182a6268477c83bf7e31b61025a0",
       "version_major": 2,
       "version_minor": 0
      },
      "text/plain": [
       "generation_config.json:   0%|          | 0.00/147 [00:00<?, ?B/s]"
      ]
     },
     "metadata": {},
     "output_type": "display_data"
    },
    {
     "data": {
      "text/html": [
       "<pre style=\"white-space:pre;overflow-x:auto;line-height:normal;font-family:Menlo,'DejaVu Sans Mono',consolas,'Courier New',monospace\"><span style=\"color: #7fbfbf; text-decoration-color: #7fbfbf\">[12:20:26] </span><span style=\"font-weight: bold\">[</span>Data<span style=\"font-weight: bold\">]</span>: Reading data<span style=\"color: #808000; text-decoration-color: #808000\">...</span>                                                                  <a href=\"file:///var/folders/df/4n57lpzd4z986szq__z25w840000gn/T/ipykernel_42437/289667992.py\" target=\"_blank\"><span style=\"color: #7f7f7f; text-decoration-color: #7f7f7f\">289667992.py</span></a><span style=\"color: #7f7f7f; text-decoration-color: #7f7f7f\">:</span><a href=\"file:///var/folders/df/4n57lpzd4z986szq__z25w840000gn/T/ipykernel_42437/289667992.py#20\" target=\"_blank\"><span style=\"color: #7f7f7f; text-decoration-color: #7f7f7f\">20</span></a>\n",
       "<span style=\"color: #7fbfbf; text-decoration-color: #7fbfbf\">           </span>                                                                                         <span style=\"color: #7f7f7f; text-decoration-color: #7f7f7f\">               </span>\n",
       "</pre>\n"
      ],
      "text/plain": [
       "\u001b[2;36m[12:20:26]\u001b[0m\u001b[2;36m \u001b[0m\u001b[1m[\u001b[0mData\u001b[1m]\u001b[0m: Reading data\u001b[33m...\u001b[0m                                                                  \u001b]8;id=727810;file:///var/folders/df/4n57lpzd4z986szq__z25w840000gn/T/ipykernel_42437/289667992.py\u001b\\\u001b[2m289667992.py\u001b[0m\u001b]8;;\u001b\\\u001b[2m:\u001b[0m\u001b]8;id=309209;file:///var/folders/df/4n57lpzd4z986szq__z25w840000gn/T/ipykernel_42437/289667992.py#20\u001b\\\u001b[2m20\u001b[0m\u001b]8;;\u001b\\\n",
       "\u001b[2;36m           \u001b[0m                                                                                         \u001b[2m               \u001b[0m\n"
      ]
     },
     "metadata": {},
     "output_type": "display_data"
    },
    {
     "data": {
      "text/html": [
       "<pre style=\"white-space:pre;overflow-x:auto;line-height:normal;font-family:Menlo,'DejaVu Sans Mono',consolas,'Courier New',monospace\"><span style=\"font-style: italic\">                                                    Sample Data                                                    </span>\n",
       "+-----------------------------------------------------------------------------------------------------------------+\n",
       "|<span style=\"font-weight: bold\">                                         source_text                                           </span>|<span style=\"font-weight: bold\">   target_text   </span>|\n",
       "|-----------------------------------------------------------------------------------------------+-----------------|\n",
       "| Extract Product: Extract Product: Solid entry level Kindle. Great for kids. Gifted for a kid  |      Kindle     |\n",
       "|             of my friend and they love to use it to read more than their iPads.               |                 |\n",
       "|Extract Product: Extract Product: This make an excellent ebook reader. Don't expect much from  |   Ebook Reader  |\n",
       "|this device except to read basic ebooks. The good thing is it's cheap and good to read in the  |                 |\n",
       "|                                             sun.                                              |                 |\n",
       "+-----------------------------------------------------------------------------------------------------------------+\n",
       "</pre>\n"
      ],
      "text/plain": [
       "\u001b[3m                                                    Sample Data                                                    \u001b[0m\n",
       "+-----------------------------------------------------------------------------------------------------------------+\n",
       "|\u001b[1m                                         source_text                                          \u001b[0m\u001b[1m \u001b[0m|\u001b[1m \u001b[0m\u001b[1m  target_text   \u001b[0m|\n",
       "|-----------------------------------------------------------------------------------------------+-----------------|\n",
       "| Extract Product: Extract Product: Solid entry level Kindle. Great for kids. Gifted for a kid  |      Kindle     |\n",
       "|             of my friend and they love to use it to read more than their iPads.               |                 |\n",
       "|Extract Product: Extract Product: This make an excellent ebook reader. Don't expect much from  |   Ebook Reader  |\n",
       "|this device except to read basic ebooks. The good thing is it's cheap and good to read in the  |                 |\n",
       "|                                             sun.                                              |                 |\n",
       "+-----------------------------------------------------------------------------------------------------------------+\n"
      ]
     },
     "metadata": {},
     "output_type": "display_data"
    },
    {
     "data": {
      "text/html": [
       "<pre style=\"white-space:pre;overflow-x:auto;line-height:normal;font-family:Menlo,'DejaVu Sans Mono',consolas,'Courier New',monospace\">FULL Dataset: <span style=\"font-weight: bold\">(</span><span style=\"color: #008080; text-decoration-color: #008080; font-weight: bold\">599</span>, <span style=\"color: #008080; text-decoration-color: #008080; font-weight: bold\">2</span><span style=\"font-weight: bold\">)</span>\n",
       "</pre>\n"
      ],
      "text/plain": [
       "FULL Dataset: \u001b[1m(\u001b[0m\u001b[1;36m599\u001b[0m, \u001b[1;36m2\u001b[0m\u001b[1m)\u001b[0m\n"
      ]
     },
     "metadata": {},
     "output_type": "display_data"
    },
    {
     "data": {
      "text/html": [
       "<pre style=\"white-space:pre;overflow-x:auto;line-height:normal;font-family:Menlo,'DejaVu Sans Mono',consolas,'Courier New',monospace\">TRAIN Dataset: <span style=\"font-weight: bold\">(</span><span style=\"color: #008080; text-decoration-color: #008080; font-weight: bold\">479</span>, <span style=\"color: #008080; text-decoration-color: #008080; font-weight: bold\">2</span><span style=\"font-weight: bold\">)</span>\n",
       "</pre>\n"
      ],
      "text/plain": [
       "TRAIN Dataset: \u001b[1m(\u001b[0m\u001b[1;36m479\u001b[0m, \u001b[1;36m2\u001b[0m\u001b[1m)\u001b[0m\n"
      ]
     },
     "metadata": {},
     "output_type": "display_data"
    },
    {
     "data": {
      "text/html": [
       "<pre style=\"white-space:pre;overflow-x:auto;line-height:normal;font-family:Menlo,'DejaVu Sans Mono',consolas,'Courier New',monospace\">TEST Dataset: <span style=\"font-weight: bold\">(</span><span style=\"color: #008080; text-decoration-color: #008080; font-weight: bold\">120</span>, <span style=\"color: #008080; text-decoration-color: #008080; font-weight: bold\">2</span><span style=\"font-weight: bold\">)</span>\n",
       "\n",
       "</pre>\n"
      ],
      "text/plain": [
       "TEST Dataset: \u001b[1m(\u001b[0m\u001b[1;36m120\u001b[0m, \u001b[1;36m2\u001b[0m\u001b[1m)\u001b[0m\n",
       "\n"
      ]
     },
     "metadata": {},
     "output_type": "display_data"
    },
    {
     "data": {
      "text/html": [
       "<pre style=\"white-space:pre;overflow-x:auto;line-height:normal;font-family:Menlo,'DejaVu Sans Mono',consolas,'Courier New',monospace\"><span style=\"color: #7fbfbf; text-decoration-color: #7fbfbf\">[12:20:28] </span><span style=\"font-weight: bold\">[</span>Initiating Fine Tuning<span style=\"font-weight: bold\">]</span><span style=\"color: #808000; text-decoration-color: #808000\">...</span>                                                              <a href=\"file:///var/folders/df/4n57lpzd4z986szq__z25w840000gn/T/ipykernel_42437/289667992.py\" target=\"_blank\"><span style=\"color: #7f7f7f; text-decoration-color: #7f7f7f\">289667992.py</span></a><span style=\"color: #7f7f7f; text-decoration-color: #7f7f7f\">:</span><a href=\"file:///var/folders/df/4n57lpzd4z986szq__z25w840000gn/T/ipykernel_42437/289667992.py#69\" target=\"_blank\"><span style=\"color: #7f7f7f; text-decoration-color: #7f7f7f\">69</span></a>\n",
       "<span style=\"color: #7fbfbf; text-decoration-color: #7fbfbf\">           </span>                                                                                         <span style=\"color: #7f7f7f; text-decoration-color: #7f7f7f\">               </span>\n",
       "</pre>\n"
      ],
      "text/plain": [
       "\u001b[2;36m[12:20:28]\u001b[0m\u001b[2;36m \u001b[0m\u001b[1m[\u001b[0mInitiating Fine Tuning\u001b[1m]\u001b[0m\u001b[33m...\u001b[0m                                                              \u001b]8;id=793939;file:///var/folders/df/4n57lpzd4z986szq__z25w840000gn/T/ipykernel_42437/289667992.py\u001b\\\u001b[2m289667992.py\u001b[0m\u001b]8;;\u001b\\\u001b[2m:\u001b[0m\u001b]8;id=117768;file:///var/folders/df/4n57lpzd4z986szq__z25w840000gn/T/ipykernel_42437/289667992.py#69\u001b\\\u001b[2m69\u001b[0m\u001b]8;;\u001b\\\n",
       "\u001b[2;36m           \u001b[0m                                                                                         \u001b[2m               \u001b[0m\n"
      ]
     },
     "metadata": {},
     "output_type": "display_data"
    },
    {
     "data": {
      "text/html": [
       "<pre style=\"white-space:pre;overflow-x:auto;line-height:normal;font-family:Menlo,'DejaVu Sans Mono',consolas,'Courier New',monospace\"><span style=\"font-style: italic\">                      Training Status                       </span>\n",
       "+----------------------------------------------------------+\n",
       "|<span style=\"font-weight: bold\">Epoch </span>|<span style=\"font-weight: bold\"> Steps </span>|<span style=\"font-weight: bold\">                    Loss                   </span>|\n",
       "|------+-------+-------------------------------------------|\n",
       "|  0   |   0   | tensor(9.3073, grad_fn=&lt;NllLossBackward0&gt;)|\n",
       "+----------------------------------------------------------+\n",
       "</pre>\n"
      ],
      "text/plain": [
       "\u001b[3m                      Training Status                       \u001b[0m\n",
       "+----------------------------------------------------------+\n",
       "|\u001b[1mEpoch\u001b[0m\u001b[1m \u001b[0m|\u001b[1m \u001b[0m\u001b[1mSteps\u001b[0m\u001b[1m \u001b[0m|\u001b[1m \u001b[0m\u001b[1m                   Loss                   \u001b[0m|\n",
       "|------+-------+-------------------------------------------|\n",
       "|  0   |   0   | tensor(9.3073, grad_fn=<NllLossBackward0>)|\n",
       "+----------------------------------------------------------+\n"
      ]
     },
     "metadata": {},
     "output_type": "display_data"
    },
    {
     "data": {
      "text/html": [
       "<pre style=\"white-space:pre;overflow-x:auto;line-height:normal;font-family:Menlo,'DejaVu Sans Mono',consolas,'Courier New',monospace\"><span style=\"font-style: italic\">                      Training Status                       </span>\n",
       "+----------------------------------------------------------+\n",
       "|<span style=\"font-weight: bold\">Epoch </span>|<span style=\"font-weight: bold\"> Steps </span>|<span style=\"font-weight: bold\">                    Loss                   </span>|\n",
       "|------+-------+-------------------------------------------|\n",
       "|  0   |   0   | tensor(9.3073, grad_fn=&lt;NllLossBackward0&gt;)|\n",
       "|  0   |  10   | tensor(4.4282, grad_fn=&lt;NllLossBackward0&gt;)|\n",
       "+----------------------------------------------------------+\n",
       "</pre>\n"
      ],
      "text/plain": [
       "\u001b[3m                      Training Status                       \u001b[0m\n",
       "+----------------------------------------------------------+\n",
       "|\u001b[1mEpoch\u001b[0m\u001b[1m \u001b[0m|\u001b[1m \u001b[0m\u001b[1mSteps\u001b[0m\u001b[1m \u001b[0m|\u001b[1m \u001b[0m\u001b[1m                   Loss                   \u001b[0m|\n",
       "|------+-------+-------------------------------------------|\n",
       "|  0   |   0   | tensor(9.3073, grad_fn=<NllLossBackward0>)|\n",
       "|  0   |  10   | tensor(4.4282, grad_fn=<NllLossBackward0>)|\n",
       "+----------------------------------------------------------+\n"
      ]
     },
     "metadata": {},
     "output_type": "display_data"
    },
    {
     "data": {
      "text/html": [
       "<pre style=\"white-space:pre;overflow-x:auto;line-height:normal;font-family:Menlo,'DejaVu Sans Mono',consolas,'Courier New',monospace\"><span style=\"font-style: italic\">                      Training Status                       </span>\n",
       "+----------------------------------------------------------+\n",
       "|<span style=\"font-weight: bold\">Epoch </span>|<span style=\"font-weight: bold\"> Steps </span>|<span style=\"font-weight: bold\">                    Loss                   </span>|\n",
       "|------+-------+-------------------------------------------|\n",
       "|  0   |   0   | tensor(9.3073, grad_fn=&lt;NllLossBackward0&gt;)|\n",
       "|  0   |  10   | tensor(4.4282, grad_fn=&lt;NllLossBackward0&gt;)|\n",
       "|  0   |  20   | tensor(0.6241, grad_fn=&lt;NllLossBackward0&gt;)|\n",
       "+----------------------------------------------------------+\n",
       "</pre>\n"
      ],
      "text/plain": [
       "\u001b[3m                      Training Status                       \u001b[0m\n",
       "+----------------------------------------------------------+\n",
       "|\u001b[1mEpoch\u001b[0m\u001b[1m \u001b[0m|\u001b[1m \u001b[0m\u001b[1mSteps\u001b[0m\u001b[1m \u001b[0m|\u001b[1m \u001b[0m\u001b[1m                   Loss                   \u001b[0m|\n",
       "|------+-------+-------------------------------------------|\n",
       "|  0   |   0   | tensor(9.3073, grad_fn=<NllLossBackward0>)|\n",
       "|  0   |  10   | tensor(4.4282, grad_fn=<NllLossBackward0>)|\n",
       "|  0   |  20   | tensor(0.6241, grad_fn=<NllLossBackward0>)|\n",
       "+----------------------------------------------------------+\n"
      ]
     },
     "metadata": {},
     "output_type": "display_data"
    },
    {
     "data": {
      "text/html": [
       "<pre style=\"white-space:pre;overflow-x:auto;line-height:normal;font-family:Menlo,'DejaVu Sans Mono',consolas,'Courier New',monospace\"><span style=\"font-style: italic\">                      Training Status                       </span>\n",
       "+----------------------------------------------------------+\n",
       "|<span style=\"font-weight: bold\">Epoch </span>|<span style=\"font-weight: bold\"> Steps </span>|<span style=\"font-weight: bold\">                    Loss                   </span>|\n",
       "|------+-------+-------------------------------------------|\n",
       "|  0   |   0   | tensor(9.3073, grad_fn=&lt;NllLossBackward0&gt;)|\n",
       "|  0   |  10   | tensor(4.4282, grad_fn=&lt;NllLossBackward0&gt;)|\n",
       "|  0   |  20   | tensor(0.6241, grad_fn=&lt;NllLossBackward0&gt;)|\n",
       "|  0   |  30   | tensor(1.1970, grad_fn=&lt;NllLossBackward0&gt;)|\n",
       "+----------------------------------------------------------+\n",
       "</pre>\n"
      ],
      "text/plain": [
       "\u001b[3m                      Training Status                       \u001b[0m\n",
       "+----------------------------------------------------------+\n",
       "|\u001b[1mEpoch\u001b[0m\u001b[1m \u001b[0m|\u001b[1m \u001b[0m\u001b[1mSteps\u001b[0m\u001b[1m \u001b[0m|\u001b[1m \u001b[0m\u001b[1m                   Loss                   \u001b[0m|\n",
       "|------+-------+-------------------------------------------|\n",
       "|  0   |   0   | tensor(9.3073, grad_fn=<NllLossBackward0>)|\n",
       "|  0   |  10   | tensor(4.4282, grad_fn=<NllLossBackward0>)|\n",
       "|  0   |  20   | tensor(0.6241, grad_fn=<NllLossBackward0>)|\n",
       "|  0   |  30   | tensor(1.1970, grad_fn=<NllLossBackward0>)|\n",
       "+----------------------------------------------------------+\n"
      ]
     },
     "metadata": {},
     "output_type": "display_data"
    },
    {
     "data": {
      "text/html": [
       "<pre style=\"white-space:pre;overflow-x:auto;line-height:normal;font-family:Menlo,'DejaVu Sans Mono',consolas,'Courier New',monospace\"><span style=\"font-style: italic\">                      Training Status                       </span>\n",
       "+----------------------------------------------------------+\n",
       "|<span style=\"font-weight: bold\">Epoch </span>|<span style=\"font-weight: bold\"> Steps </span>|<span style=\"font-weight: bold\">                    Loss                   </span>|\n",
       "|------+-------+-------------------------------------------|\n",
       "|  0   |   0   | tensor(9.3073, grad_fn=&lt;NllLossBackward0&gt;)|\n",
       "|  0   |  10   | tensor(4.4282, grad_fn=&lt;NllLossBackward0&gt;)|\n",
       "|  0   |  20   | tensor(0.6241, grad_fn=&lt;NllLossBackward0&gt;)|\n",
       "|  0   |  30   | tensor(1.1970, grad_fn=&lt;NllLossBackward0&gt;)|\n",
       "|  0   |  40   | tensor(1.1373, grad_fn=&lt;NllLossBackward0&gt;)|\n",
       "+----------------------------------------------------------+\n",
       "</pre>\n"
      ],
      "text/plain": [
       "\u001b[3m                      Training Status                       \u001b[0m\n",
       "+----------------------------------------------------------+\n",
       "|\u001b[1mEpoch\u001b[0m\u001b[1m \u001b[0m|\u001b[1m \u001b[0m\u001b[1mSteps\u001b[0m\u001b[1m \u001b[0m|\u001b[1m \u001b[0m\u001b[1m                   Loss                   \u001b[0m|\n",
       "|------+-------+-------------------------------------------|\n",
       "|  0   |   0   | tensor(9.3073, grad_fn=<NllLossBackward0>)|\n",
       "|  0   |  10   | tensor(4.4282, grad_fn=<NllLossBackward0>)|\n",
       "|  0   |  20   | tensor(0.6241, grad_fn=<NllLossBackward0>)|\n",
       "|  0   |  30   | tensor(1.1970, grad_fn=<NllLossBackward0>)|\n",
       "|  0   |  40   | tensor(1.1373, grad_fn=<NllLossBackward0>)|\n",
       "+----------------------------------------------------------+\n"
      ]
     },
     "metadata": {},
     "output_type": "display_data"
    },
    {
     "data": {
      "text/html": [
       "<pre style=\"white-space:pre;overflow-x:auto;line-height:normal;font-family:Menlo,'DejaVu Sans Mono',consolas,'Courier New',monospace\"><span style=\"font-style: italic\">                      Training Status                       </span>\n",
       "+----------------------------------------------------------+\n",
       "|<span style=\"font-weight: bold\">Epoch </span>|<span style=\"font-weight: bold\"> Steps </span>|<span style=\"font-weight: bold\">                    Loss                   </span>|\n",
       "|------+-------+-------------------------------------------|\n",
       "|  0   |   0   | tensor(9.3073, grad_fn=&lt;NllLossBackward0&gt;)|\n",
       "|  0   |  10   | tensor(4.4282, grad_fn=&lt;NllLossBackward0&gt;)|\n",
       "|  0   |  20   | tensor(0.6241, grad_fn=&lt;NllLossBackward0&gt;)|\n",
       "|  0   |  30   | tensor(1.1970, grad_fn=&lt;NllLossBackward0&gt;)|\n",
       "|  0   |  40   | tensor(1.1373, grad_fn=&lt;NllLossBackward0&gt;)|\n",
       "|  0   |  50   | tensor(1.2461, grad_fn=&lt;NllLossBackward0&gt;)|\n",
       "+----------------------------------------------------------+\n",
       "</pre>\n"
      ],
      "text/plain": [
       "\u001b[3m                      Training Status                       \u001b[0m\n",
       "+----------------------------------------------------------+\n",
       "|\u001b[1mEpoch\u001b[0m\u001b[1m \u001b[0m|\u001b[1m \u001b[0m\u001b[1mSteps\u001b[0m\u001b[1m \u001b[0m|\u001b[1m \u001b[0m\u001b[1m                   Loss                   \u001b[0m|\n",
       "|------+-------+-------------------------------------------|\n",
       "|  0   |   0   | tensor(9.3073, grad_fn=<NllLossBackward0>)|\n",
       "|  0   |  10   | tensor(4.4282, grad_fn=<NllLossBackward0>)|\n",
       "|  0   |  20   | tensor(0.6241, grad_fn=<NllLossBackward0>)|\n",
       "|  0   |  30   | tensor(1.1970, grad_fn=<NllLossBackward0>)|\n",
       "|  0   |  40   | tensor(1.1373, grad_fn=<NllLossBackward0>)|\n",
       "|  0   |  50   | tensor(1.2461, grad_fn=<NllLossBackward0>)|\n",
       "+----------------------------------------------------------+\n"
      ]
     },
     "metadata": {},
     "output_type": "display_data"
    },
    {
     "data": {
      "text/html": [
       "<pre style=\"white-space:pre;overflow-x:auto;line-height:normal;font-family:Menlo,'DejaVu Sans Mono',consolas,'Courier New',monospace\"><span style=\"font-style: italic\">                      Training Status                       </span>\n",
       "+----------------------------------------------------------+\n",
       "|<span style=\"font-weight: bold\">Epoch </span>|<span style=\"font-weight: bold\"> Steps </span>|<span style=\"font-weight: bold\">                    Loss                   </span>|\n",
       "|------+-------+-------------------------------------------|\n",
       "|  0   |   0   | tensor(9.3073, grad_fn=&lt;NllLossBackward0&gt;)|\n",
       "|  0   |  10   | tensor(4.4282, grad_fn=&lt;NllLossBackward0&gt;)|\n",
       "|  0   |  20   | tensor(0.6241, grad_fn=&lt;NllLossBackward0&gt;)|\n",
       "|  0   |  30   | tensor(1.1970, grad_fn=&lt;NllLossBackward0&gt;)|\n",
       "|  0   |  40   | tensor(1.1373, grad_fn=&lt;NllLossBackward0&gt;)|\n",
       "|  0   |  50   | tensor(1.2461, grad_fn=&lt;NllLossBackward0&gt;)|\n",
       "|  1   |   0   | tensor(0.6894, grad_fn=&lt;NllLossBackward0&gt;)|\n",
       "+----------------------------------------------------------+\n",
       "</pre>\n"
      ],
      "text/plain": [
       "\u001b[3m                      Training Status                       \u001b[0m\n",
       "+----------------------------------------------------------+\n",
       "|\u001b[1mEpoch\u001b[0m\u001b[1m \u001b[0m|\u001b[1m \u001b[0m\u001b[1mSteps\u001b[0m\u001b[1m \u001b[0m|\u001b[1m \u001b[0m\u001b[1m                   Loss                   \u001b[0m|\n",
       "|------+-------+-------------------------------------------|\n",
       "|  0   |   0   | tensor(9.3073, grad_fn=<NllLossBackward0>)|\n",
       "|  0   |  10   | tensor(4.4282, grad_fn=<NllLossBackward0>)|\n",
       "|  0   |  20   | tensor(0.6241, grad_fn=<NllLossBackward0>)|\n",
       "|  0   |  30   | tensor(1.1970, grad_fn=<NllLossBackward0>)|\n",
       "|  0   |  40   | tensor(1.1373, grad_fn=<NllLossBackward0>)|\n",
       "|  0   |  50   | tensor(1.2461, grad_fn=<NllLossBackward0>)|\n",
       "|  1   |   0   | tensor(0.6894, grad_fn=<NllLossBackward0>)|\n",
       "+----------------------------------------------------------+\n"
      ]
     },
     "metadata": {},
     "output_type": "display_data"
    },
    {
     "data": {
      "text/html": [
       "<pre style=\"white-space:pre;overflow-x:auto;line-height:normal;font-family:Menlo,'DejaVu Sans Mono',consolas,'Courier New',monospace\"><span style=\"font-style: italic\">                      Training Status                       </span>\n",
       "+----------------------------------------------------------+\n",
       "|<span style=\"font-weight: bold\">Epoch </span>|<span style=\"font-weight: bold\"> Steps </span>|<span style=\"font-weight: bold\">                    Loss                   </span>|\n",
       "|------+-------+-------------------------------------------|\n",
       "|  0   |   0   | tensor(9.3073, grad_fn=&lt;NllLossBackward0&gt;)|\n",
       "|  0   |  10   | tensor(4.4282, grad_fn=&lt;NllLossBackward0&gt;)|\n",
       "|  0   |  20   | tensor(0.6241, grad_fn=&lt;NllLossBackward0&gt;)|\n",
       "|  0   |  30   | tensor(1.1970, grad_fn=&lt;NllLossBackward0&gt;)|\n",
       "|  0   |  40   | tensor(1.1373, grad_fn=&lt;NllLossBackward0&gt;)|\n",
       "|  0   |  50   | tensor(1.2461, grad_fn=&lt;NllLossBackward0&gt;)|\n",
       "|  1   |   0   | tensor(0.6894, grad_fn=&lt;NllLossBackward0&gt;)|\n",
       "|  1   |  10   | tensor(1.0690, grad_fn=&lt;NllLossBackward0&gt;)|\n",
       "+----------------------------------------------------------+\n",
       "</pre>\n"
      ],
      "text/plain": [
       "\u001b[3m                      Training Status                       \u001b[0m\n",
       "+----------------------------------------------------------+\n",
       "|\u001b[1mEpoch\u001b[0m\u001b[1m \u001b[0m|\u001b[1m \u001b[0m\u001b[1mSteps\u001b[0m\u001b[1m \u001b[0m|\u001b[1m \u001b[0m\u001b[1m                   Loss                   \u001b[0m|\n",
       "|------+-------+-------------------------------------------|\n",
       "|  0   |   0   | tensor(9.3073, grad_fn=<NllLossBackward0>)|\n",
       "|  0   |  10   | tensor(4.4282, grad_fn=<NllLossBackward0>)|\n",
       "|  0   |  20   | tensor(0.6241, grad_fn=<NllLossBackward0>)|\n",
       "|  0   |  30   | tensor(1.1970, grad_fn=<NllLossBackward0>)|\n",
       "|  0   |  40   | tensor(1.1373, grad_fn=<NllLossBackward0>)|\n",
       "|  0   |  50   | tensor(1.2461, grad_fn=<NllLossBackward0>)|\n",
       "|  1   |   0   | tensor(0.6894, grad_fn=<NllLossBackward0>)|\n",
       "|  1   |  10   | tensor(1.0690, grad_fn=<NllLossBackward0>)|\n",
       "+----------------------------------------------------------+\n"
      ]
     },
     "metadata": {},
     "output_type": "display_data"
    },
    {
     "data": {
      "text/html": [
       "<pre style=\"white-space:pre;overflow-x:auto;line-height:normal;font-family:Menlo,'DejaVu Sans Mono',consolas,'Courier New',monospace\"><span style=\"font-style: italic\">                      Training Status                       </span>\n",
       "+----------------------------------------------------------+\n",
       "|<span style=\"font-weight: bold\">Epoch </span>|<span style=\"font-weight: bold\"> Steps </span>|<span style=\"font-weight: bold\">                    Loss                   </span>|\n",
       "|------+-------+-------------------------------------------|\n",
       "|  0   |   0   | tensor(9.3073, grad_fn=&lt;NllLossBackward0&gt;)|\n",
       "|  0   |  10   | tensor(4.4282, grad_fn=&lt;NllLossBackward0&gt;)|\n",
       "|  0   |  20   | tensor(0.6241, grad_fn=&lt;NllLossBackward0&gt;)|\n",
       "|  0   |  30   | tensor(1.1970, grad_fn=&lt;NllLossBackward0&gt;)|\n",
       "|  0   |  40   | tensor(1.1373, grad_fn=&lt;NllLossBackward0&gt;)|\n",
       "|  0   |  50   | tensor(1.2461, grad_fn=&lt;NllLossBackward0&gt;)|\n",
       "|  1   |   0   | tensor(0.6894, grad_fn=&lt;NllLossBackward0&gt;)|\n",
       "|  1   |  10   | tensor(1.0690, grad_fn=&lt;NllLossBackward0&gt;)|\n",
       "|  1   |  20   | tensor(0.0335, grad_fn=&lt;NllLossBackward0&gt;)|\n",
       "+----------------------------------------------------------+\n",
       "</pre>\n"
      ],
      "text/plain": [
       "\u001b[3m                      Training Status                       \u001b[0m\n",
       "+----------------------------------------------------------+\n",
       "|\u001b[1mEpoch\u001b[0m\u001b[1m \u001b[0m|\u001b[1m \u001b[0m\u001b[1mSteps\u001b[0m\u001b[1m \u001b[0m|\u001b[1m \u001b[0m\u001b[1m                   Loss                   \u001b[0m|\n",
       "|------+-------+-------------------------------------------|\n",
       "|  0   |   0   | tensor(9.3073, grad_fn=<NllLossBackward0>)|\n",
       "|  0   |  10   | tensor(4.4282, grad_fn=<NllLossBackward0>)|\n",
       "|  0   |  20   | tensor(0.6241, grad_fn=<NllLossBackward0>)|\n",
       "|  0   |  30   | tensor(1.1970, grad_fn=<NllLossBackward0>)|\n",
       "|  0   |  40   | tensor(1.1373, grad_fn=<NllLossBackward0>)|\n",
       "|  0   |  50   | tensor(1.2461, grad_fn=<NllLossBackward0>)|\n",
       "|  1   |   0   | tensor(0.6894, grad_fn=<NllLossBackward0>)|\n",
       "|  1   |  10   | tensor(1.0690, grad_fn=<NllLossBackward0>)|\n",
       "|  1   |  20   | tensor(0.0335, grad_fn=<NllLossBackward0>)|\n",
       "+----------------------------------------------------------+\n"
      ]
     },
     "metadata": {},
     "output_type": "display_data"
    },
    {
     "data": {
      "text/html": [
       "<pre style=\"white-space:pre;overflow-x:auto;line-height:normal;font-family:Menlo,'DejaVu Sans Mono',consolas,'Courier New',monospace\"><span style=\"font-style: italic\">                      Training Status                       </span>\n",
       "+----------------------------------------------------------+\n",
       "|<span style=\"font-weight: bold\">Epoch </span>|<span style=\"font-weight: bold\"> Steps </span>|<span style=\"font-weight: bold\">                    Loss                   </span>|\n",
       "|------+-------+-------------------------------------------|\n",
       "|  0   |   0   | tensor(9.3073, grad_fn=&lt;NllLossBackward0&gt;)|\n",
       "|  0   |  10   | tensor(4.4282, grad_fn=&lt;NllLossBackward0&gt;)|\n",
       "|  0   |  20   | tensor(0.6241, grad_fn=&lt;NllLossBackward0&gt;)|\n",
       "|  0   |  30   | tensor(1.1970, grad_fn=&lt;NllLossBackward0&gt;)|\n",
       "|  0   |  40   | tensor(1.1373, grad_fn=&lt;NllLossBackward0&gt;)|\n",
       "|  0   |  50   | tensor(1.2461, grad_fn=&lt;NllLossBackward0&gt;)|\n",
       "|  1   |   0   | tensor(0.6894, grad_fn=&lt;NllLossBackward0&gt;)|\n",
       "|  1   |  10   | tensor(1.0690, grad_fn=&lt;NllLossBackward0&gt;)|\n",
       "|  1   |  20   | tensor(0.0335, grad_fn=&lt;NllLossBackward0&gt;)|\n",
       "|  1   |  30   | tensor(0.6509, grad_fn=&lt;NllLossBackward0&gt;)|\n",
       "+----------------------------------------------------------+\n",
       "</pre>\n"
      ],
      "text/plain": [
       "\u001b[3m                      Training Status                       \u001b[0m\n",
       "+----------------------------------------------------------+\n",
       "|\u001b[1mEpoch\u001b[0m\u001b[1m \u001b[0m|\u001b[1m \u001b[0m\u001b[1mSteps\u001b[0m\u001b[1m \u001b[0m|\u001b[1m \u001b[0m\u001b[1m                   Loss                   \u001b[0m|\n",
       "|------+-------+-------------------------------------------|\n",
       "|  0   |   0   | tensor(9.3073, grad_fn=<NllLossBackward0>)|\n",
       "|  0   |  10   | tensor(4.4282, grad_fn=<NllLossBackward0>)|\n",
       "|  0   |  20   | tensor(0.6241, grad_fn=<NllLossBackward0>)|\n",
       "|  0   |  30   | tensor(1.1970, grad_fn=<NllLossBackward0>)|\n",
       "|  0   |  40   | tensor(1.1373, grad_fn=<NllLossBackward0>)|\n",
       "|  0   |  50   | tensor(1.2461, grad_fn=<NllLossBackward0>)|\n",
       "|  1   |   0   | tensor(0.6894, grad_fn=<NllLossBackward0>)|\n",
       "|  1   |  10   | tensor(1.0690, grad_fn=<NllLossBackward0>)|\n",
       "|  1   |  20   | tensor(0.0335, grad_fn=<NllLossBackward0>)|\n",
       "|  1   |  30   | tensor(0.6509, grad_fn=<NllLossBackward0>)|\n",
       "+----------------------------------------------------------+\n"
      ]
     },
     "metadata": {},
     "output_type": "display_data"
    },
    {
     "data": {
      "text/html": [
       "<pre style=\"white-space:pre;overflow-x:auto;line-height:normal;font-family:Menlo,'DejaVu Sans Mono',consolas,'Courier New',monospace\"><span style=\"font-style: italic\">                      Training Status                       </span>\n",
       "+----------------------------------------------------------+\n",
       "|<span style=\"font-weight: bold\">Epoch </span>|<span style=\"font-weight: bold\"> Steps </span>|<span style=\"font-weight: bold\">                    Loss                   </span>|\n",
       "|------+-------+-------------------------------------------|\n",
       "|  0   |   0   | tensor(9.3073, grad_fn=&lt;NllLossBackward0&gt;)|\n",
       "|  0   |  10   | tensor(4.4282, grad_fn=&lt;NllLossBackward0&gt;)|\n",
       "|  0   |  20   | tensor(0.6241, grad_fn=&lt;NllLossBackward0&gt;)|\n",
       "|  0   |  30   | tensor(1.1970, grad_fn=&lt;NllLossBackward0&gt;)|\n",
       "|  0   |  40   | tensor(1.1373, grad_fn=&lt;NllLossBackward0&gt;)|\n",
       "|  0   |  50   | tensor(1.2461, grad_fn=&lt;NllLossBackward0&gt;)|\n",
       "|  1   |   0   | tensor(0.6894, grad_fn=&lt;NllLossBackward0&gt;)|\n",
       "|  1   |  10   | tensor(1.0690, grad_fn=&lt;NllLossBackward0&gt;)|\n",
       "|  1   |  20   | tensor(0.0335, grad_fn=&lt;NllLossBackward0&gt;)|\n",
       "|  1   |  30   | tensor(0.6509, grad_fn=&lt;NllLossBackward0&gt;)|\n",
       "|  1   |  40   | tensor(0.1858, grad_fn=&lt;NllLossBackward0&gt;)|\n",
       "+----------------------------------------------------------+\n",
       "</pre>\n"
      ],
      "text/plain": [
       "\u001b[3m                      Training Status                       \u001b[0m\n",
       "+----------------------------------------------------------+\n",
       "|\u001b[1mEpoch\u001b[0m\u001b[1m \u001b[0m|\u001b[1m \u001b[0m\u001b[1mSteps\u001b[0m\u001b[1m \u001b[0m|\u001b[1m \u001b[0m\u001b[1m                   Loss                   \u001b[0m|\n",
       "|------+-------+-------------------------------------------|\n",
       "|  0   |   0   | tensor(9.3073, grad_fn=<NllLossBackward0>)|\n",
       "|  0   |  10   | tensor(4.4282, grad_fn=<NllLossBackward0>)|\n",
       "|  0   |  20   | tensor(0.6241, grad_fn=<NllLossBackward0>)|\n",
       "|  0   |  30   | tensor(1.1970, grad_fn=<NllLossBackward0>)|\n",
       "|  0   |  40   | tensor(1.1373, grad_fn=<NllLossBackward0>)|\n",
       "|  0   |  50   | tensor(1.2461, grad_fn=<NllLossBackward0>)|\n",
       "|  1   |   0   | tensor(0.6894, grad_fn=<NllLossBackward0>)|\n",
       "|  1   |  10   | tensor(1.0690, grad_fn=<NllLossBackward0>)|\n",
       "|  1   |  20   | tensor(0.0335, grad_fn=<NllLossBackward0>)|\n",
       "|  1   |  30   | tensor(0.6509, grad_fn=<NllLossBackward0>)|\n",
       "|  1   |  40   | tensor(0.1858, grad_fn=<NllLossBackward0>)|\n",
       "+----------------------------------------------------------+\n"
      ]
     },
     "metadata": {},
     "output_type": "display_data"
    },
    {
     "data": {
      "text/html": [
       "<pre style=\"white-space:pre;overflow-x:auto;line-height:normal;font-family:Menlo,'DejaVu Sans Mono',consolas,'Courier New',monospace\"><span style=\"font-style: italic\">                      Training Status                       </span>\n",
       "+----------------------------------------------------------+\n",
       "|<span style=\"font-weight: bold\">Epoch </span>|<span style=\"font-weight: bold\"> Steps </span>|<span style=\"font-weight: bold\">                    Loss                   </span>|\n",
       "|------+-------+-------------------------------------------|\n",
       "|  0   |   0   | tensor(9.3073, grad_fn=&lt;NllLossBackward0&gt;)|\n",
       "|  0   |  10   | tensor(4.4282, grad_fn=&lt;NllLossBackward0&gt;)|\n",
       "|  0   |  20   | tensor(0.6241, grad_fn=&lt;NllLossBackward0&gt;)|\n",
       "|  0   |  30   | tensor(1.1970, grad_fn=&lt;NllLossBackward0&gt;)|\n",
       "|  0   |  40   | tensor(1.1373, grad_fn=&lt;NllLossBackward0&gt;)|\n",
       "|  0   |  50   | tensor(1.2461, grad_fn=&lt;NllLossBackward0&gt;)|\n",
       "|  1   |   0   | tensor(0.6894, grad_fn=&lt;NllLossBackward0&gt;)|\n",
       "|  1   |  10   | tensor(1.0690, grad_fn=&lt;NllLossBackward0&gt;)|\n",
       "|  1   |  20   | tensor(0.0335, grad_fn=&lt;NllLossBackward0&gt;)|\n",
       "|  1   |  30   | tensor(0.6509, grad_fn=&lt;NllLossBackward0&gt;)|\n",
       "|  1   |  40   | tensor(0.1858, grad_fn=&lt;NllLossBackward0&gt;)|\n",
       "|  1   |  50   | tensor(1.3012, grad_fn=&lt;NllLossBackward0&gt;)|\n",
       "+----------------------------------------------------------+\n",
       "</pre>\n"
      ],
      "text/plain": [
       "\u001b[3m                      Training Status                       \u001b[0m\n",
       "+----------------------------------------------------------+\n",
       "|\u001b[1mEpoch\u001b[0m\u001b[1m \u001b[0m|\u001b[1m \u001b[0m\u001b[1mSteps\u001b[0m\u001b[1m \u001b[0m|\u001b[1m \u001b[0m\u001b[1m                   Loss                   \u001b[0m|\n",
       "|------+-------+-------------------------------------------|\n",
       "|  0   |   0   | tensor(9.3073, grad_fn=<NllLossBackward0>)|\n",
       "|  0   |  10   | tensor(4.4282, grad_fn=<NllLossBackward0>)|\n",
       "|  0   |  20   | tensor(0.6241, grad_fn=<NllLossBackward0>)|\n",
       "|  0   |  30   | tensor(1.1970, grad_fn=<NllLossBackward0>)|\n",
       "|  0   |  40   | tensor(1.1373, grad_fn=<NllLossBackward0>)|\n",
       "|  0   |  50   | tensor(1.2461, grad_fn=<NllLossBackward0>)|\n",
       "|  1   |   0   | tensor(0.6894, grad_fn=<NllLossBackward0>)|\n",
       "|  1   |  10   | tensor(1.0690, grad_fn=<NllLossBackward0>)|\n",
       "|  1   |  20   | tensor(0.0335, grad_fn=<NllLossBackward0>)|\n",
       "|  1   |  30   | tensor(0.6509, grad_fn=<NllLossBackward0>)|\n",
       "|  1   |  40   | tensor(0.1858, grad_fn=<NllLossBackward0>)|\n",
       "|  1   |  50   | tensor(1.3012, grad_fn=<NllLossBackward0>)|\n",
       "+----------------------------------------------------------+\n"
      ]
     },
     "metadata": {},
     "output_type": "display_data"
    },
    {
     "data": {
      "text/html": [
       "<pre style=\"white-space:pre;overflow-x:auto;line-height:normal;font-family:Menlo,'DejaVu Sans Mono',consolas,'Courier New',monospace\"><span style=\"font-style: italic\">                      Training Status                       </span>\n",
       "+----------------------------------------------------------+\n",
       "|<span style=\"font-weight: bold\">Epoch </span>|<span style=\"font-weight: bold\"> Steps </span>|<span style=\"font-weight: bold\">                    Loss                   </span>|\n",
       "|------+-------+-------------------------------------------|\n",
       "|  0   |   0   | tensor(9.3073, grad_fn=&lt;NllLossBackward0&gt;)|\n",
       "|  0   |  10   | tensor(4.4282, grad_fn=&lt;NllLossBackward0&gt;)|\n",
       "|  0   |  20   | tensor(0.6241, grad_fn=&lt;NllLossBackward0&gt;)|\n",
       "|  0   |  30   | tensor(1.1970, grad_fn=&lt;NllLossBackward0&gt;)|\n",
       "|  0   |  40   | tensor(1.1373, grad_fn=&lt;NllLossBackward0&gt;)|\n",
       "|  0   |  50   | tensor(1.2461, grad_fn=&lt;NllLossBackward0&gt;)|\n",
       "|  1   |   0   | tensor(0.6894, grad_fn=&lt;NllLossBackward0&gt;)|\n",
       "|  1   |  10   | tensor(1.0690, grad_fn=&lt;NllLossBackward0&gt;)|\n",
       "|  1   |  20   | tensor(0.0335, grad_fn=&lt;NllLossBackward0&gt;)|\n",
       "|  1   |  30   | tensor(0.6509, grad_fn=&lt;NllLossBackward0&gt;)|\n",
       "|  1   |  40   | tensor(0.1858, grad_fn=&lt;NllLossBackward0&gt;)|\n",
       "|  1   |  50   | tensor(1.3012, grad_fn=&lt;NllLossBackward0&gt;)|\n",
       "|  2   |   0   | tensor(1.3968, grad_fn=&lt;NllLossBackward0&gt;)|\n",
       "+----------------------------------------------------------+\n",
       "</pre>\n"
      ],
      "text/plain": [
       "\u001b[3m                      Training Status                       \u001b[0m\n",
       "+----------------------------------------------------------+\n",
       "|\u001b[1mEpoch\u001b[0m\u001b[1m \u001b[0m|\u001b[1m \u001b[0m\u001b[1mSteps\u001b[0m\u001b[1m \u001b[0m|\u001b[1m \u001b[0m\u001b[1m                   Loss                   \u001b[0m|\n",
       "|------+-------+-------------------------------------------|\n",
       "|  0   |   0   | tensor(9.3073, grad_fn=<NllLossBackward0>)|\n",
       "|  0   |  10   | tensor(4.4282, grad_fn=<NllLossBackward0>)|\n",
       "|  0   |  20   | tensor(0.6241, grad_fn=<NllLossBackward0>)|\n",
       "|  0   |  30   | tensor(1.1970, grad_fn=<NllLossBackward0>)|\n",
       "|  0   |  40   | tensor(1.1373, grad_fn=<NllLossBackward0>)|\n",
       "|  0   |  50   | tensor(1.2461, grad_fn=<NllLossBackward0>)|\n",
       "|  1   |   0   | tensor(0.6894, grad_fn=<NllLossBackward0>)|\n",
       "|  1   |  10   | tensor(1.0690, grad_fn=<NllLossBackward0>)|\n",
       "|  1   |  20   | tensor(0.0335, grad_fn=<NllLossBackward0>)|\n",
       "|  1   |  30   | tensor(0.6509, grad_fn=<NllLossBackward0>)|\n",
       "|  1   |  40   | tensor(0.1858, grad_fn=<NllLossBackward0>)|\n",
       "|  1   |  50   | tensor(1.3012, grad_fn=<NllLossBackward0>)|\n",
       "|  2   |   0   | tensor(1.3968, grad_fn=<NllLossBackward0>)|\n",
       "+----------------------------------------------------------+\n"
      ]
     },
     "metadata": {},
     "output_type": "display_data"
    },
    {
     "data": {
      "text/html": [
       "<pre style=\"white-space:pre;overflow-x:auto;line-height:normal;font-family:Menlo,'DejaVu Sans Mono',consolas,'Courier New',monospace\"><span style=\"font-style: italic\">                      Training Status                       </span>\n",
       "+----------------------------------------------------------+\n",
       "|<span style=\"font-weight: bold\">Epoch </span>|<span style=\"font-weight: bold\"> Steps </span>|<span style=\"font-weight: bold\">                    Loss                   </span>|\n",
       "|------+-------+-------------------------------------------|\n",
       "|  0   |   0   | tensor(9.3073, grad_fn=&lt;NllLossBackward0&gt;)|\n",
       "|  0   |  10   | tensor(4.4282, grad_fn=&lt;NllLossBackward0&gt;)|\n",
       "|  0   |  20   | tensor(0.6241, grad_fn=&lt;NllLossBackward0&gt;)|\n",
       "|  0   |  30   | tensor(1.1970, grad_fn=&lt;NllLossBackward0&gt;)|\n",
       "|  0   |  40   | tensor(1.1373, grad_fn=&lt;NllLossBackward0&gt;)|\n",
       "|  0   |  50   | tensor(1.2461, grad_fn=&lt;NllLossBackward0&gt;)|\n",
       "|  1   |   0   | tensor(0.6894, grad_fn=&lt;NllLossBackward0&gt;)|\n",
       "|  1   |  10   | tensor(1.0690, grad_fn=&lt;NllLossBackward0&gt;)|\n",
       "|  1   |  20   | tensor(0.0335, grad_fn=&lt;NllLossBackward0&gt;)|\n",
       "|  1   |  30   | tensor(0.6509, grad_fn=&lt;NllLossBackward0&gt;)|\n",
       "|  1   |  40   | tensor(0.1858, grad_fn=&lt;NllLossBackward0&gt;)|\n",
       "|  1   |  50   | tensor(1.3012, grad_fn=&lt;NllLossBackward0&gt;)|\n",
       "|  2   |   0   | tensor(1.3968, grad_fn=&lt;NllLossBackward0&gt;)|\n",
       "|  2   |  10   | tensor(0.4913, grad_fn=&lt;NllLossBackward0&gt;)|\n",
       "+----------------------------------------------------------+\n",
       "</pre>\n"
      ],
      "text/plain": [
       "\u001b[3m                      Training Status                       \u001b[0m\n",
       "+----------------------------------------------------------+\n",
       "|\u001b[1mEpoch\u001b[0m\u001b[1m \u001b[0m|\u001b[1m \u001b[0m\u001b[1mSteps\u001b[0m\u001b[1m \u001b[0m|\u001b[1m \u001b[0m\u001b[1m                   Loss                   \u001b[0m|\n",
       "|------+-------+-------------------------------------------|\n",
       "|  0   |   0   | tensor(9.3073, grad_fn=<NllLossBackward0>)|\n",
       "|  0   |  10   | tensor(4.4282, grad_fn=<NllLossBackward0>)|\n",
       "|  0   |  20   | tensor(0.6241, grad_fn=<NllLossBackward0>)|\n",
       "|  0   |  30   | tensor(1.1970, grad_fn=<NllLossBackward0>)|\n",
       "|  0   |  40   | tensor(1.1373, grad_fn=<NllLossBackward0>)|\n",
       "|  0   |  50   | tensor(1.2461, grad_fn=<NllLossBackward0>)|\n",
       "|  1   |   0   | tensor(0.6894, grad_fn=<NllLossBackward0>)|\n",
       "|  1   |  10   | tensor(1.0690, grad_fn=<NllLossBackward0>)|\n",
       "|  1   |  20   | tensor(0.0335, grad_fn=<NllLossBackward0>)|\n",
       "|  1   |  30   | tensor(0.6509, grad_fn=<NllLossBackward0>)|\n",
       "|  1   |  40   | tensor(0.1858, grad_fn=<NllLossBackward0>)|\n",
       "|  1   |  50   | tensor(1.3012, grad_fn=<NllLossBackward0>)|\n",
       "|  2   |   0   | tensor(1.3968, grad_fn=<NllLossBackward0>)|\n",
       "|  2   |  10   | tensor(0.4913, grad_fn=<NllLossBackward0>)|\n",
       "+----------------------------------------------------------+\n"
      ]
     },
     "metadata": {},
     "output_type": "display_data"
    },
    {
     "data": {
      "text/html": [
       "<pre style=\"white-space:pre;overflow-x:auto;line-height:normal;font-family:Menlo,'DejaVu Sans Mono',consolas,'Courier New',monospace\"><span style=\"font-style: italic\">                      Training Status                       </span>\n",
       "+----------------------------------------------------------+\n",
       "|<span style=\"font-weight: bold\">Epoch </span>|<span style=\"font-weight: bold\"> Steps </span>|<span style=\"font-weight: bold\">                    Loss                   </span>|\n",
       "|------+-------+-------------------------------------------|\n",
       "|  0   |   0   | tensor(9.3073, grad_fn=&lt;NllLossBackward0&gt;)|\n",
       "|  0   |  10   | tensor(4.4282, grad_fn=&lt;NllLossBackward0&gt;)|\n",
       "|  0   |  20   | tensor(0.6241, grad_fn=&lt;NllLossBackward0&gt;)|\n",
       "|  0   |  30   | tensor(1.1970, grad_fn=&lt;NllLossBackward0&gt;)|\n",
       "|  0   |  40   | tensor(1.1373, grad_fn=&lt;NllLossBackward0&gt;)|\n",
       "|  0   |  50   | tensor(1.2461, grad_fn=&lt;NllLossBackward0&gt;)|\n",
       "|  1   |   0   | tensor(0.6894, grad_fn=&lt;NllLossBackward0&gt;)|\n",
       "|  1   |  10   | tensor(1.0690, grad_fn=&lt;NllLossBackward0&gt;)|\n",
       "|  1   |  20   | tensor(0.0335, grad_fn=&lt;NllLossBackward0&gt;)|\n",
       "|  1   |  30   | tensor(0.6509, grad_fn=&lt;NllLossBackward0&gt;)|\n",
       "|  1   |  40   | tensor(0.1858, grad_fn=&lt;NllLossBackward0&gt;)|\n",
       "|  1   |  50   | tensor(1.3012, grad_fn=&lt;NllLossBackward0&gt;)|\n",
       "|  2   |   0   | tensor(1.3968, grad_fn=&lt;NllLossBackward0&gt;)|\n",
       "|  2   |  10   | tensor(0.4913, grad_fn=&lt;NllLossBackward0&gt;)|\n",
       "|  2   |  20   | tensor(0.2258, grad_fn=&lt;NllLossBackward0&gt;)|\n",
       "+----------------------------------------------------------+\n",
       "</pre>\n"
      ],
      "text/plain": [
       "\u001b[3m                      Training Status                       \u001b[0m\n",
       "+----------------------------------------------------------+\n",
       "|\u001b[1mEpoch\u001b[0m\u001b[1m \u001b[0m|\u001b[1m \u001b[0m\u001b[1mSteps\u001b[0m\u001b[1m \u001b[0m|\u001b[1m \u001b[0m\u001b[1m                   Loss                   \u001b[0m|\n",
       "|------+-------+-------------------------------------------|\n",
       "|  0   |   0   | tensor(9.3073, grad_fn=<NllLossBackward0>)|\n",
       "|  0   |  10   | tensor(4.4282, grad_fn=<NllLossBackward0>)|\n",
       "|  0   |  20   | tensor(0.6241, grad_fn=<NllLossBackward0>)|\n",
       "|  0   |  30   | tensor(1.1970, grad_fn=<NllLossBackward0>)|\n",
       "|  0   |  40   | tensor(1.1373, grad_fn=<NllLossBackward0>)|\n",
       "|  0   |  50   | tensor(1.2461, grad_fn=<NllLossBackward0>)|\n",
       "|  1   |   0   | tensor(0.6894, grad_fn=<NllLossBackward0>)|\n",
       "|  1   |  10   | tensor(1.0690, grad_fn=<NllLossBackward0>)|\n",
       "|  1   |  20   | tensor(0.0335, grad_fn=<NllLossBackward0>)|\n",
       "|  1   |  30   | tensor(0.6509, grad_fn=<NllLossBackward0>)|\n",
       "|  1   |  40   | tensor(0.1858, grad_fn=<NllLossBackward0>)|\n",
       "|  1   |  50   | tensor(1.3012, grad_fn=<NllLossBackward0>)|\n",
       "|  2   |   0   | tensor(1.3968, grad_fn=<NllLossBackward0>)|\n",
       "|  2   |  10   | tensor(0.4913, grad_fn=<NllLossBackward0>)|\n",
       "|  2   |  20   | tensor(0.2258, grad_fn=<NllLossBackward0>)|\n",
       "+----------------------------------------------------------+\n"
      ]
     },
     "metadata": {},
     "output_type": "display_data"
    },
    {
     "data": {
      "text/html": [
       "<pre style=\"white-space:pre;overflow-x:auto;line-height:normal;font-family:Menlo,'DejaVu Sans Mono',consolas,'Courier New',monospace\"><span style=\"font-style: italic\">                      Training Status                       </span>\n",
       "+----------------------------------------------------------+\n",
       "|<span style=\"font-weight: bold\">Epoch </span>|<span style=\"font-weight: bold\"> Steps </span>|<span style=\"font-weight: bold\">                    Loss                   </span>|\n",
       "|------+-------+-------------------------------------------|\n",
       "|  0   |   0   | tensor(9.3073, grad_fn=&lt;NllLossBackward0&gt;)|\n",
       "|  0   |  10   | tensor(4.4282, grad_fn=&lt;NllLossBackward0&gt;)|\n",
       "|  0   |  20   | tensor(0.6241, grad_fn=&lt;NllLossBackward0&gt;)|\n",
       "|  0   |  30   | tensor(1.1970, grad_fn=&lt;NllLossBackward0&gt;)|\n",
       "|  0   |  40   | tensor(1.1373, grad_fn=&lt;NllLossBackward0&gt;)|\n",
       "|  0   |  50   | tensor(1.2461, grad_fn=&lt;NllLossBackward0&gt;)|\n",
       "|  1   |   0   | tensor(0.6894, grad_fn=&lt;NllLossBackward0&gt;)|\n",
       "|  1   |  10   | tensor(1.0690, grad_fn=&lt;NllLossBackward0&gt;)|\n",
       "|  1   |  20   | tensor(0.0335, grad_fn=&lt;NllLossBackward0&gt;)|\n",
       "|  1   |  30   | tensor(0.6509, grad_fn=&lt;NllLossBackward0&gt;)|\n",
       "|  1   |  40   | tensor(0.1858, grad_fn=&lt;NllLossBackward0&gt;)|\n",
       "|  1   |  50   | tensor(1.3012, grad_fn=&lt;NllLossBackward0&gt;)|\n",
       "|  2   |   0   | tensor(1.3968, grad_fn=&lt;NllLossBackward0&gt;)|\n",
       "|  2   |  10   | tensor(0.4913, grad_fn=&lt;NllLossBackward0&gt;)|\n",
       "|  2   |  20   | tensor(0.2258, grad_fn=&lt;NllLossBackward0&gt;)|\n",
       "|  2   |  30   | tensor(0.0303, grad_fn=&lt;NllLossBackward0&gt;)|\n",
       "+----------------------------------------------------------+\n",
       "</pre>\n"
      ],
      "text/plain": [
       "\u001b[3m                      Training Status                       \u001b[0m\n",
       "+----------------------------------------------------------+\n",
       "|\u001b[1mEpoch\u001b[0m\u001b[1m \u001b[0m|\u001b[1m \u001b[0m\u001b[1mSteps\u001b[0m\u001b[1m \u001b[0m|\u001b[1m \u001b[0m\u001b[1m                   Loss                   \u001b[0m|\n",
       "|------+-------+-------------------------------------------|\n",
       "|  0   |   0   | tensor(9.3073, grad_fn=<NllLossBackward0>)|\n",
       "|  0   |  10   | tensor(4.4282, grad_fn=<NllLossBackward0>)|\n",
       "|  0   |  20   | tensor(0.6241, grad_fn=<NllLossBackward0>)|\n",
       "|  0   |  30   | tensor(1.1970, grad_fn=<NllLossBackward0>)|\n",
       "|  0   |  40   | tensor(1.1373, grad_fn=<NllLossBackward0>)|\n",
       "|  0   |  50   | tensor(1.2461, grad_fn=<NllLossBackward0>)|\n",
       "|  1   |   0   | tensor(0.6894, grad_fn=<NllLossBackward0>)|\n",
       "|  1   |  10   | tensor(1.0690, grad_fn=<NllLossBackward0>)|\n",
       "|  1   |  20   | tensor(0.0335, grad_fn=<NllLossBackward0>)|\n",
       "|  1   |  30   | tensor(0.6509, grad_fn=<NllLossBackward0>)|\n",
       "|  1   |  40   | tensor(0.1858, grad_fn=<NllLossBackward0>)|\n",
       "|  1   |  50   | tensor(1.3012, grad_fn=<NllLossBackward0>)|\n",
       "|  2   |   0   | tensor(1.3968, grad_fn=<NllLossBackward0>)|\n",
       "|  2   |  10   | tensor(0.4913, grad_fn=<NllLossBackward0>)|\n",
       "|  2   |  20   | tensor(0.2258, grad_fn=<NllLossBackward0>)|\n",
       "|  2   |  30   | tensor(0.0303, grad_fn=<NllLossBackward0>)|\n",
       "+----------------------------------------------------------+\n"
      ]
     },
     "metadata": {},
     "output_type": "display_data"
    },
    {
     "data": {
      "text/html": [
       "<pre style=\"white-space:pre;overflow-x:auto;line-height:normal;font-family:Menlo,'DejaVu Sans Mono',consolas,'Courier New',monospace\"><span style=\"font-style: italic\">                      Training Status                       </span>\n",
       "+----------------------------------------------------------+\n",
       "|<span style=\"font-weight: bold\">Epoch </span>|<span style=\"font-weight: bold\"> Steps </span>|<span style=\"font-weight: bold\">                    Loss                   </span>|\n",
       "|------+-------+-------------------------------------------|\n",
       "|  0   |   0   | tensor(9.3073, grad_fn=&lt;NllLossBackward0&gt;)|\n",
       "|  0   |  10   | tensor(4.4282, grad_fn=&lt;NllLossBackward0&gt;)|\n",
       "|  0   |  20   | tensor(0.6241, grad_fn=&lt;NllLossBackward0&gt;)|\n",
       "|  0   |  30   | tensor(1.1970, grad_fn=&lt;NllLossBackward0&gt;)|\n",
       "|  0   |  40   | tensor(1.1373, grad_fn=&lt;NllLossBackward0&gt;)|\n",
       "|  0   |  50   | tensor(1.2461, grad_fn=&lt;NllLossBackward0&gt;)|\n",
       "|  1   |   0   | tensor(0.6894, grad_fn=&lt;NllLossBackward0&gt;)|\n",
       "|  1   |  10   | tensor(1.0690, grad_fn=&lt;NllLossBackward0&gt;)|\n",
       "|  1   |  20   | tensor(0.0335, grad_fn=&lt;NllLossBackward0&gt;)|\n",
       "|  1   |  30   | tensor(0.6509, grad_fn=&lt;NllLossBackward0&gt;)|\n",
       "|  1   |  40   | tensor(0.1858, grad_fn=&lt;NllLossBackward0&gt;)|\n",
       "|  1   |  50   | tensor(1.3012, grad_fn=&lt;NllLossBackward0&gt;)|\n",
       "|  2   |   0   | tensor(1.3968, grad_fn=&lt;NllLossBackward0&gt;)|\n",
       "|  2   |  10   | tensor(0.4913, grad_fn=&lt;NllLossBackward0&gt;)|\n",
       "|  2   |  20   | tensor(0.2258, grad_fn=&lt;NllLossBackward0&gt;)|\n",
       "|  2   |  30   | tensor(0.0303, grad_fn=&lt;NllLossBackward0&gt;)|\n",
       "|  2   |  40   | tensor(0.4487, grad_fn=&lt;NllLossBackward0&gt;)|\n",
       "+----------------------------------------------------------+\n",
       "</pre>\n"
      ],
      "text/plain": [
       "\u001b[3m                      Training Status                       \u001b[0m\n",
       "+----------------------------------------------------------+\n",
       "|\u001b[1mEpoch\u001b[0m\u001b[1m \u001b[0m|\u001b[1m \u001b[0m\u001b[1mSteps\u001b[0m\u001b[1m \u001b[0m|\u001b[1m \u001b[0m\u001b[1m                   Loss                   \u001b[0m|\n",
       "|------+-------+-------------------------------------------|\n",
       "|  0   |   0   | tensor(9.3073, grad_fn=<NllLossBackward0>)|\n",
       "|  0   |  10   | tensor(4.4282, grad_fn=<NllLossBackward0>)|\n",
       "|  0   |  20   | tensor(0.6241, grad_fn=<NllLossBackward0>)|\n",
       "|  0   |  30   | tensor(1.1970, grad_fn=<NllLossBackward0>)|\n",
       "|  0   |  40   | tensor(1.1373, grad_fn=<NllLossBackward0>)|\n",
       "|  0   |  50   | tensor(1.2461, grad_fn=<NllLossBackward0>)|\n",
       "|  1   |   0   | tensor(0.6894, grad_fn=<NllLossBackward0>)|\n",
       "|  1   |  10   | tensor(1.0690, grad_fn=<NllLossBackward0>)|\n",
       "|  1   |  20   | tensor(0.0335, grad_fn=<NllLossBackward0>)|\n",
       "|  1   |  30   | tensor(0.6509, grad_fn=<NllLossBackward0>)|\n",
       "|  1   |  40   | tensor(0.1858, grad_fn=<NllLossBackward0>)|\n",
       "|  1   |  50   | tensor(1.3012, grad_fn=<NllLossBackward0>)|\n",
       "|  2   |   0   | tensor(1.3968, grad_fn=<NllLossBackward0>)|\n",
       "|  2   |  10   | tensor(0.4913, grad_fn=<NllLossBackward0>)|\n",
       "|  2   |  20   | tensor(0.2258, grad_fn=<NllLossBackward0>)|\n",
       "|  2   |  30   | tensor(0.0303, grad_fn=<NllLossBackward0>)|\n",
       "|  2   |  40   | tensor(0.4487, grad_fn=<NllLossBackward0>)|\n",
       "+----------------------------------------------------------+\n"
      ]
     },
     "metadata": {},
     "output_type": "display_data"
    }
   ],
   "source": [
    "# T5 accepts prefix of the task to be performed:\n",
    "# Since we are summarizing, let's add summarize to source text as a prefix\n",
    "df[\"Review\"] = \"Extract Product: \" + df[\"Review\"]\n",
    "T5Trainer(\n",
    "    dataframe=df,\t\t#[:500], INPUT FIRST 500 ROWS.\n",
    "    source_text=\"Review\",\n",
    "    target_text=\"Product\",\n",
    "    model_params=training_params,\n",
    "    output_dir=\"review_outputs\",\n",
    ")\n"
   ]
  },
  {
   "cell_type": "code",
   "execution_count": null,
   "metadata": {},
   "outputs": [],
   "source": [
    "console.log(f\"Saving the model ... \\n\")\n",
    "path=os.path.join(\".\", \"model_files\")\n",
    "\n",
    "\n",
    "model.save_pretrained(path)\n",
    "tokenizer.save_pretrained(path)\n",
    "\n",
    "tokenizer = T5Tokenizer.from_pretrained(\"./review_outputs/model_files\",local_files_only=True)\n",
    "model = T5ForConditionalGeneration.from_pretrained(\"./review_outputs/model_files\",local_files_only=True)"
   ]
  },
  {
   "cell_type": "code",
   "execution_count": null,
   "metadata": {},
   "outputs": [],
   "source": [
    "ids = tokenizer(\"Extract Product :This laptop has good battery life. \\\n",
    "It works quite fast i must say\", return_tensors=\"pt\").input_ids\n",
    "generated_ids = model.generate(\n",
    "              input_ids = ids,\n",
    "              max_length=150, \n",
    "              num_beams=2,\n",
    "              repetition_penalty=2.5, \n",
    "              length_penalty=1.0, \n",
    "              early_stopping=True\n",
    "              )\n",
    "preds = [tokenizer.decode(g, skip_special_tokens=True, clean_up_tokenization_spaces=True) for g in generated_ids]\n",
    "print(preds)\n",
    "       \n"
   ]
  }
 ],
 "metadata": {
  "kernelspec": {
   "display_name": "Python 3",
   "language": "python",
   "name": "python3"
  },
  "language_info": {
   "codemirror_mode": {
    "name": "ipython",
    "version": 3
   },
   "file_extension": ".py",
   "mimetype": "text/x-python",
   "name": "python",
   "nbconvert_exporter": "python",
   "pygments_lexer": "ipython3",
   "version": "3.12.2"
  }
 },
 "nbformat": 4,
 "nbformat_minor": 2
}

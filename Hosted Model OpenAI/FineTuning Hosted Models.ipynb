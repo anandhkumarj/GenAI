{
 "cells": [
  {
   "cell_type": "markdown",
   "id": "16aad58c",
   "metadata": {},
   "source": [
    "# Fine Tuning remotely hosted models"
   ]
  },
  {
   "cell_type": "markdown",
   "id": "81803c6c",
   "metadata": {},
   "source": [
    "<font color=blue>Create a Python Environment locally. Set your API Key as Environment Variable. Use the following commands.</font>"
   ]
  },
  {
   "cell_type": "markdown",
   "id": "e1f18db6",
   "metadata": {},
   "source": [
    "python -m venv YourEnvName<br>\n",
    "YourEnvName\\Scripts\\activate.bat<br>\n",
    "setx AZURE_OPENAI_API_KEY \"YOUR_API_KEY_HERE\"<br>\n",
    "<font color=blue>Import Necessary Libraries</font>"
   ]
  },
  {
   "cell_type": "code",
   "execution_count": 1,
   "id": "e79d02bd",
   "metadata": {},
   "outputs": [],
   "source": [
    "import openai\n",
    "import os"
   ]
  },
  {
   "cell_type": "code",
   "execution_count": 3,
   "id": "b1f4c54a",
   "metadata": {},
   "outputs": [],
   "source": [
    "API_KEY = os.getenv(\"AZURE_OPENAI_API_KEY\") "
   ]
  },
  {
   "cell_type": "code",
   "execution_count": 2,
   "id": "5e1df115",
   "metadata": {},
   "outputs": [],
   "source": [
    "#openai.api_key = open(\"key.txt\", \"r\").read().strip(\"\\n\")\n",
    "openai.api_key= API_KEY"
   ]
  },
  {
   "cell_type": "markdown",
   "id": "05a933ad",
   "metadata": {},
   "source": [
    "#### Upload dataset file"
   ]
  },
  {
   "cell_type": "markdown",
   "id": "4461c7b5",
   "metadata": {},
   "source": [
    "We first upload the dataset file using OpenAI API to generate a File ID which can be used in the fine-tuning API."
   ]
  },
  {
   "cell_type": "code",
   "execution_count": 7,
   "id": "dc9e5076",
   "metadata": {},
   "outputs": [],
   "source": [
    "#File.create() API is used to upload a file\n",
    "\n",
    "response = openai.File.create(\n",
    "  file=open(\"Tickets_Train.jsonl\", \"rb\"),\n",
    "  purpose='fine-tune'\n",
    ")\n",
    "datafile_id = response.id\n"
   ]
  },
  {
   "cell_type": "code",
   "execution_count": 8,
   "id": "65b3107c",
   "metadata": {},
   "outputs": [
    {
     "name": "stdout",
     "output_type": "stream",
     "text": [
      "file-sBXQlPAhMK5Dv4cz4xB6SKrb\n"
     ]
    }
   ],
   "source": [
    "print(datafile_id)"
   ]
  },
  {
   "cell_type": "code",
   "execution_count": 3,
   "id": "088e7244",
   "metadata": {},
   "outputs": [
    {
     "data": {
      "text/plain": [
       "<OpenAIObject list at 0x2b3f17933b0> JSON: {\n",
       "  \"data\": [\n",
       "    {\n",
       "      \"bytes\": 153498,\n",
       "      \"created_at\": 1690130618,\n",
       "      \"filename\": \"compiled_results.csv\",\n",
       "      \"id\": \"file-y2su5mqCUwKFiEloDwykNny4\",\n",
       "      \"object\": \"file\",\n",
       "      \"purpose\": \"fine-tune-results\",\n",
       "      \"status\": \"processed\",\n",
       "      \"status_details\": null\n",
       "    },\n",
       "    {\n",
       "      \"bytes\": 90759,\n",
       "      \"created_at\": 1681208226,\n",
       "      \"filename\": \"file\",\n",
       "      \"id\": \"file-JEq9DsGyplqagSvC7efUEA1C\",\n",
       "      \"object\": \"file\",\n",
       "      \"purpose\": \"fine-tune\",\n",
       "      \"status\": \"processed\",\n",
       "      \"status_details\": null\n",
       "    },\n",
       "    {\n",
       "      \"bytes\": 169115,\n",
       "      \"created_at\": 1681209151,\n",
       "      \"filename\": \"compiled_results.csv\",\n",
       "      \"id\": \"file-SjwuD15GWy95AGUzllVGe1ks\",\n",
       "      \"object\": \"file\",\n",
       "      \"purpose\": \"fine-tune-results\",\n",
       "      \"status\": \"processed\",\n",
       "      \"status_details\": null\n",
       "    },\n",
       "    {\n",
       "      \"bytes\": 18328,\n",
       "      \"created_at\": 1687927489,\n",
       "      \"filename\": \"file\",\n",
       "      \"id\": \"file-vszL0hzziTMMmKY8Tgt0nNhK\",\n",
       "      \"object\": \"file\",\n",
       "      \"purpose\": \"fine-tune\",\n",
       "      \"status\": \"processed\",\n",
       "      \"status_details\": null\n",
       "    },\n",
       "    {\n",
       "      \"bytes\": 777,\n",
       "      \"created_at\": 1680758516,\n",
       "      \"filename\": \"compiled_results.csv\",\n",
       "      \"id\": \"file-nvVyyZYgcXqcBKp4vLRyGy2L\",\n",
       "      \"object\": \"file\",\n",
       "      \"purpose\": \"fine-tune-results\",\n",
       "      \"status\": \"processed\",\n",
       "      \"status_details\": null\n",
       "    },\n",
       "    {\n",
       "      \"bytes\": 855,\n",
       "      \"created_at\": 1680758213,\n",
       "      \"filename\": \"file\",\n",
       "      \"id\": \"file-DuroSuoq4l5aYiALYIcylE6x\",\n",
       "      \"object\": \"file\",\n",
       "      \"purpose\": \"fine-tune\",\n",
       "      \"status\": \"processed\",\n",
       "      \"status_details\": null\n",
       "    },\n",
       "    {\n",
       "      \"bytes\": 18328,\n",
       "      \"created_at\": 1690121668,\n",
       "      \"filename\": \"file\",\n",
       "      \"id\": \"file-s1fs0Yggc1dYALLk8feRivTm\",\n",
       "      \"object\": \"file\",\n",
       "      \"purpose\": \"fine-tune\",\n",
       "      \"status\": \"processed\",\n",
       "      \"status_details\": null\n",
       "    },\n",
       "    {\n",
       "      \"bytes\": 72427,\n",
       "      \"created_at\": 1690121399,\n",
       "      \"filename\": \"file\",\n",
       "      \"id\": \"file-sBXQlPAhMK5Dv4cz4xB6SKrb\",\n",
       "      \"object\": \"file\",\n",
       "      \"purpose\": \"fine-tune\",\n",
       "      \"status\": \"processed\",\n",
       "      \"status_details\": null\n",
       "    }\n",
       "  ],\n",
       "  \"object\": \"list\"\n",
       "}"
      ]
     },
     "execution_count": 3,
     "metadata": {},
     "output_type": "execute_result"
    }
   ],
   "source": [
    "openai.File.list()"
   ]
  },
  {
   "cell_type": "code",
   "execution_count": 10,
   "id": "8d700fb8",
   "metadata": {},
   "outputs": [],
   "source": [
    "response_v = openai.File.create(\n",
    "  file=open(\"Tickets_Validation.jsonl\", \"rb\"),\n",
    "  purpose='fine-tune'\n",
    ")\n",
    "validationfile_id = response_v.id\n"
   ]
  },
  {
   "cell_type": "code",
   "execution_count": 13,
   "id": "839854ef",
   "metadata": {},
   "outputs": [
    {
     "name": "stdout",
     "output_type": "stream",
     "text": [
      "file-s1fs0Yggc1dYALLk8feRivTm\n"
     ]
    }
   ],
   "source": [
    "print(validationfile_id)"
   ]
  },
  {
   "cell_type": "code",
   "execution_count": 14,
   "id": "cda2d0b6",
   "metadata": {},
   "outputs": [
    {
     "data": {
      "text/plain": [
       "<OpenAIObject list at 0x2012136d630> JSON: {\n",
       "  \"data\": [\n",
       "    {\n",
       "      \"bytes\": 90759,\n",
       "      \"created_at\": 1681208226,\n",
       "      \"filename\": \"file\",\n",
       "      \"id\": \"file-JEq9DsGyplqagSvC7efUEA1C\",\n",
       "      \"object\": \"file\",\n",
       "      \"purpose\": \"fine-tune\",\n",
       "      \"status\": \"processed\",\n",
       "      \"status_details\": null\n",
       "    },\n",
       "    {\n",
       "      \"bytes\": 169115,\n",
       "      \"created_at\": 1681209151,\n",
       "      \"filename\": \"compiled_results.csv\",\n",
       "      \"id\": \"file-SjwuD15GWy95AGUzllVGe1ks\",\n",
       "      \"object\": \"file\",\n",
       "      \"purpose\": \"fine-tune-results\",\n",
       "      \"status\": \"processed\",\n",
       "      \"status_details\": null\n",
       "    },\n",
       "    {\n",
       "      \"bytes\": 18328,\n",
       "      \"created_at\": 1687927489,\n",
       "      \"filename\": \"file\",\n",
       "      \"id\": \"file-vszL0hzziTMMmKY8Tgt0nNhK\",\n",
       "      \"object\": \"file\",\n",
       "      \"purpose\": \"fine-tune\",\n",
       "      \"status\": \"processed\",\n",
       "      \"status_details\": null\n",
       "    },\n",
       "    {\n",
       "      \"bytes\": 72427,\n",
       "      \"created_at\": 1690121399,\n",
       "      \"filename\": \"file\",\n",
       "      \"id\": \"file-sBXQlPAhMK5Dv4cz4xB6SKrb\",\n",
       "      \"object\": \"file\",\n",
       "      \"purpose\": \"fine-tune\",\n",
       "      \"status\": \"processed\",\n",
       "      \"status_details\": null\n",
       "    },\n",
       "    {\n",
       "      \"bytes\": 855,\n",
       "      \"created_at\": 1680758213,\n",
       "      \"filename\": \"file\",\n",
       "      \"id\": \"file-DuroSuoq4l5aYiALYIcylE6x\",\n",
       "      \"object\": \"file\",\n",
       "      \"purpose\": \"fine-tune\",\n",
       "      \"status\": \"processed\",\n",
       "      \"status_details\": null\n",
       "    },\n",
       "    {\n",
       "      \"bytes\": 777,\n",
       "      \"created_at\": 1680758516,\n",
       "      \"filename\": \"compiled_results.csv\",\n",
       "      \"id\": \"file-nvVyyZYgcXqcBKp4vLRyGy2L\",\n",
       "      \"object\": \"file\",\n",
       "      \"purpose\": \"fine-tune-results\",\n",
       "      \"status\": \"processed\",\n",
       "      \"status_details\": null\n",
       "    },\n",
       "    {\n",
       "      \"bytes\": 18328,\n",
       "      \"created_at\": 1690121668,\n",
       "      \"filename\": \"file\",\n",
       "      \"id\": \"file-s1fs0Yggc1dYALLk8feRivTm\",\n",
       "      \"object\": \"file\",\n",
       "      \"purpose\": \"fine-tune\",\n",
       "      \"status\": \"processed\",\n",
       "      \"status_details\": null\n",
       "    }\n",
       "  ],\n",
       "  \"object\": \"list\"\n",
       "}"
      ]
     },
     "execution_count": 14,
     "metadata": {},
     "output_type": "execute_result"
    }
   ],
   "source": [
    "openai.File.list()"
   ]
  },
  {
   "cell_type": "code",
   "execution_count": 11,
   "id": "344742e1",
   "metadata": {},
   "outputs": [],
   "source": [
    "fine_tuned_model = openai.FineTune.create(training_file=datafile_id,validation_file=validationfile_id) #Here: \"file-vszL0hzziTMMmKY8Tgt0nNhK\"\n",
    "#model=\"curie\" by default\n",
    "#n_epochs=4 by default\n"
   ]
  },
  {
   "cell_type": "markdown",
   "id": "91a62f18",
   "metadata": {},
   "source": [
    "We can see that the status of the task is \"pending\". It is expected to complete over a period of time. We can list the various jobs requested using the following API and check their status. `"
   ]
  },
  {
   "cell_type": "code",
   "execution_count": 4,
   "id": "61daaa7c",
   "metadata": {},
   "outputs": [
    {
     "data": {
      "text/plain": [
       "<OpenAIObject list at 0x2b3f17cf7c0> JSON: {\n",
       "  \"data\": [\n",
       "    {\n",
       "      \"created_at\": 1680758322,\n",
       "      \"fine_tuned_model\": \"curie:ft-infosys-eta-2023-04-06-05-21-55\",\n",
       "      \"hyperparams\": {\n",
       "        \"batch_size\": 1,\n",
       "        \"learning_rate_multiplier\": 0.1,\n",
       "        \"n_epochs\": 4,\n",
       "        \"prompt_loss_weight\": 0.01\n",
       "      },\n",
       "      \"id\": \"ft-HGoBOX7yAloq70SB4k6hHmyh\",\n",
       "      \"model\": \"curie\",\n",
       "      \"object\": \"fine-tune\",\n",
       "      \"organization_id\": \"org-lmYuwS6VnhCBVArBveOAnLuA\",\n",
       "      \"result_files\": [\n",
       "        {\n",
       "          \"bytes\": 777,\n",
       "          \"created_at\": 1680758516,\n",
       "          \"filename\": \"compiled_results.csv\",\n",
       "          \"id\": \"file-nvVyyZYgcXqcBKp4vLRyGy2L\",\n",
       "          \"object\": \"file\",\n",
       "          \"purpose\": \"fine-tune-results\",\n",
       "          \"status\": \"processed\",\n",
       "          \"status_details\": null\n",
       "        }\n",
       "      ],\n",
       "      \"status\": \"succeeded\",\n",
       "      \"training_files\": [\n",
       "        {\n",
       "          \"bytes\": 855,\n",
       "          \"created_at\": 1680758213,\n",
       "          \"filename\": \"file\",\n",
       "          \"id\": \"file-DuroSuoq4l5aYiALYIcylE6x\",\n",
       "          \"object\": \"file\",\n",
       "          \"purpose\": \"fine-tune\",\n",
       "          \"status\": \"processed\",\n",
       "          \"status_details\": null\n",
       "        }\n",
       "      ],\n",
       "      \"updated_at\": 1680758516,\n",
       "      \"validation_files\": []\n",
       "    },\n",
       "    {\n",
       "      \"created_at\": 1681208320,\n",
       "      \"fine_tuned_model\": \"curie:ft-infosys-eta-2023-04-11-10-32-30\",\n",
       "      \"hyperparams\": {\n",
       "        \"batch_size\": 1,\n",
       "        \"learning_rate_multiplier\": 0.1,\n",
       "        \"n_epochs\": 4,\n",
       "        \"prompt_loss_weight\": 0.01\n",
       "      },\n",
       "      \"id\": \"ft-Qb0MLyk7SF1edMAUr8HQRmUV\",\n",
       "      \"model\": \"curie\",\n",
       "      \"object\": \"fine-tune\",\n",
       "      \"organization_id\": \"org-lmYuwS6VnhCBVArBveOAnLuA\",\n",
       "      \"result_files\": [\n",
       "        {\n",
       "          \"bytes\": 169115,\n",
       "          \"created_at\": 1681209151,\n",
       "          \"filename\": \"compiled_results.csv\",\n",
       "          \"id\": \"file-SjwuD15GWy95AGUzllVGe1ks\",\n",
       "          \"object\": \"file\",\n",
       "          \"purpose\": \"fine-tune-results\",\n",
       "          \"status\": \"processed\",\n",
       "          \"status_details\": null\n",
       "        }\n",
       "      ],\n",
       "      \"status\": \"succeeded\",\n",
       "      \"training_files\": [\n",
       "        {\n",
       "          \"bytes\": 90759,\n",
       "          \"created_at\": 1681208226,\n",
       "          \"filename\": \"file\",\n",
       "          \"id\": \"file-JEq9DsGyplqagSvC7efUEA1C\",\n",
       "          \"object\": \"file\",\n",
       "          \"purpose\": \"fine-tune\",\n",
       "          \"status\": \"processed\",\n",
       "          \"status_details\": null\n",
       "        }\n",
       "      ],\n",
       "      \"updated_at\": 1681209152,\n",
       "      \"validation_files\": []\n",
       "    },\n",
       "    {\n",
       "      \"created_at\": 1690121823,\n",
       "      \"fine_tuned_model\": \"curie:ft-infosys-eta-2023-07-23-16-43-37\",\n",
       "      \"hyperparams\": {\n",
       "        \"batch_size\": 1,\n",
       "        \"learning_rate_multiplier\": 0.1,\n",
       "        \"n_epochs\": 4,\n",
       "        \"prompt_loss_weight\": 0.01\n",
       "      },\n",
       "      \"id\": \"ft-3BCxsd6Ks4TfUtRZhqgOR46m\",\n",
       "      \"model\": \"curie\",\n",
       "      \"object\": \"fine-tune\",\n",
       "      \"organization_id\": \"org-lmYuwS6VnhCBVArBveOAnLuA\",\n",
       "      \"result_files\": [\n",
       "        {\n",
       "          \"bytes\": 153498,\n",
       "          \"created_at\": 1690130618,\n",
       "          \"filename\": \"compiled_results.csv\",\n",
       "          \"id\": \"file-y2su5mqCUwKFiEloDwykNny4\",\n",
       "          \"object\": \"file\",\n",
       "          \"purpose\": \"fine-tune-results\",\n",
       "          \"status\": \"processed\",\n",
       "          \"status_details\": null\n",
       "        }\n",
       "      ],\n",
       "      \"status\": \"succeeded\",\n",
       "      \"training_files\": [\n",
       "        {\n",
       "          \"bytes\": 72427,\n",
       "          \"created_at\": 1690121399,\n",
       "          \"filename\": \"file\",\n",
       "          \"id\": \"file-sBXQlPAhMK5Dv4cz4xB6SKrb\",\n",
       "          \"object\": \"file\",\n",
       "          \"purpose\": \"fine-tune\",\n",
       "          \"status\": \"processed\",\n",
       "          \"status_details\": null\n",
       "        }\n",
       "      ],\n",
       "      \"updated_at\": 1690130619,\n",
       "      \"validation_files\": [\n",
       "        {\n",
       "          \"bytes\": 18328,\n",
       "          \"created_at\": 1690121668,\n",
       "          \"filename\": \"file\",\n",
       "          \"id\": \"file-s1fs0Yggc1dYALLk8feRivTm\",\n",
       "          \"object\": \"file\",\n",
       "          \"purpose\": \"fine-tune\",\n",
       "          \"status\": \"processed\",\n",
       "          \"status_details\": null\n",
       "        }\n",
       "      ]\n",
       "    }\n",
       "  ],\n",
       "  \"object\": \"list\"\n",
       "}"
      ]
     },
     "execution_count": 4,
     "metadata": {},
     "output_type": "execute_result"
    }
   ],
   "source": [
    "openai.FineTune.list()"
   ]
  },
  {
   "cell_type": "code",
   "execution_count": 16,
   "id": "cd8f783b",
   "metadata": {},
   "outputs": [
    {
     "data": {
      "text/plain": [
       "'while fine_tuned_model.status()[\"data\"][\"ready\"] is False:\\n    time.sleep(30)\\n    fine_tuned_model = openai.Model.retrieve(fine_tuned_model.id)\\n\\nprint(\"Fine-tuning of you model is complete\")'"
      ]
     },
     "execution_count": 16,
     "metadata": {},
     "output_type": "execute_result"
    }
   ],
   "source": [
    "# Optional BLOCKING wait code to check for status of fine-tuning\n",
    "'''while fine_tuned_model.status()[\"data\"][\"ready\"] is False:\n",
    "    time.sleep(30)\n",
    "    fine_tuned_model = openai.Model.retrieve(fine_tuned_model.id)\n",
    "\n",
    "print(\"Fine-tuning of you model is complete\")'''"
   ]
  },
  {
   "cell_type": "code",
   "execution_count": 5,
   "id": "41ef698e",
   "metadata": {},
   "outputs": [],
   "source": [
    "info = openai.FineTune.list()"
   ]
  },
  {
   "cell_type": "code",
   "execution_count": 7,
   "id": "77e4b5c1",
   "metadata": {},
   "outputs": [
    {
     "name": "stdout",
     "output_type": "stream",
     "text": [
      "Fine Tuned Model Name :  curie:ft-infosys-eta-2023-07-23-16-43-37\n"
     ]
    }
   ],
   "source": [
    "print(\"Fine Tuned Model Name : \", info.data[2].fine_tuned_model)"
   ]
  },
  {
   "cell_type": "markdown",
   "id": "c038fdaf",
   "metadata": {},
   "source": [
    "#### Using the trained model for generating completions"
   ]
  },
  {
   "cell_type": "code",
   "execution_count": null,
   "id": "6a2d5503",
   "metadata": {},
   "outputs": [],
   "source": [
    "res_completion=openai.Completion.create(\n",
    "    model=\"<your_fine_tuned_model_name>\",\n",
    "    prompt=\"Need help to install Windows 11.\\n\\n###\\n\\n\",\n",
    "    max_tokens=3)\n",
    "print(res_completion['choices'][0]['text'])\n"
   ]
  },
  {
   "cell_type": "code",
   "execution_count": 8,
   "id": "98f2b361",
   "metadata": {},
   "outputs": [
    {
     "data": {
      "text/plain": [
       "<File file id=file-y2su5mqCUwKFiEloDwykNny4 at 0x2b3f17cf9f0> JSON: {\n",
       "  \"bytes\": 153498,\n",
       "  \"created_at\": 1690130618,\n",
       "  \"filename\": \"compiled_results.csv\",\n",
       "  \"id\": \"file-y2su5mqCUwKFiEloDwykNny4\",\n",
       "  \"object\": \"file\",\n",
       "  \"purpose\": \"fine-tune-results\",\n",
       "  \"status\": \"processed\",\n",
       "  \"status_details\": null\n",
       "}"
      ]
     },
     "execution_count": 8,
     "metadata": {},
     "output_type": "execute_result"
    }
   ],
   "source": [
    "openai.File.retrieve(\"file-y2su5mqCUwKFiEloDwykNny4\")\n"
   ]
  },
  {
   "cell_type": "code",
   "execution_count": 9,
   "id": "141f9a40",
   "metadata": {},
   "outputs": [],
   "source": [
    "content = openai.File.download(\"file-y2su5mqCUwKFiEloDwykNny4\")\n"
   ]
  },
  {
   "cell_type": "code",
   "execution_count": 14,
   "id": "506a7d2e",
   "metadata": {},
   "outputs": [],
   "source": [
    "import os\n",
    "with open(\"compiled_results.csv\", \"wb\") as binary_file:\n",
    "    # Write bytes to file\n",
    "    binary_file.write(content)"
   ]
  },
  {
   "cell_type": "code",
   "execution_count": null,
   "id": "647ab0a2",
   "metadata": {},
   "outputs": [],
   "source": []
  }
 ],
 "metadata": {
  "kernelspec": {
   "display_name": "Python 3",
   "language": "python",
   "name": "python3"
  },
  "language_info": {
   "codemirror_mode": {
    "name": "ipython",
    "version": 3
   },
   "file_extension": ".py",
   "mimetype": "text/x-python",
   "name": "python",
   "nbconvert_exporter": "python",
   "pygments_lexer": "ipython3",
   "version": "3.8.8"
  }
 },
 "nbformat": 4,
 "nbformat_minor": 5
}

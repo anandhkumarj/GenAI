{
 "cells": [
  {
   "cell_type": "code",
   "execution_count": null,
   "metadata": {},
   "outputs": [],
   "source": [
    "#!pip3 install langchain_openai"
   ]
  },
  {
   "cell_type": "code",
   "execution_count": null,
   "metadata": {},
   "outputs": [],
   "source": [
    "import os\n",
    "f = open('openaikey.txt')\n",
    "os.environ[\"OPENAI_API_KEY\"]=f.read()\n",
    "os.environ.get(\"OPENAI_API_KEY\")"
   ]
  },
  {
   "cell_type": "code",
   "execution_count": 2,
   "metadata": {},
   "outputs": [],
   "source": [
    "from langchain_openai import ChatOpenAI\n",
    "model = ChatOpenAI(temperature=1)"
   ]
  },
  {
   "cell_type": "code",
   "execution_count": 3,
   "metadata": {},
   "outputs": [],
   "source": [
    "from langchain.output_parsers import PydanticOutputParser\n",
    "from pydantic import BaseModel, Field,TypeAdapter\n",
    "\n",
    "class Player(BaseModel):\n",
    "    \n",
    "    name: str = Field(description=\"Name of the player\")\n",
    "    age: str = Field(description=\"Age of the player\")\n",
    "    specialization: str = Field(description=\"Sepcialization of the player\")\n",
    "    origin:str = Field(description= \"Origin of the player\")\n",
    "\n",
    "\n",
    "class Players(BaseModel):\n",
    "    players: list = Field(description=\"Python list of Player\")\n",
    "\n",
    "parser = PydanticOutputParser(pydantic_object=Players)"
   ]
  },
  {
   "cell_type": "code",
   "execution_count": null,
   "metadata": {},
   "outputs": [],
   "source": [
    "parser.get_format_instructions()"
   ]
  },
  {
   "cell_type": "code",
   "execution_count": 16,
   "metadata": {},
   "outputs": [],
   "source": [
    "from langchain_core.prompts import ChatPromptTemplate\n",
    "\n",
    "def getChatPrompt(field, country):\n",
    "    chatpromt = ChatPromptTemplate.from_messages(\n",
    "    [\n",
    "        (\n",
    "            \"system\",\n",
    "            \"You are a {field} game Analyst\"\n",
    "        ),\n",
    "        (\n",
    "            \"human\",\n",
    "            \"Get me the name of all the current Playing {country} Players name, their specialization, their age and origin \\n {format_instructions}\"\n",
    "        )\n",
    "    ]\n",
    "    )\n",
    "\n",
    "    chatpromtvalue = chatpromt.invoke(\n",
    "    {\n",
    "        \"field\":field,\n",
    "        \"country\":country,\n",
    "        \"format_instructions\":parser.get_format_instructions()\n",
    "    }\n",
    "    ) \n",
    "    return chatpromtvalue"
   ]
  },
  {
   "cell_type": "code",
   "execution_count": 17,
   "metadata": {},
   "outputs": [
    {
     "data": {
      "text/plain": [
       "ChatPromptValue(messages=[SystemMessage(content='You are a Carromboard game Analyst'), HumanMessage(content='Get me the name of all the current Playing India Players name, their specialization, their age and origin \\n The output should be formatted as a JSON instance that conforms to the JSON schema below.\\n\\nAs an example, for the schema {\"properties\": {\"foo\": {\"title\": \"Foo\", \"description\": \"a list of strings\", \"type\": \"array\", \"items\": {\"type\": \"string\"}}}, \"required\": [\"foo\"]}\\nthe object {\"foo\": [\"bar\", \"baz\"]} is a well-formatted instance of the schema. The object {\"properties\": {\"foo\": [\"bar\", \"baz\"]}} is not well-formatted.\\n\\nHere is the output schema:\\n```\\n{\"properties\": {\"players\": {\"description\": \"Python list of Player\", \"items\": {}, \"title\": \"Players\", \"type\": \"array\"}}, \"required\": [\"players\"]}\\n```')])"
      ]
     },
     "execution_count": 17,
     "metadata": {},
     "output_type": "execute_result"
    }
   ],
   "source": [
    "chatpromptvalue = getChatPrompt(\"Carromboard\", \"India\")\n",
    "chatpromptvalue"
   ]
  },
  {
   "cell_type": "code",
   "execution_count": 18,
   "metadata": {},
   "outputs": [
    {
     "data": {
      "text/plain": [
       "AIMessage(content='{\\n  \"players\": [\\n    {\\n      \"name\": \"Pankaj Advani\",\\n      \"specialization\": \"Men\\'s Singles Champion\",\\n      \"age\": 36,\\n      \"origin\": \"India\"\\n    },\\n    {\\n      \"name\": \"Riya Sisodia\",\\n      \"specialization\": \"Women\\'s Singles Champion\",\\n      \"age\": 26,\\n      \"origin\": \"India\"\\n    },\\n    {\\n      \"name\": \"Arif Akhtar\",\\n      \"specialization\": \"Men\\'s Doubles Champion\",\\n      \"age\": 30,\\n      \"origin\": \"India\"\\n    },\\n    {\\n      \"name\": \"Shruti Sharma\",\\n      \"specialization\": \"Women\\'s Doubles Champion\",\\n      \"age\": 28,\\n      \"origin\": \"India\"\\n    }\\n  ]\\n}', response_metadata={'token_usage': {'completion_tokens': 169, 'prompt_tokens': 196, 'total_tokens': 365}, 'model_name': 'gpt-3.5-turbo', 'system_fingerprint': None, 'finish_reason': 'stop', 'logprobs': None}, id='run-e7f67f90-ba43-4d53-ad9e-0d8d7c642ede-0', usage_metadata={'input_tokens': 196, 'output_tokens': 169, 'total_tokens': 365})"
      ]
     },
     "execution_count": 18,
     "metadata": {},
     "output_type": "execute_result"
    }
   ],
   "source": [
    "result =  model.invoke(chatpromptvalue)\n",
    "result"
   ]
  },
  {
   "cell_type": "code",
   "execution_count": 19,
   "metadata": {},
   "outputs": [
    {
     "data": {
      "text/plain": [
       "[{'name': 'Pankaj Advani',\n",
       "  'specialization': \"Men's Singles Champion\",\n",
       "  'age': 36,\n",
       "  'origin': 'India'},\n",
       " {'name': 'Riya Sisodia',\n",
       "  'specialization': \"Women's Singles Champion\",\n",
       "  'age': 26,\n",
       "  'origin': 'India'},\n",
       " {'name': 'Arif Akhtar',\n",
       "  'specialization': \"Men's Doubles Champion\",\n",
       "  'age': 30,\n",
       "  'origin': 'India'},\n",
       " {'name': 'Shruti Sharma',\n",
       "  'specialization': \"Women's Doubles Champion\",\n",
       "  'age': 28,\n",
       "  'origin': 'India'}]"
      ]
     },
     "execution_count": 19,
     "metadata": {},
     "output_type": "execute_result"
    }
   ],
   "source": [
    "players = parser.parse(result.content)\n",
    "players.players"
   ]
  }
 ],
 "metadata": {
  "kernelspec": {
   "display_name": "Python 3",
   "language": "python",
   "name": "python3"
  },
  "language_info": {
   "codemirror_mode": {
    "name": "ipython",
    "version": 3
   },
   "file_extension": ".py",
   "mimetype": "text/x-python",
   "name": "python",
   "nbconvert_exporter": "python",
   "pygments_lexer": "ipython3",
   "version": "3.12.2"
  }
 },
 "nbformat": 4,
 "nbformat_minor": 2
}

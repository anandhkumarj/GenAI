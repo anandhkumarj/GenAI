{
 "cells": [
  {
   "cell_type": "code",
   "execution_count": null,
   "metadata": {},
   "outputs": [],
   "source": [
    "#!pip3 install langchain_openai"
   ]
  },
  {
   "cell_type": "code",
   "execution_count": null,
   "metadata": {},
   "outputs": [],
   "source": [
    "import os\n",
    "f = open('openaikey.txt')\n",
    "os.environ[\"OPENAI_API_KEY\"]=f.read()"
   ]
  },
  {
   "cell_type": "code",
   "execution_count": null,
   "metadata": {},
   "outputs": [],
   "source": [
    "from langchain_openai import ChatOpenAI\n",
    "model = ChatOpenAI(temperature=1)"
   ]
  },
  {
   "cell_type": "code",
   "execution_count": null,
   "metadata": {},
   "outputs": [],
   "source": [
    "from langchain.output_parsers import PydanticOutputParser\n",
    "from pydantic import BaseModel, Field,TypeAdapter\n",
    "\n",
    "class Player(BaseModel):\n",
    "    \n",
    "    name: str = Field(description=\"Name of the player\")\n",
    "    age: str = Field(description=\"Age of the player\")\n",
    "    specialization: str = Field(description=\"Sepcialization of the player\")\n",
    "    origin:str = Field(description= \"Origin of the player\")\n",
    "\n",
    "\n",
    "class Players(BaseModel):\n",
    "    players: list = Field(description=\"Python list of Player\")\n",
    "\n",
    "parser = PydanticOutputParser(pydantic_object=Players)"
   ]
  },
  {
   "cell_type": "code",
   "execution_count": null,
   "metadata": {},
   "outputs": [],
   "source": [
    "parser.get_format_instructions()"
   ]
  },
  {
   "cell_type": "code",
   "execution_count": null,
   "metadata": {},
   "outputs": [],
   "source": [
    "from langchain_core.prompts import ChatPromptTemplate\n",
    "\n",
    "def getChatPrompt(field, country):\n",
    "    chatpromt = ChatPromptTemplate.from_messages(\n",
    "    [\n",
    "        (\n",
    "            \"system\",\n",
    "            \"You are a {field} game Analyst\"\n",
    "        ),\n",
    "        (\n",
    "            \"human\",\n",
    "            \"Get me the name of all the current Playing {country} Players name, their specialization, their age and origin \\n {format_instructions}\"\n",
    "        )\n",
    "    ]\n",
    "    )\n",
    "\n",
    "    chatpromtvalue = chatpromt.invoke(\n",
    "    {\n",
    "        \"field\":field,\n",
    "        \"country\":country,\n",
    "        \"format_instructions\":parser.get_format_instructions()\n",
    "    }\n",
    "    ) \n",
    "    return chatpromtvalue"
   ]
  },
  {
   "cell_type": "code",
   "execution_count": null,
   "metadata": {},
   "outputs": [],
   "source": [
    "chatpromptvalue = getChatPrompt(\"Cricket\", \"India\")\n",
    "chatpromptvalue"
   ]
  },
  {
   "cell_type": "code",
   "execution_count": null,
   "metadata": {},
   "outputs": [],
   "source": [
    "result =  model.invoke(chatpromptvalue)\n",
    "result"
   ]
  },
  {
   "cell_type": "code",
   "execution_count": null,
   "metadata": {},
   "outputs": [],
   "source": [
    "players = parser.parse(result.content)\n",
    "players.players"
   ]
  }
 ],
 "metadata": {
  "kernelspec": {
   "display_name": "Python 3",
   "language": "python",
   "name": "python3"
  },
  "language_info": {
   "codemirror_mode": {
    "name": "ipython",
    "version": 3
   },
   "file_extension": ".py",
   "mimetype": "text/x-python",
   "name": "python",
   "nbconvert_exporter": "python",
   "pygments_lexer": "ipython3",
   "version": "3.12.2"
  }
 },
 "nbformat": 4,
 "nbformat_minor": 2
}

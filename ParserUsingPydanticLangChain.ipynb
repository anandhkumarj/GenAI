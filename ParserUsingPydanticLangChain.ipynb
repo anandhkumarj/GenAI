{
 "cells": [
  {
   "cell_type": "code",
   "execution_count": 6,
   "metadata": {},
   "outputs": [],
   "source": [
    "import os\n",
    "os.environ[\"OPENAI_API_KEY\"]=<Refer>"
   ]
  },
  {
   "cell_type": "code",
   "execution_count": 58,
   "metadata": {},
   "outputs": [],
   "source": [
    "from langchain_openai import ChatOpenAI\n",
    "model = ChatOpenAI(temperature=1,model='gpt-4o-2024-05-13')"
   ]
  },
  {
   "cell_type": "code",
   "execution_count": 66,
   "metadata": {},
   "outputs": [],
   "source": [
    "from langchain.output_parsers import PydanticOutputParser\n",
    "from pydantic import BaseModel, Field,TypeAdapter\n",
    "\n",
    "class Player(BaseModel):\n",
    "    \n",
    "    name: str = Field(description=\"Name of the player\")\n",
    "    age: str = Field(description=\"Age of the player\")\n",
    "    specialization: str = Field(description=\"Sepcialization of the player\")\n",
    "    origin:str = Field(description= \"Origin of the player\")\n",
    "\n",
    "\n",
    "class Players(BaseModel):\n",
    "    players: list = Field(description=\"Python list of Player\")\n",
    "\n",
    "parser = PydanticOutputParser(pydantic_object=Players)"
   ]
  },
  {
   "cell_type": "code",
   "execution_count": 33,
   "metadata": {},
   "outputs": [
    {
     "data": {
      "text/plain": [
       "'The output should be formatted as a JSON instance that conforms to the JSON schema below.\\n\\nAs an example, for the schema {\"properties\": {\"foo\": {\"title\": \"Foo\", \"description\": \"a list of strings\", \"type\": \"array\", \"items\": {\"type\": \"string\"}}}, \"required\": [\"foo\"]}\\nthe object {\"foo\": [\"bar\", \"baz\"]} is a well-formatted instance of the schema. The object {\"properties\": {\"foo\": [\"bar\", \"baz\"]}} is not well-formatted.\\n\\nHere is the output schema:\\n```\\n{\"properties\": {\"players\": {\"description\": \"Python list of Player\", \"items\": {}, \"title\": \"Players\", \"type\": \"array\"}}, \"required\": [\"players\"]}\\n```'"
      ]
     },
     "execution_count": 33,
     "metadata": {},
     "output_type": "execute_result"
    }
   ],
   "source": [
    "parser.get_format_instructions()"
   ]
  },
  {
   "cell_type": "code",
   "execution_count": 78,
   "metadata": {},
   "outputs": [
    {
     "data": {
      "text/plain": [
       "ChatPromptValue(messages=[SystemMessage(content='You are a cricket Analyst'), HumanMessage(content='humanGet me the name of all the current Playing Indian Players name, their specialization, their age and origin \\n The output should be formatted as a JSON instance that conforms to the JSON schema below.\\n\\nAs an example, for the schema {\"properties\": {\"foo\": {\"title\": \"Foo\", \"description\": \"a list of strings\", \"type\": \"array\", \"items\": {\"type\": \"string\"}}}, \"required\": [\"foo\"]}\\nthe object {\"foo\": [\"bar\", \"baz\"]} is a well-formatted instance of the schema. The object {\"properties\": {\"foo\": [\"bar\", \"baz\"]}} is not well-formatted.\\n\\nHere is the output schema:\\n```\\n{\"properties\": {\"players\": {\"description\": \"Python list of Player\", \"items\": {}, \"title\": \"Players\", \"type\": \"array\"}}, \"required\": [\"players\"]}\\n```')])"
      ]
     },
     "execution_count": 78,
     "metadata": {},
     "output_type": "execute_result"
    }
   ],
   "source": [
    "from langchain_core.prompts import ChatPromptTemplate\n",
    "\n",
    "def getChatPrompt(field):\n",
    "    chatpromt = ChatPromptTemplate.from_messages(\n",
    "    [\n",
    "        (\n",
    "            \"system\",\n",
    "            \"You are a {field} Analyst\"\n",
    "        ),\n",
    "        (\n",
    "            \"human\"\n",
    "            \"Get me the name of all the current Playing Indian Players name, their specialization, their age and origin \\n {format_instructions}\"\n",
    "        )\n",
    "    ]\n",
    "    )\n",
    "\n",
    "    chatpromtvalue = chatpromt.invoke(\n",
    "    {\n",
    "        \"field\":\"cricket\",\n",
    "        \"format_instructions\":parser.get_format_instructions()\n",
    "    }\n",
    "    ) \n",
    "    return \n",
    "\n",
    "\n",
    "\n",
    "\n",
    "\n",
    "chatpromtvalue\n"
   ]
  },
  {
   "cell_type": "code",
   "execution_count": 79,
   "metadata": {},
   "outputs": [
    {
     "data": {
      "text/plain": [
       "AIMessage(content='```json\\n{\\n  \"players\": [\\n    {\\n      \"name\": \"Rohit Sharma\",\\n      \"specialization\": \"Batsman\",\\n      \"age\": 36,\\n      \"origin\": \"Nagpur, Maharashtra\"\\n    },\\n    {\\n      \"name\": \"Virat Kohli\",\\n      \"specialization\": \"Batsman\",\\n      \"age\": 34,\\n      \"origin\": \"Delhi\"\\n    },\\n    {\\n      \"name\": \"KL Rahul\",\\n      \"specialization\": \"Batsman/Wicket-keeper\",\\n      \"age\": 31,\\n      \"origin\": \"Mangalore, Karnataka\"\\n    },\\n    {\\n      \"name\": \"Jasprit Bumrah\",\\n      \"specialization\": \"Bowler\",\\n      \"age\": 29,\\n      \"origin\": \"Ahmedabad, Gujarat\"\\n    },\\n    {\\n      \"name\": \"Ravindra Jadeja\",\\n      \"specialization\": \"All-rounder\",\\n      \"age\": 34,\\n      \"origin\": \"Navagam, Gujarat\"\\n    },\\n    {\\n      \"name\": \"Ravichandran Ashwin\",\\n      \"specialization\": \"Bowler\",\\n      \"age\": 37,\\n      \"origin\": \"Chennai, Tamil Nadu\"\\n    },\\n    {\\n      \"name\": \"Hardik Pandya\",\\n      \"specialization\": \"All-rounder\",\\n      \"age\": 30,\\n      \"origin\": \"Surat, Gujarat\"\\n    },\\n    {\\n      \"name\": \"Shreyas Iyer\",\\n      \"specialization\": \"Batsman\",\\n      \"age\": 28,\\n      \"origin\": \"Mumbai, Maharashtra\"\\n    },\\n    {\\n      \"name\": \"Rishabh Pant\",\\n      \"specialization\": \"Batsman/Wicket-keeper\",\\n      \"age\": 26,\\n      \"origin\": \"Roorkee, Uttarakhand\"\\n    },\\n    {\\n      \"name\": \"Mohammed Shami\",\\n      \"specialization\": \"Bowler\",\\n      \"age\": 33,\\n      \"origin\": \"Amroha, Uttar Pradesh\"\\n    },\\n    {\\n      \"name\": \"Suryakumar Yadav\",\\n      \"specialization\": \"Batsman\",\\n      \"age\": 33,\\n      \"origin\": \"Mumbai, Maharashtra\"\\n    }\\n  ]\\n}\\n```', response_metadata={'token_usage': {'completion_tokens': 476, 'prompt_tokens': 195, 'total_tokens': 671}, 'model_name': 'gpt-4o-2024-05-13', 'system_fingerprint': 'fp_9cb5d38cf7', 'finish_reason': 'stop', 'logprobs': None}, id='run-44e9d334-2881-4eb0-b595-35c7784d2a88-0', usage_metadata={'input_tokens': 195, 'output_tokens': 476, 'total_tokens': 671})"
      ]
     },
     "execution_count": 79,
     "metadata": {},
     "output_type": "execute_result"
    }
   ],
   "source": [
    "result =  model.invoke(chatpromtvalue)\n",
    "result"
   ]
  },
  {
   "cell_type": "code",
   "execution_count": 80,
   "metadata": {},
   "outputs": [
    {
     "data": {
      "text/plain": [
       "[{'name': 'Rohit Sharma',\n",
       "  'specialization': 'Batsman',\n",
       "  'age': 36,\n",
       "  'origin': 'Nagpur, Maharashtra'},\n",
       " {'name': 'Virat Kohli',\n",
       "  'specialization': 'Batsman',\n",
       "  'age': 34,\n",
       "  'origin': 'Delhi'},\n",
       " {'name': 'KL Rahul',\n",
       "  'specialization': 'Batsman/Wicket-keeper',\n",
       "  'age': 31,\n",
       "  'origin': 'Mangalore, Karnataka'},\n",
       " {'name': 'Jasprit Bumrah',\n",
       "  'specialization': 'Bowler',\n",
       "  'age': 29,\n",
       "  'origin': 'Ahmedabad, Gujarat'},\n",
       " {'name': 'Ravindra Jadeja',\n",
       "  'specialization': 'All-rounder',\n",
       "  'age': 34,\n",
       "  'origin': 'Navagam, Gujarat'},\n",
       " {'name': 'Ravichandran Ashwin',\n",
       "  'specialization': 'Bowler',\n",
       "  'age': 37,\n",
       "  'origin': 'Chennai, Tamil Nadu'},\n",
       " {'name': 'Hardik Pandya',\n",
       "  'specialization': 'All-rounder',\n",
       "  'age': 30,\n",
       "  'origin': 'Surat, Gujarat'},\n",
       " {'name': 'Shreyas Iyer',\n",
       "  'specialization': 'Batsman',\n",
       "  'age': 28,\n",
       "  'origin': 'Mumbai, Maharashtra'},\n",
       " {'name': 'Rishabh Pant',\n",
       "  'specialization': 'Batsman/Wicket-keeper',\n",
       "  'age': 26,\n",
       "  'origin': 'Roorkee, Uttarakhand'},\n",
       " {'name': 'Mohammed Shami',\n",
       "  'specialization': 'Bowler',\n",
       "  'age': 33,\n",
       "  'origin': 'Amroha, Uttar Pradesh'},\n",
       " {'name': 'Suryakumar Yadav',\n",
       "  'specialization': 'Batsman',\n",
       "  'age': 33,\n",
       "  'origin': 'Mumbai, Maharashtra'}]"
      ]
     },
     "execution_count": 80,
     "metadata": {},
     "output_type": "execute_result"
    }
   ],
   "source": [
    "players = parser.parse(result.content)\n",
    "players.players"
   ]
  }
 ],
 "metadata": {
  "kernelspec": {
   "display_name": "Python 3",
   "language": "python",
   "name": "python3"
  },
  "language_info": {
   "codemirror_mode": {
    "name": "ipython",
    "version": 3
   },
   "file_extension": ".py",
   "mimetype": "text/x-python",
   "name": "python",
   "nbconvert_exporter": "python",
   "pygments_lexer": "ipython3",
   "version": "3.12.2"
  }
 },
 "nbformat": 4,
 "nbformat_minor": 2
}

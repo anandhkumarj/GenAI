{
 "cells": [
  {
   "cell_type": "code",
   "execution_count": 2,
   "metadata": {},
   "outputs": [
    {
     "name": "stdout",
     "output_type": "stream",
     "text": [
      "Note: you may need to restart the kernel to use updated packages.\n"
     ]
    }
   ],
   "source": [
    "%pip install --upgrade --quiet  langchain langchain-community langchain-experimental langchain-openai"
   ]
  },
  {
   "cell_type": "code",
   "execution_count": 3,
   "metadata": {},
   "outputs": [],
   "source": [
    "import os\n",
    "f = open('openaikey.txt')\n",
    "os.environ[\"OPENAI_API_KEY\"]=f.read()"
   ]
  },
  {
   "cell_type": "code",
   "execution_count": 20,
   "metadata": {},
   "outputs": [],
   "source": [
    "# Examples of job roles and respective job titles\n",
    "examples = [\n",
    "    {\"input\": \"software engineer\", \"output\": \"software development\"},\n",
    "    {\"input\": \"accountant\", \"output\": \"accounting\"},\n",
    "    {\"input\": \"teacher\", \"output\": \"education\"},\n",
    "    {\"input\": \"doctor\", \"output\": \"medicine\"},\n",
    "    {\"input\": \"architect\", \"output\": \"architecture\"},\n",
    "    {\"input\": \"lawyer\", \"output\": \"law\"},\n",
    "]\n",
    "# This is the list of examples available to select from."
   ]
  },
  {
   "cell_type": "code",
   "execution_count": 26,
   "metadata": {},
   "outputs": [],
   "source": [
    "from langchain_community.vectorstores import FAISS\n",
    "from langchain_core.example_selectors import SemanticSimilarityExampleSelector\n",
    "from langchain_core.prompts import PromptTemplate\n",
    "from langchain_openai import OpenAIEmbeddings,ChatOpenAI\n",
    "\n",
    "chatAI = ChatOpenAI()\n",
    "\n",
    "# SemanticSimilarityExampleSelector will select examples that are similar to your input by semantic meaning\n",
    "selector = SemanticSimilarityExampleSelector.from_examples(\n",
    "    examples, # list of examples available to select from.\n",
    "    OpenAIEmbeddings(), # embedding class used to produce embeddings which are used to measure semantic similarity.\n",
    "    FAISS, # VectorStore class that is used to store the embeddings and do a similarity search over.\n",
    "    k=5  # number of examples to produce.\n",
    ")\n"
   ]
  },
  {
   "cell_type": "code",
   "execution_count": 31,
   "metadata": {},
   "outputs": [],
   "source": [
    "from langchain_core.prompts import FewShotPromptTemplate\n",
    "example_prompt = PromptTemplate.from_template(\"User input: {input}\\nOutput: {output}\")\n",
    "similar_prompt = FewShotPromptTemplate(example_selector=selector, # The object that will help select examples\n",
    "\t\t\t\t\t\t\t\t\t   example_prompt=example_prompt,  # Your prompt\n",
    "    \t\t\t\t\t\t\t\t   prefix=\"Give the job title their job role is \", # Customizations that will be added to the top and bottom of your prompt\n",
    "    \t\t\t\t\t\t\t\t   suffix=\"Input: {job_title}\\nOutput:\",\n",
    "    \t\t\t\t\t\t\t\t   input_variables=[\"job_title\"] # What inputs your prompt will receive\n",
    "    \t\t\t\t\t\t\t\t   )\n"
   ]
  },
  {
   "cell_type": "code",
   "execution_count": 32,
   "metadata": {},
   "outputs": [
    {
     "name": "stdout",
     "output_type": "stream",
     "text": [
      "Give the job title their job role is \n",
      "\n",
      "User input: doctor\n",
      "Output: medicine\n",
      "\n",
      "User input: teacher\n",
      "Output: education\n",
      "\n",
      "User input: software engineer\n",
      "Output: software development\n",
      "\n",
      "User input: lawyer\n",
      "Output: law\n",
      "\n",
      "User input: accountant\n",
      "Output: accounting\n",
      "\n",
      "Input: Nurse\n",
      "Output:\n"
     ]
    }
   ],
   "source": [
    "prompt = similar_prompt.format(job_title=\"Nurse\")\n",
    "print(prompt)"
   ]
  },
  {
   "cell_type": "code",
   "execution_count": 33,
   "metadata": {},
   "outputs": [],
   "source": [
    "result = chatAI.invoke(prompt)"
   ]
  },
  {
   "cell_type": "code",
   "execution_count": 34,
   "metadata": {},
   "outputs": [
    {
     "name": "stdout",
     "output_type": "stream",
     "text": [
      "content='Healthcare' response_metadata={'token_usage': {'completion_tokens': 2, 'prompt_tokens': 69, 'total_tokens': 71}, 'model_name': 'gpt-3.5-turbo-0125', 'system_fingerprint': None, 'finish_reason': 'stop', 'logprobs': None} id='run-e8c43953-57a0-46e0-a6e9-0d526b9b791a-0' usage_metadata={'input_tokens': 69, 'output_tokens': 2, 'total_tokens': 71}\n"
     ]
    }
   ],
   "source": [
    "print(result)"
   ]
  }
 ],
 "metadata": {
  "kernelspec": {
   "display_name": "Python 3",
   "language": "python",
   "name": "python3"
  },
  "language_info": {
   "codemirror_mode": {
    "name": "ipython",
    "version": 3
   },
   "file_extension": ".py",
   "mimetype": "text/x-python",
   "name": "python",
   "nbconvert_exporter": "python",
   "pygments_lexer": "ipython3",
   "version": "3.12.2"
  }
 },
 "nbformat": 4,
 "nbformat_minor": 2
}

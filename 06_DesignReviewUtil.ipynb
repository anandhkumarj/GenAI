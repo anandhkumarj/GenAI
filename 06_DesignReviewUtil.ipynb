{
 "cells": [
  {
   "cell_type": "code",
   "execution_count": null,
   "metadata": {},
   "outputs": [],
   "source": [
    "import os\n",
    "f = open('openaikey.txt')\n",
    "os.environ[\"OPENAI_API_KEY\"]=f.read()"
   ]
  },
  {
   "cell_type": "code",
   "execution_count": null,
   "metadata": {},
   "outputs": [],
   "source": [
    "from langchain_openai import OpenAIEmbeddings\n",
    "from langchain_community.vectorstores import FAISS\n",
    "from langchain_community.document_loaders.pdf import PyPDFLoader\n",
    "from langchain_openai import OpenAI\n",
    "from langchain.indexes import VectorstoreIndexCreator\n",
    "from langchain.chains import RetrievalQA"
   ]
  },
  {
   "cell_type": "code",
   "execution_count": null,
   "metadata": {},
   "outputs": [],
   "source": [
    "# Initialize the LLM \n",
    "llm = OpenAI(temperature=0)\n",
    "\n",
    "# Initialize embeddings using OpenAI\n",
    "embeddings = OpenAIEmbeddings()"
   ]
  },
  {
   "cell_type": "code",
   "execution_count": null,
   "metadata": {},
   "outputs": [],
   "source": [
    "def load_and_embed_document(pdf_path):\n",
    "    # Load the PDF document\n",
    "    loader = PyPDFLoader(pdf_path)\n",
    "    documents = loader.load()\n",
    "    \n",
    "    # Embed the documents and create a vector store\n",
    "    vectorstore = FAISS.from_documents(documents, embeddings)\n",
    "    \n",
    "    return vectorstore\n",
    "\n",
    "# Example: Load and embed the standard document\n",
    "standard_document_path = \"resources/DesignDocumentStandards.pdf\"\n",
    "standard_vectorstore = load_and_embed_document(standard_document_path)\n"
   ]
  },
  {
   "cell_type": "code",
   "execution_count": 25,
   "metadata": {},
   "outputs": [
    {
     "name": "stdout",
     "output_type": "stream",
     "text": [
      "\n",
      "Review Comments:\n",
      "- The title of the document should be \"Technical Design - Abrupt Implementation\" instead of \"Technical Design - Abrupt implementation\".\n",
      "- The summary section should provide a brief overview of the solution being implemented, rather than just stating that it explains the details of the implementation.\n",
      "- The document structure section should specify that the document should be organized into the following sections: Title, Reference Table, Summary, Scenarios, Assumptions, Out of Scope, Logical View/Affected Component View, and Process View.\n",
      "- The reference table section should include a column for the Business Requirement Reference and a column for the UX Design - Figma.\n",
      "- The summary section should provide a standard requirement of the epic and elaborate on the business driver, rather than just stating that it should talk about the perseverance of the requirement.\n",
      "- The scenarios section should provide a description of different scenarios where the use case is considered for implementation, rather than just stating that it should conform to the scenarios and use cases.\n",
      "- The assumptions section should clearly state the major and minor assumptions being made by the development team, rather than just stating that it should talk about the assumptions.\n",
      "- The out of scope section should clearly state the items that are not included in the feature implementation and have a direct or indirect\n"
     ]
    }
   ],
   "source": [
    "def check_compliance(user_document_path, vectorstore):\n",
    "    # Load the user document using PyPDFLoader\n",
    "    loader = PyPDFLoader(user_document_path)\n",
    "    user_doc = loader.load()[0].page_content\n",
    "    \n",
    "    # Create a RetrievalQA chain\n",
    "    qa_chain = RetrievalQA.from_chain_type(llm, chain_type=\"stuff\", retriever=vectorstore.as_retriever())\n",
    "    \n",
    "    # Generate compliance checks for each sentence in the user document\n",
    "    compliance_checks = []\n",
    "    \n",
    "    query=f\"\"\"\n",
    "    Given the knowledge base you have help me reivew the content mentioned enclosed between <start> and <end> tag and provide your review comments\n",
    "    <start>\n",
    "    {user_doc}\n",
    "    <end>\n",
    "    Please also highlight grammatically incorrect statements and abmiguous statements.\n",
    "    Validate if all the necessary sections are present, specify which sections are missing and how the content should be. Finally review the content and provide the feedback checking the compliance.\n",
    "    Also give the final verdict as \"Approved\" or \"Rejected\"\n",
    "    \"\"\"\n",
    "    \n",
    "    response = qa_chain.invoke(query)\n",
    "    return response\n",
    "\n",
    "# Example: Load and check a user document\n",
    "user_document_path = \"resources/TechnicalDocument.pdf\"\n",
    "compliance_verdicts = check_compliance(user_document_path, standard_vectorstore)\n",
    "print(compliance_verdicts['result'])\n"
   ]
  },
  {
   "cell_type": "code",
   "execution_count": null,
   "metadata": {},
   "outputs": [],
   "source": [
    "qa_chain = RetrievalQA.from_chain_type(llm, chain_type=\"stuff\", retriever=standard_vectorstore.as_retriever())\n",
    "response=qa_chain.invoke(\"Generate a sample design document by following the standards with placeholders and sample text specified in the knowledge base \")\n",
    "print(response['result'])"
   ]
  }
 ],
 "metadata": {
  "kernelspec": {
   "display_name": "Python 3",
   "language": "python",
   "name": "python3"
  },
  "language_info": {
   "codemirror_mode": {
    "name": "ipython",
    "version": 3
   },
   "file_extension": ".py",
   "mimetype": "text/x-python",
   "name": "python",
   "nbconvert_exporter": "python",
   "pygments_lexer": "ipython3",
   "version": "3.12.2"
  }
 },
 "nbformat": 4,
 "nbformat_minor": 2
}

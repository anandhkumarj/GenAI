{
 "cells": [
  {
   "cell_type": "code",
   "execution_count": null,
   "metadata": {},
   "outputs": [],
   "source": [
    "%pip install -U guardrails-ai"
   ]
  },
  {
   "cell_type": "code",
   "execution_count": 4,
   "metadata": {},
   "outputs": [],
   "source": [
    "spec = \"\"\"\n",
    "<rail version=\"0.1\">\n",
    "<output>\n",
    "   <object name=\"customer_info\">\n",
    "       <string name=\"gender\" description=\"Cusotmer's gender\" />\n",
    "       <integer name=\"age\" format=\"valid-range: 0 100\" />\n",
    "       <string name=\"issue\" description=\"Issues that the Customer is currently experiencing\" />\n",
    "   </object>\n",
    "</output>\n",
    "<prompt>\n",
    "Given the following Advisor's notes about the customer, please extract a dictionary that contains the Customer's information.\n",
    "{{Advisor_notes}}\n",
    "@complete_json_suffix_v2\n",
    "</prompt>\n",
    "</rail>\n",
    "\"\"\"\n"
   ]
  },
  {
   "cell_type": "code",
   "execution_count": 7,
   "metadata": {},
   "outputs": [
    {
     "name": "stdout",
     "output_type": "stream",
     "text": [
      "guard=Guard(RAIL=Rail(prompt_schema=None, instructions_schema=None, msg_history_schema=None, output_schema=JsonSchema(Object({'customer_info': Object({'gender': String({}), 'age': Integer({}), 'issue': String({})})})), instructions=None, prompt=Prompt(\n",
      "Given the following Advisor's notes about the cus...), version='0.1')) args=() kwargs={}\n"
     ]
    },
    {
     "name": "stderr",
     "output_type": "stream",
     "text": [
      "[nltk_data] Error loading punkt: <urlopen error [SSL:\n",
      "[nltk_data]     CERTIFICATE_VERIFY_FAILED] certificate verify failed:\n",
      "[nltk_data]     unable to get local issuer certificate (_ssl.c:1000)>\n",
      "/Library/Frameworks/Python.framework/Versions/3.12/lib/python3.12/site-packages/guardrails/validatorsattr.py:307: UserWarning: Validator valid-range is not installed!\n",
      "  warnings.warn(f\"Validator {validator_name} is not installed!\")\n"
     ]
    }
   ],
   "source": [
    "from langchain_community.output_parsers.rail_parser import GuardrailsOutputParser\n",
    "output_parser = GuardrailsOutputParser.from_rail_string(spec)\n",
    "print(output_parser)\n"
   ]
  }
 ],
 "metadata": {
  "kernelspec": {
   "display_name": "Python 3",
   "language": "python",
   "name": "python3"
  },
  "language_info": {
   "codemirror_mode": {
    "name": "ipython",
    "version": 3
   },
   "file_extension": ".py",
   "mimetype": "text/x-python",
   "name": "python",
   "nbconvert_exporter": "python",
   "pygments_lexer": "ipython3",
   "version": "3.12.2"
  }
 },
 "nbformat": 4,
 "nbformat_minor": 2
}

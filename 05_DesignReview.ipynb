{
 "cells": [
  {
   "cell_type": "markdown",
   "metadata": {},
   "source": [
    "Install Necessary Libarary"
   ]
  },
  {
   "cell_type": "code",
   "execution_count": 11,
   "metadata": {},
   "outputs": [
    {
     "name": "stdout",
     "output_type": "stream",
     "text": [
      "\n",
      "\u001b[1m[\u001b[0m\u001b[34;49mnotice\u001b[0m\u001b[1;39;49m]\u001b[0m\u001b[39;49m A new release of pip is available: \u001b[0m\u001b[31;49m24.1.2\u001b[0m\u001b[39;49m -> \u001b[0m\u001b[32;49m24.2\u001b[0m\n",
      "\u001b[1m[\u001b[0m\u001b[34;49mnotice\u001b[0m\u001b[1;39;49m]\u001b[0m\u001b[39;49m To update, run: \u001b[0m\u001b[32;49mpip install --upgrade pip\u001b[0m\n",
      "Note: you may need to restart the kernel to use updated packages.\n"
     ]
    }
   ],
   "source": [
    "%pip install --quiet ipywidgets langchain langchain_openai"
   ]
  },
  {
   "cell_type": "markdown",
   "metadata": {},
   "source": [
    "```mermaid\n",
    "graph LR\n",
    "A[Document] --> |Split| B[Chunks]\n",
    "    B --> |Create Embedding| C[Vector Store]\n",
    "D[User] --> E(Query)\n",
    "    E --> |Create Embedding| F(Similarity Search)\n",
    "    F --> C\n",
    "    E --> G[LLMS]\n",
    "    C --> G\n",
    "    \n",
    "```"
   ]
  },
  {
   "cell_type": "markdown",
   "metadata": {},
   "source": [
    "Import OpenAI API Key"
   ]
  },
  {
   "cell_type": "code",
   "execution_count": 12,
   "metadata": {},
   "outputs": [],
   "source": [
    "import os\n",
    "f = open('openaikey.txt')\n",
    "os.environ[\"OPENAI_API_KEY\"]=f.read()"
   ]
  },
  {
   "cell_type": "markdown",
   "metadata": {},
   "source": [
    "Import Document and Split into Chuncks"
   ]
  },
  {
   "cell_type": "code",
   "execution_count": 13,
   "metadata": {},
   "outputs": [],
   "source": [
    "from langchain_community.document_loaders.pdf import PyPDFLoader\n",
    "pyPDFLoader = PyPDFLoader(\"resources/DesignDocumentStandards.pdf\")\n",
    "data = pyPDFLoader.load()"
   ]
  },
  {
   "cell_type": "markdown",
   "metadata": {},
   "source": [
    "Split using Text Splitter"
   ]
  },
  {
   "cell_type": "code",
   "execution_count": 14,
   "metadata": {},
   "outputs": [],
   "source": [
    "from langchain_text_splitters import PythonCodeTextSplitter\n",
    "textSplitter = PythonCodeTextSplitter(chunk_size=10000,chunk_overlap=3000)\n",
    "pages= pyPDFLoader.load_and_split(text_splitter=textSplitter)"
   ]
  },
  {
   "cell_type": "markdown",
   "metadata": {},
   "source": [
    "Print Relevant information"
   ]
  },
  {
   "cell_type": "code",
   "execution_count": 15,
   "metadata": {},
   "outputs": [
    {
     "name": "stdout",
     "output_type": "stream",
     "text": [
      "Total Documents Length before text split 6\n",
      "Total Documents after the text split 6\n"
     ]
    }
   ],
   "source": [
    "print(f\"Total Documents Length before text split {len(data)}\")\n",
    "print(f\"Total Documents after the text split {len(pages)}\")\n"
   ]
  },
  {
   "cell_type": "markdown",
   "metadata": {},
   "source": [
    "Initiate Embedding"
   ]
  },
  {
   "cell_type": "code",
   "execution_count": 16,
   "metadata": {},
   "outputs": [
    {
     "name": "stdout",
     "output_type": "stream",
     "text": [
      "6\n"
     ]
    }
   ],
   "source": [
    "from langchain_openai import OpenAIEmbeddings\n",
    "from langchain_community.vectorstores import FAISS\n",
    "embedding = OpenAIEmbeddings()\n",
    "db = FAISS.from_documents(documents=pages,embedding=embedding)\n",
    "print(db.index.ntotal)"
   ]
  },
  {
   "cell_type": "markdown",
   "metadata": {},
   "source": [
    "Try executing  a query"
   ]
  },
  {
   "cell_type": "code",
   "execution_count": 17,
   "metadata": {},
   "outputs": [],
   "source": [
    "query = \"What is this document about ? \"\n",
    "result = db.similarity_search(query=query)\n"
   ]
  },
  {
   "cell_type": "markdown",
   "metadata": {},
   "source": [
    "Explore results"
   ]
  },
  {
   "cell_type": "code",
   "execution_count": 18,
   "metadata": {},
   "outputs": [
    {
     "name": "stdout",
     "output_type": "stream",
     "text": [
      "[Document(metadata={'source': 'resources/DesignDocumentStandards.pdf', 'page': 0}, page_content='DESIGN DOCUMENT \\nSTANDARDS'), Document(metadata={'source': 'resources/DesignDocumentStandards.pdf', 'page': 1}, page_content='Contents  \\n1. Introduction  ................................ ................................ ................................ ................................ ...........  2 \\n1.1. Purpose  ................................ ................................ ................................ ................................ ..........  2 \\n1.2. Scope  ................................ ................................ ................................ ................................ .............  2 \\n2. Document Structure  ................................ ................................ ................................ ..............................  2 \\n2.1. Title  ................................ ................................ ................................ ................................ ...............  2 \\n2.2. Reference Table  ................................ ................................ ................................ ............................  2 \\n2.3. Summary  ................................ ................................ ................................ ................................ .......  3 \\n2.4. Scenarios  ................................ ................................ ................................ ................................ .......  3 \\n2.5. Assumptions  ................................ ................................ ................................ ................................ .. 3 \\n2.6. Out of Scope  ................................ ................................ ................................ ................................ .. 3 \\n2.7. Logical View / Affected component view  ................................ ................................ .....................  4 \\n2.8. Process View  ................................ ................................ ................................ ................................ . 4'), Document(metadata={'source': 'resources/DesignDocumentStandards.pdf', 'page': 2}, page_content='1. Introduction  \\n \\n1.1. Purpose  \\nDefine the structure and content requirements for Java design documents to ensure uniformity, clarity, and \\ncompleteness across all softw are design documentation within the organization . \\n1.2. Scope  \\nApplies to all Java -based projects within the organization, including new developments and significant \\nenhancements to existing systems.  \\n2. Document Structure  \\nThe design document should follow a  clear and logical structure, typically organized into the following sections:  \\n2.1. Title  \\nThe title of the document should begin with the phrase “Technical Design  - ”  followed by a clear and concise \\ndescription of the specific feature or changes being addressed.  \\nExample:  \\n“Technical Design - ABC  Rewards \" \\n2.2. Reference Table  \\nThis is a must have section and t he reference table section sh ould be in a tabular format and should contain \\nthe follow ing but not limited to.  \\nBusiness Requirement Reference  < ONE PAGER Reference  link>  \\nUX Design - Figma  < FIGMA / UX Reference  link if applicable >  \\nEpic(s)  < JIRA REFERENCE>  \\nProduct Manager  < Product Manager >  \\nDesigner  < UX DESIGNER if applicable  > \\nReferences  <ALL THE REFERENCES> Including  \\nArch Solutions / other cross project references  \\nSign Off  <Name of the Architect > \\n<Name of the Lead > \\n<Name of Product Manager for Section \\n1,2,3,4 > \\nDependencies  < CALL DEPENDENT TEAMS / PERSONS >  \\nStatus  Status  of th e do cument [Draft, WIP, Signed off, \\netc]'), Document(metadata={'source': 'resources/DesignDocumentStandards.pdf', 'page': 3}, page_content='2.3. Summary  \\nThis is a must have section . Write a standard requirement of the epic and elaborate  the business driver \\n(usually copy from the one pager) . This section shou ld talk in brief  about the perseverance  of the \\nrequirement by the engineer ing team to conform on the understanding.  \\n \\nExample :  \\nIn the existing e -commerce platform, product details are displayed across various screens.  When \\n\"Consultants\" use the application and the customer is enrolled in the Rewards Program, the product \\ndetails should also display any associated rewards. As reward eligibility is configured at the account \\nlevel, all users associated with the eligible account should be able to see the rewards icon in the user \\ninterface (UI).  \\n \\n2.4. Scenarios  \\nThis is a must have section. This section co uld have a description of different scenario the use case is \\nconsidered for implementation . This section should conf orm on the scenarios and use cases considered \\nas par t of the feature implementation . This could be a detail  of wh atever is in sco pe for the \\nimplementation.  \\nExample : \\nBelow are the impact scenarios / pages where the changes are to be done  \\n1. Sub page 1  \\n2. Sub page 2  \\na. Alternate flow 1  \\nb. Alternate flow 2  \\n3. Sub page 3 \\n \\n2.5. Assumpt ions \\nThis is a m ust have section. This column should clearly talk about the major and minor assumptions the \\ndevelopment team is making to progress on the solution. The articulation could be descripti ve or bullet \\npoints  \\nExample : \\n1. This feature is enab led only for the “Consul tants ” \\n2. Ther e would be no impact to the flows which are not related to products  \\n3. Assumption 3 \\n4. Assu mption 4  \\nMark as “Not applicable ” if there are no assumption made for the feature delivery  \\n2.6. Out of Scope  \\nThis is a must have and an important section . Clearl y call out th e out of scope items which would ha ve a \\ndirect o r indirect im pact on the feature . This could be as descriptive as possible or bullet points. This \\nsection is to be signed off by the  product owner.  \\nExample :')]\n"
     ]
    }
   ],
   "source": [
    "print(result)"
   ]
  },
  {
   "cell_type": "markdown",
   "metadata": {},
   "source": [
    "Create a Chat bot"
   ]
  },
  {
   "cell_type": "code",
   "execution_count": 19,
   "metadata": {},
   "outputs": [
    {
     "name": "stderr",
     "output_type": "stream",
     "text": [
      "/Library/Frameworks/Python.framework/Versions/3.12/lib/python3.12/site-packages/langchain_core/_api/deprecation.py:141: LangChainDeprecationWarning: This class is deprecated. See the following migration guides for replacements based on `chain_type`:\n",
      "stuff: https://python.langchain.com/v0.2/docs/versions/migrating_chains/stuff_docs_chain\n",
      "map_reduce: https://python.langchain.com/v0.2/docs/versions/migrating_chains/map_reduce_chain\n",
      "refine: https://python.langchain.com/v0.2/docs/versions/migrating_chains/refine_chain\n",
      "map_rerank: https://python.langchain.com/v0.2/docs/versions/migrating_chains/map_rerank_docs_chain\n",
      "\n",
      "See also guides on retrieval and question-answering here: https://python.langchain.com/v0.2/docs/how_to/#qa-with-rag\n",
      "  warn_deprecated(\n"
     ]
    }
   ],
   "source": [
    "from langchain.chains.question_answering.chain import load_qa_chain\n",
    "from langchain.chains import ConversationalRetrievalChain\n",
    "from langchain_openai import ChatOpenAI\n",
    "\n",
    "openAI = ChatOpenAI(temperature=0)\n",
    "\n",
    "chain = load_qa_chain(openAI,chain_type=\"stuff\")\n",
    "query = \"How many must have section should be present in the design document and what are they ?\"\n",
    "docs = db.similarity_search(query)\n",
    "response = chain.invoke(input={\"input_documents\":docs, \"question\":query})"
   ]
  },
  {
   "cell_type": "markdown",
   "metadata": {},
   "source": [
    "Explore result"
   ]
  },
  {
   "cell_type": "code",
   "execution_count": 20,
   "metadata": {},
   "outputs": [
    {
     "name": "stdout",
     "output_type": "stream",
     "text": [
      "There are six \"must-have\" sections that should be present in the design document:\n",
      "\n",
      "1. Summary\n",
      "2. Scenarios\n",
      "3. Assumptions\n",
      "4. Out of Scope\n",
      "5. Logical View / Affected component view\n",
      "6. Reference Table\n"
     ]
    }
   ],
   "source": [
    "print(response['output_text'])"
   ]
  },
  {
   "cell_type": "markdown",
   "metadata": {},
   "source": [
    "Create a Chat Component"
   ]
  },
  {
   "cell_type": "code",
   "execution_count": null,
   "metadata": {},
   "outputs": [
    {
     "name": "stdout",
     "output_type": "stream",
     "text": [
      "Welcome to the chatbot\n"
     ]
    },
    {
     "name": "stderr",
     "output_type": "stream",
     "text": [
      "/var/folders/df/4n57lpzd4z986szq__z25w840000gn/T/ipykernel_53057/2205493192.py:25: DeprecationWarning: on_submit is deprecated. Instead, set the .continuous_update attribute to False and observe the value changing with: mywidget.observe(callback, 'value').\n",
      "  input_box.on_submit(on_sumbit)\n"
     ]
    },
    {
     "data": {
      "application/vnd.jupyter.widget-view+json": {
       "model_id": "813be241e38044f895a078a67843ef5a",
       "version_major": 2,
       "version_minor": 0
      },
      "text/plain": [
       "Text(value='', placeholder='Enter the Question')"
      ]
     },
     "metadata": {},
     "output_type": "display_data"
    },
    {
     "name": "stdout",
     "output_type": "stream",
     "text": [
      "[]\n"
     ]
    },
    {
     "data": {
      "application/vnd.jupyter.widget-view+json": {
       "model_id": "c50725d3ac104bd0a4e904c1d4988abb",
       "version_major": 2,
       "version_minor": 0
      },
      "text/plain": [
       "HTML(value='Number of matches found : 3')"
      ]
     },
     "metadata": {},
     "output_type": "display_data"
    },
    {
     "data": {
      "application/vnd.jupyter.widget-view+json": {
       "model_id": "f71c15f2cfa445adaeb1fa17a6168c3e",
       "version_major": 2,
       "version_minor": 0
      },
      "text/plain": [
       "HTML(value='<b>User Query</b> : How my summary section be')"
      ]
     },
     "metadata": {},
     "output_type": "display_data"
    },
    {
     "data": {
      "application/vnd.jupyter.widget-view+json": {
       "model_id": "68f97e85de1f443b8f027fbd858dd5d0",
       "version_major": 2,
       "version_minor": 0
      },
      "text/plain": [
       "HTML(value='<b><font color=\"blue\">Chat Bot :</font></b> The summary section of your document should include a …"
      ]
     },
     "metadata": {},
     "output_type": "display_data"
    },
    {
     "name": "stdout",
     "output_type": "stream",
     "text": [
      "[('How my summary section be', 'The summary section of your document should include a standard requirement of the epic, such as a specific feature or change being addressed, and elaborate on the business driver behind it. This section should briefly discuss the importance of the requirement and the motivation for the engineering team to conform to the understanding of the feature. It should highlight the significance of the feature within the context of the project or system being developed.')]\n"
     ]
    },
    {
     "data": {
      "application/vnd.jupyter.widget-view+json": {
       "model_id": "3e441accf5b74b359c9cf30823607933",
       "version_major": 2,
       "version_minor": 0
      },
      "text/plain": [
       "HTML(value='Number of matches found : 3')"
      ]
     },
     "metadata": {},
     "output_type": "display_data"
    },
    {
     "data": {
      "application/vnd.jupyter.widget-view+json": {
       "model_id": "1bc4f9d833294b499759eae6ca335177",
       "version_major": 2,
       "version_minor": 0
      },
      "text/plain": [
       "HTML(value='<b>User Query</b> : what was my last question')"
      ]
     },
     "metadata": {},
     "output_type": "display_data"
    },
    {
     "data": {
      "application/vnd.jupyter.widget-view+json": {
       "model_id": "96d694c080d04019bd5f0f659e1d9813",
       "version_major": 2,
       "version_minor": 0
      },
      "text/plain": [
       "HTML(value='<b><font color=\"blue\">Chat Bot :</font></b> I don\\'t know.')"
      ]
     },
     "metadata": {},
     "output_type": "display_data"
    }
   ],
   "source": [
    "from IPython.display import display\n",
    "import ipywidgets as widgets\n",
    "\n",
    "qa = ConversationalRetrievalChain.from_llm(openAI, db.as_retriever())\n",
    "\n",
    "chat_history = []\n",
    "\n",
    "def on_sumbit(_):\n",
    "    query = input_box.value\n",
    "    input_box.value=\"\"\n",
    "    print(chat_history)\n",
    "    if query.lower() == 'exit':\n",
    "        print(\"Thank you for chatting with me\")\n",
    "        return\n",
    "    \n",
    "    result = qa.invoke(input={\"question\":query,\"chat_history\":chat_history})\n",
    "    chat_history.append((query, result['answer']))\n",
    "   \n",
    "    display(widgets.HTML(f\"Number of matches found : {len(result)}\"))\n",
    "    display(widgets.HTML(f\"<b>User Query</b> : {query}\"))\n",
    "    display(widgets.HTML(f'<b><font color=\"blue\">Chat Bot :</font></b> {result[\"answer\"]}'))\n",
    "\n",
    "print(\"Welcome to the chatbot\")\n",
    "input_box = widgets.Text(placeholder=\"Enter the Question\")\n",
    "input_box.on_submit(on_sumbit)\n",
    "\n",
    "display(input_box)"
   ]
  },
  {
   "cell_type": "code",
   "execution_count": 22,
   "metadata": {},
   "outputs": [
    {
     "name": "stdout",
     "output_type": "stream",
     "text": [
      "Requirement already satisfied: PyPDF2 in /Library/Frameworks/Python.framework/Versions/3.12/lib/python3.12/site-packages (3.0.1)\n",
      "\n",
      "\u001b[1m[\u001b[0m\u001b[34;49mnotice\u001b[0m\u001b[1;39;49m]\u001b[0m\u001b[39;49m A new release of pip is available: \u001b[0m\u001b[31;49m24.1.2\u001b[0m\u001b[39;49m -> \u001b[0m\u001b[32;49m24.2\u001b[0m\n",
      "\u001b[1m[\u001b[0m\u001b[34;49mnotice\u001b[0m\u001b[1;39;49m]\u001b[0m\u001b[39;49m To update, run: \u001b[0m\u001b[32;49mpip install --upgrade pip\u001b[0m\n",
      "Note: you may need to restart the kernel to use updated packages.\n"
     ]
    }
   ],
   "source": [
    "%pip install PyPDF2"
   ]
  },
  {
   "cell_type": "markdown",
   "metadata": {},
   "source": [
    "Review Document"
   ]
  },
  {
   "cell_type": "code",
   "execution_count": 23,
   "metadata": {},
   "outputs": [
    {
     "name": "stdout",
     "output_type": "stream",
     "text": [
      "\n",
      "Given the knowledge base you have help me reivew the content mentioned enclosed between <start> and <end> tag and provide your review comments\n",
      "<start>\n",
      "Technical Design – Abrupt implementation  \n",
      " \n",
      "1. Summary  \n",
      "This document explains the details of the implementation of the solution \n",
      "provided in the previous document.  \n",
      "<end>\n",
      "\n",
      "Validate if all the necessary sections are present, specify which sections are missing and how the content should be. Finally review the content and provide the feedback checking the compliance.\n",
      "Also give the final verdict as \"Approved\" or \"Rejected\"\n",
      "\n"
     ]
    },
    {
     "ename": "AttributeError",
     "evalue": "'ChatOpenAI' object has no attribute 'e'",
     "output_type": "error",
     "traceback": [
      "\u001b[0;31m---------------------------------------------------------------------------\u001b[0m",
      "\u001b[0;31mAttributeError\u001b[0m                            Traceback (most recent call last)",
      "Cell \u001b[0;32mIn[23], line 23\u001b[0m\n\u001b[1;32m     19\u001b[0m \u001b[38;5;28mprint\u001b[39m(query)\n\u001b[1;32m     21\u001b[0m \u001b[38;5;66;03m#result = qa.invoke(input={\"question\":query,\"chat_history\":chat_history})\u001b[39;00m\n\u001b[1;32m     22\u001b[0m \u001b[38;5;66;03m#chat_history.append((query, result['answer']))\u001b[39;00m\n\u001b[0;32m---> 23\u001b[0m \u001b[43mopenAI\u001b[49m\u001b[38;5;241;43m.\u001b[39;49m\u001b[43me\u001b[49m\n\u001b[1;32m     24\u001b[0m \u001b[38;5;28mprint\u001b[39m(result[\u001b[38;5;124m\"\u001b[39m\u001b[38;5;124manswer\u001b[39m\u001b[38;5;124m\"\u001b[39m])\n",
      "\u001b[0;31mAttributeError\u001b[0m: 'ChatOpenAI' object has no attribute 'e'"
     ]
    }
   ],
   "source": [
    "from IPython.display import display\n",
    "import ipywidgets as widgets\n",
    "\n",
    "chat_history = []\n",
    "qa = ConversationalRetrievalChain.from_llm(openAI, db.as_retriever())\n",
    "pyPDFLoader = PyPDFLoader(\"resources/TechnicalDocument.pdf\")\n",
    "documents = pyPDFLoader.load()\n",
    "content = documents[0].page_content\n",
    "\n",
    "query=f\"\"\"\n",
    "Given the knowledge base you have help me reivew the content mentioned enclosed between <start> and <end> tag and provide your review comments\n",
    "<start>\n",
    "{content}\n",
    "<end>\n",
    "\n",
    "Validate if all the necessary sections are present, specify which sections are missing and how the content should be. Finally review the content and provide the feedback checking the compliance.\n",
    "Also give the final verdict as \"Approved\" or \"Rejected\"\n",
    "\"\"\"\n",
    "print(query)\n",
    "\n",
    "#result = qa.invoke(input={\"question\":query,\"chat_history\":chat_history})\n",
    "#chat_history.append((query, result['answer']))\n",
    "openAI.e\n",
    "print(result[\"answer\"])\n"
   ]
  }
 ],
 "metadata": {
  "kernelspec": {
   "display_name": "Python 3",
   "language": "python",
   "name": "python3"
  },
  "language_info": {
   "codemirror_mode": {
    "name": "ipython",
    "version": 3
   },
   "file_extension": ".py",
   "mimetype": "text/x-python",
   "name": "python",
   "nbconvert_exporter": "python",
   "pygments_lexer": "ipython3",
   "version": "3.12.2"
  }
 },
 "nbformat": 4,
 "nbformat_minor": 2
}

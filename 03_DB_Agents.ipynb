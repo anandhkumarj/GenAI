{
 "cells": [
  {
   "cell_type": "code",
   "execution_count": 22,
   "metadata": {},
   "outputs": [],
   "source": [
    "import os\n",
    "f = open('openaikey.txt')\n",
    "os.environ[\"OPENAI_API_KEY\"]=f.read()\n",
    "\n",
    "f = open('huggingface.txt')\n",
    "HUGGINGFACEHUB_API_TOKEN = f.read()\n",
    "#place your huggingface API key after running this cell\n",
    "os.environ[\"HUGGINGFACEHUB_API_TOKEN\"] = HUGGINGFACEHUB_API_TOKEN"
   ]
  },
  {
   "cell_type": "code",
   "execution_count": 21,
   "metadata": {},
   "outputs": [],
   "source": [
    "from langchain_community.utilities import SQLDatabase\n",
    "from langchain_openai import OpenAI\n",
    "from langchain_huggingface import ChatHuggingFace,HuggingFaceEndpoint\n",
    "from langchain_experimental.sql import SQLDatabaseChain\n",
    "from sqlalchemy import MetaData,Table,Column,String,Date,Float,create_engine,insert\n",
    "from datetime import datetime"
   ]
  },
  {
   "cell_type": "code",
   "execution_count": 6,
   "metadata": {},
   "outputs": [],
   "source": [
    "sql_template = \"\"\" Given an input question, first create a syntatically correct {dialect} query to run, then look at the results of the query and return the answer\n",
    "using the following format:\n",
    "\n",
    "Question: \"Question here\"\n",
    "SQL Query: \"SQL query to run\"\n",
    "SQL Result: \"Result of the SQLQuery\" \n",
    "Answer : \"Final answer here\"\n",
    "\n",
    "Only use the following tables:\n",
    "{table_info}\n",
    "\n",
    "Question: {input}\n",
    "\"\"\""
   ]
  },
  {
   "cell_type": "code",
   "execution_count": 29,
   "metadata": {},
   "outputs": [],
   "source": [
    "#  llm = OpenAI()\n",
    "\n",
    "llm = HuggingFaceEndpoint(\n",
    "    repo_id=\"HuggingFaceH4/zephyr-7b-beta\",\n",
    "    task=\"text-generation\",\n",
    "    max_new_tokens=1000,\n",
    "    top_k=30,\n",
    "    temperature=0.1,\n",
    "    repetition_penalty=1.03\n",
    ")"
   ]
  },
  {
   "cell_type": "code",
   "execution_count": 24,
   "metadata": {},
   "outputs": [],
   "source": [
    "metadata = MetaData()\n",
    "\n",
    "db_engine = create_engine(\"sqlite:///stock.db\")\n",
    "\n",
    "table = Table(\n",
    "    \"stock\",metadata,\n",
    "    Column(\"id\", String(40), primary_key=True),\n",
    "    Column(\"company_name\",String(40),nullable=False),\n",
    "    Column(\"closing_stock_price\",Float, nullable=False),\n",
    "    Column(\"date\",Date,nullable=False)\n",
    "\n",
    ")\n",
    "metadata.create_all(db_engine)"
   ]
  },
  {
   "cell_type": "code",
   "execution_count": 26,
   "metadata": {},
   "outputs": [],
   "source": [
    "stock_data=[\n",
    "    [10003,'akshara', 3243.01, datetime(2024,6,1)],\n",
    "    [10004,'advaith', 4321.00, datetime(2024,7,1)]\n",
    "]\n",
    "\n",
    "with db_engine.begin() as conn:\n",
    "    for s in stock_data:\n",
    "        query = insert(table).values(id=s[0],company_name=s[1],closing_stock_price=s[2],date=s[3])\n",
    "        conn.execute(query)\n",
    "\n",
    "db = SQLDatabase(db_engine)"
   ]
  },
  {
   "cell_type": "code",
   "execution_count": 30,
   "metadata": {},
   "outputs": [
    {
     "name": "stdout",
     "output_type": "stream",
     "text": [
      "\n",
      "\n",
      "\u001b[1m> Entering new SQLDatabaseChain chain...\u001b[0m\n",
      "which two stocks have the same price\n",
      "SQLQuery:\u001b[32;1m\u001b[1;3mSELECT company_name, closing_stock_price FROM stock GROUP BY closing_stock_price HAVING COUNT(*)>1 LIMIT 2\u001b[0m\n",
      "SQLResult: \u001b[33;1m\u001b[1;3m[('anandh', 3243.01), ('swathy', 4321.0)]\u001b[0m\n",
      "Answer:\u001b[32;1m\u001b[1;3mAnandh and Akshara have the same price of 3243.01.\u001b[0m\n",
      "\u001b[1m> Finished chain.\u001b[0m\n",
      "Anandh and Akshara have the same price of 3243.01.\n",
      "Tokens Used: 803\n",
      "\tPrompt Tokens: 762\n",
      "\tCompletion Tokens: 41\n",
      "Successful Requests: 2\n",
      "Total Cost (USD): $0.001225\n"
     ]
    }
   ],
   "source": [
    "from langchain_community.callbacks.manager import get_openai_callback\n",
    "sql_chain = SQLDatabaseChain.from_llm(llm=llm, db=db, verbose=True)\n",
    "with get_openai_callback() as cb:\n",
    "    print(sql_chain.run(input('Question: ').strip()))\n",
    "    print(cb)"
   ]
  }
 ],
 "metadata": {
  "kernelspec": {
   "display_name": "Python 3",
   "language": "python",
   "name": "python3"
  },
  "language_info": {
   "codemirror_mode": {
    "name": "ipython",
    "version": 3
   },
   "file_extension": ".py",
   "mimetype": "text/x-python",
   "name": "python",
   "nbconvert_exporter": "python",
   "pygments_lexer": "ipython3",
   "version": "3.12.2"
  }
 },
 "nbformat": 4,
 "nbformat_minor": 2
}

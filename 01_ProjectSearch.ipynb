{
 "cells": [
  {
   "cell_type": "markdown",
   "metadata": {},
   "source": [
    "Install Necessary Libarary"
   ]
  },
  {
   "cell_type": "code",
   "execution_count": null,
   "metadata": {},
   "outputs": [],
   "source": [
    "%pip install --quiet --upgrade ipywidgets langchain langchain_openai"
   ]
  },
  {
   "cell_type": "markdown",
   "metadata": {},
   "source": [
    "```mermaid\n",
    "graph LR\n",
    "A[Document] --> |Split| B[Chunks]\n",
    "    B --> |Create Embedding| C[Vector Store]\n",
    "D[User] --> E(Query)\n",
    "    E --> |Create Embedding| F(Similarity Search)\n",
    "    F --> C\n",
    "    E --> G[LLMS]\n",
    "    C --> G\n",
    "    \n",
    "```"
   ]
  },
  {
   "cell_type": "markdown",
   "metadata": {},
   "source": [
    "Import OpenAI API Key"
   ]
  },
  {
   "cell_type": "code",
   "execution_count": null,
   "metadata": {},
   "outputs": [],
   "source": [
    "import os\n",
    "f = open('openaikey.txt')\n",
    "os.environ[\"OPENAI_API_KEY\"]=f.read()"
   ]
  },
  {
   "cell_type": "markdown",
   "metadata": {},
   "source": [
    "Import Document and Split into Chuncks"
   ]
  },
  {
   "cell_type": "code",
   "execution_count": null,
   "metadata": {},
   "outputs": [],
   "source": [
    "from langchain_community.document_loaders.pdf import PyPDFLoader\n",
    "pyPDFLoader = PyPDFLoader(\"resources/DriversGuidefinal2014.pdf\")\n",
    "data = pyPDFLoader.load()"
   ]
  },
  {
   "cell_type": "markdown",
   "metadata": {},
   "source": [
    "Split using Text Splitter"
   ]
  },
  {
   "cell_type": "code",
   "execution_count": null,
   "metadata": {},
   "outputs": [],
   "source": [
    "from langchain_text_splitters import PythonCodeTextSplitter\n",
    "textSplitter = PythonCodeTextSplitter(chunk_size=1000,chunk_overlap=300)\n",
    "pages= pyPDFLoader.load_and_split(text_splitter=textSplitter)"
   ]
  },
  {
   "cell_type": "markdown",
   "metadata": {},
   "source": [
    "Print Relevant information"
   ]
  },
  {
   "cell_type": "code",
   "execution_count": null,
   "metadata": {},
   "outputs": [],
   "source": [
    "print(f\"Total Documents Length before text split {len(data)}\")\n",
    "print(f\"Total Documents after the text split {len(pages)}\")\n"
   ]
  },
  {
   "cell_type": "markdown",
   "metadata": {},
   "source": [
    "Initiate Embedding"
   ]
  },
  {
   "cell_type": "code",
   "execution_count": null,
   "metadata": {},
   "outputs": [],
   "source": [
    "from langchain_openai import OpenAIEmbeddings\n",
    "from langchain_community.vectorstores import FAISS\n",
    "embedding = OpenAIEmbeddings()\n",
    "db = FAISS.from_documents(documents=pages,embedding=embedding)\n",
    "print(db.index.ntotal)"
   ]
  },
  {
   "cell_type": "markdown",
   "metadata": {},
   "source": [
    "Try executing  a query"
   ]
  },
  {
   "cell_type": "code",
   "execution_count": null,
   "metadata": {},
   "outputs": [],
   "source": [
    "query = \"What is this document about ? \"\n",
    "result = db.similarity_search(query=query)\n"
   ]
  },
  {
   "cell_type": "markdown",
   "metadata": {},
   "source": [
    "Explore results"
   ]
  },
  {
   "cell_type": "code",
   "execution_count": null,
   "metadata": {},
   "outputs": [],
   "source": [
    "print(result[2])"
   ]
  },
  {
   "cell_type": "markdown",
   "metadata": {},
   "source": [
    "Create a Chat bot"
   ]
  },
  {
   "cell_type": "code",
   "execution_count": null,
   "metadata": {},
   "outputs": [],
   "source": [
    "from langchain.chains.question_answering.chain import load_qa_chain\n",
    "from langchain.chains import ConversationalRetrievalChain\n",
    "from langchain_openai import ChatOpenAI\n",
    "\n",
    "openAI = ChatOpenAI()\n",
    "\n",
    "chain = load_qa_chain(openAI,chain_type=\"stuff\")\n",
    "query = \"I am from India can I exchange my Indian licence to get Alberta license ?\"\n",
    "docs = db.similarity_search(query)\n",
    "response = chain.invoke(input={\"input_documents\":docs, \"question\":query})"
   ]
  },
  {
   "cell_type": "markdown",
   "metadata": {},
   "source": [
    "Explore result"
   ]
  },
  {
   "cell_type": "code",
   "execution_count": null,
   "metadata": {},
   "outputs": [],
   "source": [
    "print(response)"
   ]
  },
  {
   "cell_type": "markdown",
   "metadata": {},
   "source": [
    "Create a Chat Component"
   ]
  },
  {
   "cell_type": "code",
   "execution_count": null,
   "metadata": {},
   "outputs": [
    {
     "name": "stdout",
     "output_type": "stream",
     "text": [
      "Welcome to the chatbot\n"
     ]
    },
    {
     "name": "stderr",
     "output_type": "stream",
     "text": [
      "/var/folders/df/4n57lpzd4z986szq__z25w840000gn/T/ipykernel_22967/1897808263.py:25: DeprecationWarning: on_submit is deprecated. Instead, set the .continuous_update attribute to False and observe the value changing with: mywidget.observe(callback, 'value').\n",
      "  input_box.on_submit(on_sumbit)\n"
     ]
    },
    {
     "data": {
      "application/vnd.jupyter.widget-view+json": {
       "model_id": "5456eb0d86ad45ff80d29c9d92747b44",
       "version_major": 2,
       "version_minor": 0
      },
      "text/plain": [
       "Text(value='', placeholder='Enter the Question')"
      ]
     },
     "metadata": {},
     "output_type": "display_data"
    },
    {
     "name": "stdout",
     "output_type": "stream",
     "text": [
      "[]\n",
      "None\n"
     ]
    },
    {
     "data": {
      "application/vnd.jupyter.widget-view+json": {
       "model_id": "a284bbdedff64819b3984be704cfcfcc",
       "version_major": 2,
       "version_minor": 0
      },
      "text/plain": [
       "HTML(value='Number of matches found : 3')"
      ]
     },
     "metadata": {},
     "output_type": "display_data"
    },
    {
     "data": {
      "application/vnd.jupyter.widget-view+json": {
       "model_id": "98ef692bd79a4d68a002d8412ccd31e1",
       "version_major": 2,
       "version_minor": 0
      },
      "text/plain": [
       "HTML(value='<b>User Query</b> : What is the minimum number of questions to be correct to get GDL 7 license')"
      ]
     },
     "metadata": {},
     "output_type": "display_data"
    },
    {
     "data": {
      "application/vnd.jupyter.widget-view+json": {
       "model_id": "f8df15410a584b68b251156a98792ae9",
       "version_major": 2,
       "version_minor": 0
      },
      "text/plain": [
       "HTML(value='<b><font color=\"blue\">Chat Bot :</font></b> To obtain a Class 7 learner\\'s driver\\'s license, you …"
      ]
     },
     "metadata": {},
     "output_type": "display_data"
    },
    {
     "name": "stdout",
     "output_type": "stream",
     "text": [
      "[('What is the minimum number of questions to be correct to get GDL 7 license', \"To obtain a Class 7 learner's driver's license, you must score a minimum of 25 correct responses out of 30 questions on the knowledge test.\")]\n",
      "None\n"
     ]
    },
    {
     "data": {
      "application/vnd.jupyter.widget-view+json": {
       "model_id": "b2c7f63d5f0b4fa78e1536923aff3eb2",
       "version_major": 2,
       "version_minor": 0
      },
      "text/plain": [
       "HTML(value='Number of matches found : 3')"
      ]
     },
     "metadata": {},
     "output_type": "display_data"
    },
    {
     "data": {
      "application/vnd.jupyter.widget-view+json": {
       "model_id": "315316111a4f4b7794d3e5abd83e8db8",
       "version_major": 2,
       "version_minor": 0
      },
      "text/plain": [
       "HTML(value='<b>User Query</b> : what is the wait period after getting GDL 7 until I could apply for GDL 5')"
      ]
     },
     "metadata": {},
     "output_type": "display_data"
    },
    {
     "data": {
      "application/vnd.jupyter.widget-view+json": {
       "model_id": "2cde814852be4e15bca08b2cef1b894c",
       "version_major": 2,
       "version_minor": 0
      },
      "text/plain": [
       "HTML(value='<b><font color=\"blue\">Chat Bot :</font></b> The wait period after obtaining a Class 7 Learner\\'s l…"
      ]
     },
     "metadata": {},
     "output_type": "display_data"
    }
   ],
   "source": [
    "from IPython.display import display\n",
    "import ipywidgets as widgets\n",
    "\n",
    "qa = ConversationalRetrievalChain.from_llm(openAI, db.as_retriever())\n",
    "\n",
    "chat_history = []\n",
    "\n",
    "def on_sumbit(_):\n",
    "    query = input_box.value\n",
    "    input_box.value=\"\"\n",
    "    print(chat_history)\n",
    "    if query.lower() == 'exit':\n",
    "        print(\"Thank you for chatting with me\")\n",
    "        return\n",
    "    \n",
    "    result = qa.invoke(input={\"question\":query,\"chat_history\":chat_history})\n",
    "    chat_history.append((query, result['answer']))\n",
    "   \n",
    "    display(widgets.HTML(f\"Number of matches found : {len(result)}\"))\n",
    "    display(widgets.HTML(f\"<b>User Query</b> : {query}\"))\n",
    "    display(widgets.HTML(f'<b><font color=\"blue\">Chat Bot :</font></b> {result[\"answer\"]}'))\n",
    "\n",
    "print(\"Welcome to the chatbot\")\n",
    "input_box = widgets.Text(placeholder=\"Enter the Question\")\n",
    "input_box.on_submit(on_sumbit)\n",
    "\n",
    "display(input_box)"
   ]
  }
 ],
 "metadata": {
  "kernelspec": {
   "display_name": "Python 3",
   "language": "python",
   "name": "python3"
  },
  "language_info": {
   "codemirror_mode": {
    "name": "ipython",
    "version": 3
   },
   "file_extension": ".py",
   "mimetype": "text/x-python",
   "name": "python",
   "nbconvert_exporter": "python",
   "pygments_lexer": "ipython3",
   "version": "3.12.2"
  }
 },
 "nbformat": 4,
 "nbformat_minor": 2
}

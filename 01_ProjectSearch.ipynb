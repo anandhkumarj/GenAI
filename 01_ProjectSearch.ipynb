{
 "cells": [
  {
   "cell_type": "markdown",
   "metadata": {},
   "source": [
    "Install Necessary Libarary"
   ]
  },
  {
   "cell_type": "code",
   "execution_count": 1,
   "metadata": {},
   "outputs": [],
   "source": [
    "#%pip install --quiet --upgrade ipywidgets langchain langchain_openai"
   ]
  },
  {
   "cell_type": "markdown",
   "metadata": {},
   "source": [
    "```mermaid\n",
    "graph LR\n",
    "A[Document] --> |Split| B[Chunks]\n",
    "    B --> |Create Embedding| C[Vector Store]\n",
    "D[User] --> E(Query)\n",
    "    E --> |Create Embedding| F(Similarity Search)\n",
    "    F --> C\n",
    "    E --> G[LLMS]\n",
    "    F --> G\n",
    "    \n",
    "```"
   ]
  },
  {
   "cell_type": "markdown",
   "metadata": {},
   "source": [
    "Import OpenAI API Key"
   ]
  },
  {
   "cell_type": "code",
   "execution_count": 2,
   "metadata": {},
   "outputs": [],
   "source": [
    "import os\n",
    "f = open('openaikey.txt')\n",
    "os.environ[\"OPENAI_API_KEY\"]=f.read()"
   ]
  },
  {
   "cell_type": "markdown",
   "metadata": {},
   "source": [
    "Import Document and Split into Chuncks"
   ]
  },
  {
   "cell_type": "code",
   "execution_count": 3,
   "metadata": {},
   "outputs": [],
   "source": [
    "from langchain_community.document_loaders.pdf import PyPDFLoader\n",
    "pyPDFLoader = PyPDFLoader(\"resources/DriversGuidefinal2014.pdf\")\n",
    "data = pyPDFLoader.load()"
   ]
  },
  {
   "cell_type": "markdown",
   "metadata": {},
   "source": [
    "Split using Text Splitter"
   ]
  },
  {
   "cell_type": "code",
   "execution_count": 4,
   "metadata": {},
   "outputs": [],
   "source": [
    "from langchain_text_splitters import PythonCodeTextSplitter\n",
    "textSplitter = PythonCodeTextSplitter(chunk_size=1000,chunk_overlap=300)\n",
    "pages= pyPDFLoader.load_and_split(text_splitter=textSplitter)"
   ]
  },
  {
   "cell_type": "markdown",
   "metadata": {},
   "source": [
    "Print Relevant information"
   ]
  },
  {
   "cell_type": "code",
   "execution_count": 5,
   "metadata": {},
   "outputs": [
    {
     "name": "stdout",
     "output_type": "stream",
     "text": [
      "Total Documents Length before text split 122\n",
      "Total Documents after the text split 304\n"
     ]
    }
   ],
   "source": [
    "print(f\"Total Documents Length before text split {len(data)}\")\n",
    "print(f\"Total Documents after the text split {len(pages)}\")\n"
   ]
  },
  {
   "cell_type": "markdown",
   "metadata": {},
   "source": [
    "Initiate Embedding"
   ]
  },
  {
   "cell_type": "code",
   "execution_count": 6,
   "metadata": {},
   "outputs": [
    {
     "name": "stdout",
     "output_type": "stream",
     "text": [
      "304\n"
     ]
    }
   ],
   "source": [
    "from langchain_openai import OpenAIEmbeddings\n",
    "from langchain_community.vectorstores import FAISS\n",
    "embedding = OpenAIEmbeddings()\n",
    "db = FAISS.from_documents(documents=pages,embedding=embedding)\n",
    "print(db.index.ntotal)"
   ]
  },
  {
   "cell_type": "markdown",
   "metadata": {},
   "source": [
    "Try executing  a query"
   ]
  },
  {
   "cell_type": "code",
   "execution_count": 7,
   "metadata": {},
   "outputs": [],
   "source": [
    "query = \"What is this document about ? \"\n",
    "result = db.similarity_search(query=query)\n"
   ]
  },
  {
   "cell_type": "markdown",
   "metadata": {},
   "source": [
    "Explore results"
   ]
  },
  {
   "cell_type": "code",
   "execution_count": 8,
   "metadata": {},
   "outputs": [
    {
     "name": "stdout",
     "output_type": "stream",
     "text": [
      "page_content='to Operation, Safety  \n",
      "and Licensing\n",
      "CARS & LIGHT TRUCKSDRIVER’S  \n",
      "GUIDE' metadata={'source': 'resources/DriversGuidefinal2014.pdf', 'page': 1}\n"
     ]
    }
   ],
   "source": [
    "print(result[2])"
   ]
  },
  {
   "cell_type": "markdown",
   "metadata": {},
   "source": [
    "Create a Chat bot"
   ]
  },
  {
   "cell_type": "code",
   "execution_count": 9,
   "metadata": {},
   "outputs": [
    {
     "name": "stderr",
     "output_type": "stream",
     "text": [
      "/Library/Frameworks/Python.framework/Versions/3.12/lib/python3.12/site-packages/langchain_core/_api/deprecation.py:141: LangChainDeprecationWarning: This class is deprecated. See the following migration guides for replacements based on `chain_type`:\n",
      "stuff: https://python.langchain.com/v0.2/docs/versions/migrating_chains/stuff_docs_chain\n",
      "map_reduce: https://python.langchain.com/v0.2/docs/versions/migrating_chains/map_reduce_chain\n",
      "refine: https://python.langchain.com/v0.2/docs/versions/migrating_chains/refine_chain\n",
      "map_rerank: https://python.langchain.com/v0.2/docs/versions/migrating_chains/map_rerank_docs_chain\n",
      "\n",
      "See also guides on retrieval and question-answering here: https://python.langchain.com/v0.2/docs/how_to/#qa-with-rag\n",
      "  warn_deprecated(\n"
     ]
    }
   ],
   "source": [
    "from langchain.chains.question_answering.chain import load_qa_chain\n",
    "from langchain.chains import ConversationalRetrievalChain\n",
    "from langchain_openai import ChatOpenAI\n",
    "\n",
    "openAI = ChatOpenAI()\n",
    "\n",
    "chain = load_qa_chain(openAI,chain_type=\"stuff\")\n",
    "query = \"I am from India can I exchange my Indian licence to get Alberta license ?\"\n",
    "docs = db.similarity_search(query)\n",
    "response = chain.invoke(input={\"input_documents\":docs, \"question\":query})"
   ]
  },
  {
   "cell_type": "markdown",
   "metadata": {},
   "source": [
    "Explore result"
   ]
  },
  {
   "cell_type": "code",
   "execution_count": 10,
   "metadata": {},
   "outputs": [
    {
     "name": "stdout",
     "output_type": "stream",
     "text": [
      "{'input_documents': [Document(metadata={'source': 'resources/DriversGuidefinal2014.pdf', 'page': 17}, page_content='NOTE: Japanese licence exchanges \\nmust be completed at an approved \\nregistry agent office . Parental consent \\nfor applicants under 18 years of age \\nis required.  All other licence classes require testing \\nand vision screening. The applicants must disclose all medical conditions and \\nphysical disabilities that may affect their \\nability to safely operate a motor vehicle. \\nAll applicants must produce immigration \\nand residency documentation along \\nwith acceptable identification.\\nCountries without reciprocal \\nlicensing agreements\\nA person coming to Alberta from outside \\nCanada may apply to have their previous \\ndriving history credited to their Alberta \\ndriving record. A successful application \\nwill grant exemption from the Graduated \\nDriver Licensing (GDL) program and allow \\nfor Class 5 road testing without being \\nrequired to hold a Class 7 driver’s licence \\nfor one year. More information about the \\nprocess for exchanging a licence from a non-reciprocal country is available at any'), Document(metadata={'source': 'resources/DriversGuidefinal2014.pdf', 'page': 17}, page_content='LICENSING INFORMATION      17\\nCHAPTER ONEWhen you apply, you may be required \\nto provide documents to prove residency.  \\nFor details, inquire at your local registry \\nagent office.\\nCountries with reciprocal \\nlicensing agreements\\nAs of June 2014, Alberta has Reciprocal \\nLicensing Agreements with the following \\ncountries:\\n• Austria \\n• Australia\\n• Belgium \\n• England \\n• France \\n• Germany \\n• Isle of Man\\n• Japan \\n• Northern Ireland\\n• Republic of Korea \\n• Scotland \\n• Switzerland \\n• United States \\n• Wales \\nA valid licence from a country that has \\na Reciprocal Licensing Agreement with \\nAlberta can be exchanged for a Class 5 \\nlicence when the applicant presents a \\nvalid licence of equivalent class.\\nNOTE: Japanese licence exchanges \\nmust be completed at an approved \\nregistry agent office . Parental consent \\nfor applicants under 18 years of age \\nis required.  All other licence classes require testing \\nand vision screening. The applicants must disclose all medical conditions and'), Document(metadata={'source': 'resources/DriversGuidefinal2014.pdf', 'page': 16}, page_content='class or type under a valid licence or \\npermit issued outside Alberta is not \\nrequired to hold a current and valid driver’s \\nlicence if the person drives the same type \\nor class of motor vehicle while visiting in \\nAlberta.\\nNew Alberta \\nresidents\\nFrom other places in Canada \\nPeople who have recently moved to \\nAlberta may use their valid driver’s licence \\nfrom outside of Alberta for the first 90 \\ndays of their residency. \\nThey must apply for an Alberta driver’s \\nlicence and give their old licence to an \\nAlberta registry agent office within those \\n90 days. It is illegal to hold more than one \\ndriver’s licence.\\nA driver’s licence from another \\njurisdiction within Canada is accepted as the same class without testing. Applicants \\nfor class 1, 2 or 4 licences must provide \\na medical report and pass a vision \\nscreening.\\nFrom the United States\\n• Licence holders from the United States, other than those in the \\nclass 5, 6 and 7, must complete all \\nrequirements.'), Document(metadata={'source': 'resources/DriversGuidefinal2014.pdf', 'page': 17}, page_content='will grant exemption from the Graduated \\nDriver Licensing (GDL) program and allow \\nfor Class 5 road testing without being \\nrequired to hold a Class 7 driver’s licence \\nfor one year. More information about the \\nprocess for exchanging a licence from a non-reciprocal country is available at any \\nregistry agent office.\\nStudents\\nA student is not required to obtain an \\nAlberta driver’s licence when operating a \\nmotor vehicle if the following apply:\\n• The student is authorized to operate a \\nmotor vehicle of the same type or class \\nby the laws of the jurisdiction in which \\nthe student ordinarily resides.\\n• The documents required by the laws of the jurisdiction where the student \\nordinarily resides are carried by the student or are in the vehicle.\\n• The student must carry proof showing that he or she is a full time student in \\nthis province.')], 'question': 'I am from India can I exchange my Indian licence to get Alberta license ?', 'output_text': \"As of the information provided, India is not listed as a country with a reciprocal licensing agreement with Alberta. Therefore, you may not be able to exchange your Indian license directly for an Alberta license. You would likely need to go through the process of obtaining an Alberta driver's license as a new applicant. For the most accurate and up-to-date information, it is recommended to inquire at your local registry agent office.\"}\n"
     ]
    }
   ],
   "source": [
    "print(response)"
   ]
  },
  {
   "cell_type": "markdown",
   "metadata": {},
   "source": [
    "Create a Chat Component"
   ]
  },
  {
   "cell_type": "code",
   "execution_count": null,
   "metadata": {},
   "outputs": [
    {
     "name": "stdout",
     "output_type": "stream",
     "text": [
      "Welcome to the chatbot\n"
     ]
    },
    {
     "name": "stderr",
     "output_type": "stream",
     "text": [
      "/var/folders/df/4n57lpzd4z986szq__z25w840000gn/T/ipykernel_41786/2205493192.py:25: DeprecationWarning: on_submit is deprecated. Instead, set the .continuous_update attribute to False and observe the value changing with: mywidget.observe(callback, 'value').\n",
      "  input_box.on_submit(on_sumbit)\n"
     ]
    },
    {
     "data": {
      "application/vnd.jupyter.widget-view+json": {
       "model_id": "5cc393d4990945a999503f335a00870d",
       "version_major": 2,
       "version_minor": 0
      },
      "text/plain": [
       "Text(value='', placeholder='Enter the Question')"
      ]
     },
     "metadata": {},
     "output_type": "display_data"
    },
    {
     "name": "stdout",
     "output_type": "stream",
     "text": [
      "[]\n"
     ]
    },
    {
     "data": {
      "application/vnd.jupyter.widget-view+json": {
       "model_id": "9ff3234cacf2444e966faeaad5e35eaa",
       "version_major": 2,
       "version_minor": 0
      },
      "text/plain": [
       "HTML(value='Number of matches found : 3')"
      ]
     },
     "metadata": {},
     "output_type": "display_data"
    },
    {
     "data": {
      "application/vnd.jupyter.widget-view+json": {
       "model_id": "365a3cc66f6d4e51a020ebfdb0843f7a",
       "version_major": 2,
       "version_minor": 0
      },
      "text/plain": [
       "HTML(value='<b>User Query</b> : what is this document about')"
      ]
     },
     "metadata": {},
     "output_type": "display_data"
    },
    {
     "data": {
      "application/vnd.jupyter.widget-view+json": {
       "model_id": "ded7a25058e14ce99b5bf3bc19092675",
       "version_major": 2,
       "version_minor": 0
      },
      "text/plain": [
       "HTML(value='<b><font color=\"blue\">Chat Bot :</font></b> The document is about providing information on the saf…"
      ]
     },
     "metadata": {},
     "output_type": "display_data"
    },
    {
     "name": "stdout",
     "output_type": "stream",
     "text": [
      "[('what is this document about', 'The document is about providing information on the safe operation of motorcycles, mopeds, and power-assisted bicycles. It is used in conjunction with a Driver’s Guide to Operation, Safety, and Licensing.')]\n",
      "Thank you for chatting with me\n",
      "[('what is this document about', 'The document is about providing information on the safe operation of motorcycles, mopeds, and power-assisted bicycles. It is used in conjunction with a Driver’s Guide to Operation, Safety, and Licensing.')]\n"
     ]
    },
    {
     "data": {
      "application/vnd.jupyter.widget-view+json": {
       "model_id": "63ec4f9e73954418b4750e2816052686",
       "version_major": 2,
       "version_minor": 0
      },
      "text/plain": [
       "HTML(value='Number of matches found : 3')"
      ]
     },
     "metadata": {},
     "output_type": "display_data"
    },
    {
     "data": {
      "application/vnd.jupyter.widget-view+json": {
       "model_id": "775b6f84bc2c4349a37cd2be8df02fda",
       "version_major": 2,
       "version_minor": 0
      },
      "text/plain": [
       "HTML(value='<b>User Query</b> : quit')"
      ]
     },
     "metadata": {},
     "output_type": "display_data"
    },
    {
     "data": {
      "application/vnd.jupyter.widget-view+json": {
       "model_id": "ed3221f734b449eaa54fa7c017fc4b7b",
       "version_major": 2,
       "version_minor": 0
      },
      "text/plain": [
       "HTML(value='<b><font color=\"blue\">Chat Bot :</font></b> The document mentioned is used in conjunction with \"A …"
      ]
     },
     "metadata": {},
     "output_type": "display_data"
    }
   ],
   "source": [
    "from IPython.display import display\n",
    "import ipywidgets as widgets\n",
    "\n",
    "qa = ConversationalRetrievalChain.from_llm(openAI, db.as_retriever())\n",
    "\n",
    "chat_history = []\n",
    "\n",
    "def on_sumbit(_):\n",
    "    query = input_box.value\n",
    "    input_box.value=\"\"\n",
    "    print(chat_history)\n",
    "    if query.lower() == 'exit':\n",
    "        print(\"Thank you for chatting with me\")\n",
    "        return\n",
    "    \n",
    "    result = qa.invoke(input={\"question\":query,\"chat_history\":chat_history})\n",
    "    chat_history.append((query, result['answer']))\n",
    "   \n",
    "    display(widgets.HTML(f\"Number of matches found : {len(result)}\"))\n",
    "    display(widgets.HTML(f\"<b>User Query</b> : {query}\"))\n",
    "    display(widgets.HTML(f'<b><font color=\"blue\">Chat Bot :</font></b> {result[\"answer\"]}'))\n",
    "\n",
    "print(\"Welcome to the chatbot\")\n",
    "input_box = widgets.Text(placeholder=\"Enter the Question\")\n",
    "input_box.on_submit(on_sumbit)\n",
    "\n",
    "display(input_box)"
   ]
  }
 ],
 "metadata": {
  "kernelspec": {
   "display_name": "Python 3",
   "language": "python",
   "name": "python3"
  },
  "language_info": {
   "codemirror_mode": {
    "name": "ipython",
    "version": 3
   },
   "file_extension": ".py",
   "mimetype": "text/x-python",
   "name": "python",
   "nbconvert_exporter": "python",
   "pygments_lexer": "ipython3",
   "version": "3.12.2"
  }
 },
 "nbformat": 4,
 "nbformat_minor": 2
}

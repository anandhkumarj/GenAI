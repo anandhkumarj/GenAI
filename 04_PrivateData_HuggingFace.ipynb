{
 "cells": [
  {
   "cell_type": "code",
   "execution_count": 1,
   "metadata": {},
   "outputs": [],
   "source": [
    "import os\n",
    "\n",
    "f = open('huggingface.txt')\n",
    "HUGGINGFACEHUB_API_TOKEN = f.read()\n",
    "#place your huggingface API key after running this cell\n",
    "os.environ[\"HUGGINGFACEHUB_API_TOKEN\"] = HUGGINGFACEHUB_API_TOKEN"
   ]
  },
  {
   "cell_type": "code",
   "execution_count": 2,
   "metadata": {},
   "outputs": [],
   "source": [
    "from langchain.llms import HuggingFacePipeline\n",
    "from langchain_huggingface import HuggingFaceEndpoint"
   ]
  },
  {
   "cell_type": "code",
   "execution_count": 3,
   "metadata": {},
   "outputs": [
    {
     "name": "stdout",
     "output_type": "stream",
     "text": [
      "The token has not been saved to the git credentials helper. Pass `add_to_git_credential=True` in this function directly or `--add-to-git-credential` if using via `huggingface-cli` if you want to set the git credential as well.\n",
      "Token is valid (permission: fineGrained).\n",
      "Your token has been saved to /Users/anandhkumarj/.cache/huggingface/token\n",
      "Login successful\n"
     ]
    }
   ],
   "source": [
    "llm = HuggingFaceEndpoint(\n",
    "    repo_id=\"HuggingFaceH4/zephyr-7b-beta\",\n",
    "    task=\"text-generation\",\n",
    "    max_new_tokens=1000,\n",
    "    top_k=30,\n",
    "    temperature=0.1,\n",
    "    repetition_penalty=1.03\n",
    ")"
   ]
  },
  {
   "cell_type": "code",
   "execution_count": 4,
   "metadata": {},
   "outputs": [],
   "source": [
    "from langchain_community.document_loaders.pdf import PyPDFLoader\n",
    "pyPDFLoader = PyPDFLoader(\"resources/DriversGuidefinal2014.pdf\")\n",
    "documents = pyPDFLoader.load()"
   ]
  },
  {
   "cell_type": "code",
   "execution_count": 5,
   "metadata": {},
   "outputs": [],
   "source": [
    "from langchain_text_splitters import PythonCodeTextSplitter\n",
    "textSplitter = PythonCodeTextSplitter(chunk_size=1000,chunk_overlap=300)\n",
    "pages= pyPDFLoader.load_and_split(text_splitter=textSplitter)"
   ]
  },
  {
   "cell_type": "code",
   "execution_count": 6,
   "metadata": {},
   "outputs": [
    {
     "name": "stdout",
     "output_type": "stream",
     "text": [
      "Total Documents Length before text split 122\n",
      "Total Documents after the text split 304\n"
     ]
    }
   ],
   "source": [
    "print(f\"Total Documents Length before text split {len(documents)}\")\n",
    "print(f\"Total Documents after the text split {len(pages)}\")"
   ]
  },
  {
   "cell_type": "code",
   "execution_count": 15,
   "metadata": {},
   "outputs": [
    {
     "name": "stdout",
     "output_type": "stream",
     "text": [
      "304\n"
     ]
    }
   ],
   "source": [
    "from langchain_huggingface import HuggingFaceEmbeddings\n",
    "from langchain_community.vectorstores import FAISS\n",
    "embedding = HuggingFaceEmbeddings()\n",
    "\n",
    "db = FAISS.from_documents(documents=pages,embedding=embedding)\n",
    "print(db.index.ntotal)\n"
   ]
  },
  {
   "cell_type": "code",
   "execution_count": 18,
   "metadata": {},
   "outputs": [],
   "source": [
    "query = \"I am from India can I exchange my Indian licence to get Alberta license ?\"\n",
    "docs = db.similarity_search(query)"
   ]
  },
  {
   "cell_type": "code",
   "execution_count": 19,
   "metadata": {},
   "outputs": [
    {
     "name": "stdout",
     "output_type": "stream",
     "text": [
      "[Document(metadata={'source': 'resources/DriversGuidefinal2014.pdf', 'page': 17}, page_content='NOTE: Japanese licence exchanges \\nmust be completed at an approved \\nregistry agent office . Parental consent \\nfor applicants under 18 years of age \\nis required.  All other licence classes require testing \\nand vision screening. The applicants must disclose all medical conditions and \\nphysical disabilities that may affect their \\nability to safely operate a motor vehicle. \\nAll applicants must produce immigration \\nand residency documentation along \\nwith acceptable identification.\\nCountries without reciprocal \\nlicensing agreements\\nA person coming to Alberta from outside \\nCanada may apply to have their previous \\ndriving history credited to their Alberta \\ndriving record. A successful application \\nwill grant exemption from the Graduated \\nDriver Licensing (GDL) program and allow \\nfor Class 5 road testing without being \\nrequired to hold a Class 7 driver’s licence \\nfor one year. More information about the \\nprocess for exchanging a licence from a non-reciprocal country is available at any'), Document(metadata={'source': 'resources/DriversGuidefinal2014.pdf', 'page': 16}, page_content='class or type under a valid licence or \\npermit issued outside Alberta is not \\nrequired to hold a current and valid driver’s \\nlicence if the person drives the same type \\nor class of motor vehicle while visiting in \\nAlberta.\\nNew Alberta \\nresidents\\nFrom other places in Canada \\nPeople who have recently moved to \\nAlberta may use their valid driver’s licence \\nfrom outside of Alberta for the first 90 \\ndays of their residency. \\nThey must apply for an Alberta driver’s \\nlicence and give their old licence to an \\nAlberta registry agent office within those \\n90 days. It is illegal to hold more than one \\ndriver’s licence.\\nA driver’s licence from another \\njurisdiction within Canada is accepted as the same class without testing. Applicants \\nfor class 1, 2 or 4 licences must provide \\na medical report and pass a vision \\nscreening.\\nFrom the United States\\n• Licence holders from the United States, other than those in the \\nclass 5, 6 and 7, must complete all \\nrequirements.'), Document(metadata={'source': 'resources/DriversGuidefinal2014.pdf', 'page': 17}, page_content='will grant exemption from the Graduated \\nDriver Licensing (GDL) program and allow \\nfor Class 5 road testing without being \\nrequired to hold a Class 7 driver’s licence \\nfor one year. More information about the \\nprocess for exchanging a licence from a non-reciprocal country is available at any \\nregistry agent office.\\nStudents\\nA student is not required to obtain an \\nAlberta driver’s licence when operating a \\nmotor vehicle if the following apply:\\n• The student is authorized to operate a \\nmotor vehicle of the same type or class \\nby the laws of the jurisdiction in which \\nthe student ordinarily resides.\\n• The documents required by the laws of the jurisdiction where the student \\nordinarily resides are carried by the student or are in the vehicle.\\n• The student must carry proof showing that he or she is a full time student in \\nthis province.'), Document(metadata={'source': 'resources/DriversGuidefinal2014.pdf', 'page': 17}, page_content='LICENSING INFORMATION      17\\nCHAPTER ONEWhen you apply, you may be required \\nto provide documents to prove residency.  \\nFor details, inquire at your local registry \\nagent office.\\nCountries with reciprocal \\nlicensing agreements\\nAs of June 2014, Alberta has Reciprocal \\nLicensing Agreements with the following \\ncountries:\\n• Austria \\n• Australia\\n• Belgium \\n• England \\n• France \\n• Germany \\n• Isle of Man\\n• Japan \\n• Northern Ireland\\n• Republic of Korea \\n• Scotland \\n• Switzerland \\n• United States \\n• Wales \\nA valid licence from a country that has \\na Reciprocal Licensing Agreement with \\nAlberta can be exchanged for a Class 5 \\nlicence when the applicant presents a \\nvalid licence of equivalent class.\\nNOTE: Japanese licence exchanges \\nmust be completed at an approved \\nregistry agent office . Parental consent \\nfor applicants under 18 years of age \\nis required.  All other licence classes require testing \\nand vision screening. The applicants must disclose all medical conditions and')]\n"
     ]
    }
   ],
   "source": [
    "print(docs)"
   ]
  }
 ],
 "metadata": {
  "kernelspec": {
   "display_name": "Python 3",
   "language": "python",
   "name": "python3"
  },
  "language_info": {
   "codemirror_mode": {
    "name": "ipython",
    "version": 3
   },
   "file_extension": ".py",
   "mimetype": "text/x-python",
   "name": "python",
   "nbconvert_exporter": "python",
   "pygments_lexer": "ipython3",
   "version": "3.12.2"
  }
 },
 "nbformat": 4,
 "nbformat_minor": 2
}
